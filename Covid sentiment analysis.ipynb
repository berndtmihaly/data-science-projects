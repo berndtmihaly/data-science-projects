{
  "nbformat": 4,
  "nbformat_minor": 0,
  "metadata": {
    "colab": {
      "name": "Berndt Mihály - Thesis.ipynb",
      "provenance": [],
      "collapsed_sections": [
        "xBIfRLfGFUSh",
        "MfR8d70l3UUg",
        "JpK7BV2C9o83"
      ]
    },
    "kernelspec": {
      "name": "python3",
      "display_name": "Python 3"
    },
    "language_info": {
      "name": "python"
    },
    "accelerator": "GPU",
    "widgets": {
      "application/vnd.jupyter.widget-state+json": {
        "5a05f1cab52e4217aff7da64a5946d5c": {
          "model_module": "@jupyter-widgets/controls",
          "model_name": "HBoxModel",
          "model_module_version": "1.5.0",
          "state": {
            "_dom_classes": [],
            "_model_module": "@jupyter-widgets/controls",
            "_model_module_version": "1.5.0",
            "_model_name": "HBoxModel",
            "_view_count": null,
            "_view_module": "@jupyter-widgets/controls",
            "_view_module_version": "1.5.0",
            "_view_name": "HBoxView",
            "box_style": "",
            "children": [
              "IPY_MODEL_5a2252fcac8d4c0c8f1a24f2193cab8f",
              "IPY_MODEL_7b42205c3b67474ca1e7ab0a88967708",
              "IPY_MODEL_333d36f789544d9c9e688953f5d6292c"
            ],
            "layout": "IPY_MODEL_2eca6a24d7e44fe7b7286883b1b5ebd8"
          }
        },
        "5a2252fcac8d4c0c8f1a24f2193cab8f": {
          "model_module": "@jupyter-widgets/controls",
          "model_name": "HTMLModel",
          "model_module_version": "1.5.0",
          "state": {
            "_dom_classes": [],
            "_model_module": "@jupyter-widgets/controls",
            "_model_module_version": "1.5.0",
            "_model_name": "HTMLModel",
            "_view_count": null,
            "_view_module": "@jupyter-widgets/controls",
            "_view_module_version": "1.5.0",
            "_view_name": "HTMLView",
            "description": "",
            "description_tooltip": null,
            "layout": "IPY_MODEL_3fc051ef5d1d4960883cb44d0ef2e708",
            "placeholder": "​",
            "style": "IPY_MODEL_d5ca29e6d4a54e02b9e315659efa6d29",
            "value": "100%"
          }
        },
        "7b42205c3b67474ca1e7ab0a88967708": {
          "model_module": "@jupyter-widgets/controls",
          "model_name": "FloatProgressModel",
          "model_module_version": "1.5.0",
          "state": {
            "_dom_classes": [],
            "_model_module": "@jupyter-widgets/controls",
            "_model_module_version": "1.5.0",
            "_model_name": "FloatProgressModel",
            "_view_count": null,
            "_view_module": "@jupyter-widgets/controls",
            "_view_module_version": "1.5.0",
            "_view_name": "ProgressView",
            "bar_style": "success",
            "description": "",
            "description_tooltip": null,
            "layout": "IPY_MODEL_d0c9f6983d1d4f95b86c7d677777f990",
            "max": 44955,
            "min": 0,
            "orientation": "horizontal",
            "style": "IPY_MODEL_cdd3248cc0364d04bbb9c2c58552fa49",
            "value": 44955
          }
        },
        "333d36f789544d9c9e688953f5d6292c": {
          "model_module": "@jupyter-widgets/controls",
          "model_name": "HTMLModel",
          "model_module_version": "1.5.0",
          "state": {
            "_dom_classes": [],
            "_model_module": "@jupyter-widgets/controls",
            "_model_module_version": "1.5.0",
            "_model_name": "HTMLModel",
            "_view_count": null,
            "_view_module": "@jupyter-widgets/controls",
            "_view_module_version": "1.5.0",
            "_view_name": "HTMLView",
            "description": "",
            "description_tooltip": null,
            "layout": "IPY_MODEL_d9e5d495f15a42f99463bf07a3cfcf92",
            "placeholder": "​",
            "style": "IPY_MODEL_e24fcf4908094974a96c4dbc947d1b76",
            "value": " 44955/44955 [00:00&lt;00:00, 192006.41it/s]"
          }
        },
        "2eca6a24d7e44fe7b7286883b1b5ebd8": {
          "model_module": "@jupyter-widgets/base",
          "model_name": "LayoutModel",
          "model_module_version": "1.2.0",
          "state": {
            "_model_module": "@jupyter-widgets/base",
            "_model_module_version": "1.2.0",
            "_model_name": "LayoutModel",
            "_view_count": null,
            "_view_module": "@jupyter-widgets/base",
            "_view_module_version": "1.2.0",
            "_view_name": "LayoutView",
            "align_content": null,
            "align_items": null,
            "align_self": null,
            "border": null,
            "bottom": null,
            "display": null,
            "flex": null,
            "flex_flow": null,
            "grid_area": null,
            "grid_auto_columns": null,
            "grid_auto_flow": null,
            "grid_auto_rows": null,
            "grid_column": null,
            "grid_gap": null,
            "grid_row": null,
            "grid_template_areas": null,
            "grid_template_columns": null,
            "grid_template_rows": null,
            "height": null,
            "justify_content": null,
            "justify_items": null,
            "left": null,
            "margin": null,
            "max_height": null,
            "max_width": null,
            "min_height": null,
            "min_width": null,
            "object_fit": null,
            "object_position": null,
            "order": null,
            "overflow": null,
            "overflow_x": null,
            "overflow_y": null,
            "padding": null,
            "right": null,
            "top": null,
            "visibility": null,
            "width": null
          }
        },
        "3fc051ef5d1d4960883cb44d0ef2e708": {
          "model_module": "@jupyter-widgets/base",
          "model_name": "LayoutModel",
          "model_module_version": "1.2.0",
          "state": {
            "_model_module": "@jupyter-widgets/base",
            "_model_module_version": "1.2.0",
            "_model_name": "LayoutModel",
            "_view_count": null,
            "_view_module": "@jupyter-widgets/base",
            "_view_module_version": "1.2.0",
            "_view_name": "LayoutView",
            "align_content": null,
            "align_items": null,
            "align_self": null,
            "border": null,
            "bottom": null,
            "display": null,
            "flex": null,
            "flex_flow": null,
            "grid_area": null,
            "grid_auto_columns": null,
            "grid_auto_flow": null,
            "grid_auto_rows": null,
            "grid_column": null,
            "grid_gap": null,
            "grid_row": null,
            "grid_template_areas": null,
            "grid_template_columns": null,
            "grid_template_rows": null,
            "height": null,
            "justify_content": null,
            "justify_items": null,
            "left": null,
            "margin": null,
            "max_height": null,
            "max_width": null,
            "min_height": null,
            "min_width": null,
            "object_fit": null,
            "object_position": null,
            "order": null,
            "overflow": null,
            "overflow_x": null,
            "overflow_y": null,
            "padding": null,
            "right": null,
            "top": null,
            "visibility": null,
            "width": null
          }
        },
        "d5ca29e6d4a54e02b9e315659efa6d29": {
          "model_module": "@jupyter-widgets/controls",
          "model_name": "DescriptionStyleModel",
          "model_module_version": "1.5.0",
          "state": {
            "_model_module": "@jupyter-widgets/controls",
            "_model_module_version": "1.5.0",
            "_model_name": "DescriptionStyleModel",
            "_view_count": null,
            "_view_module": "@jupyter-widgets/base",
            "_view_module_version": "1.2.0",
            "_view_name": "StyleView",
            "description_width": ""
          }
        },
        "d0c9f6983d1d4f95b86c7d677777f990": {
          "model_module": "@jupyter-widgets/base",
          "model_name": "LayoutModel",
          "model_module_version": "1.2.0",
          "state": {
            "_model_module": "@jupyter-widgets/base",
            "_model_module_version": "1.2.0",
            "_model_name": "LayoutModel",
            "_view_count": null,
            "_view_module": "@jupyter-widgets/base",
            "_view_module_version": "1.2.0",
            "_view_name": "LayoutView",
            "align_content": null,
            "align_items": null,
            "align_self": null,
            "border": null,
            "bottom": null,
            "display": null,
            "flex": null,
            "flex_flow": null,
            "grid_area": null,
            "grid_auto_columns": null,
            "grid_auto_flow": null,
            "grid_auto_rows": null,
            "grid_column": null,
            "grid_gap": null,
            "grid_row": null,
            "grid_template_areas": null,
            "grid_template_columns": null,
            "grid_template_rows": null,
            "height": null,
            "justify_content": null,
            "justify_items": null,
            "left": null,
            "margin": null,
            "max_height": null,
            "max_width": null,
            "min_height": null,
            "min_width": null,
            "object_fit": null,
            "object_position": null,
            "order": null,
            "overflow": null,
            "overflow_x": null,
            "overflow_y": null,
            "padding": null,
            "right": null,
            "top": null,
            "visibility": null,
            "width": null
          }
        },
        "cdd3248cc0364d04bbb9c2c58552fa49": {
          "model_module": "@jupyter-widgets/controls",
          "model_name": "ProgressStyleModel",
          "model_module_version": "1.5.0",
          "state": {
            "_model_module": "@jupyter-widgets/controls",
            "_model_module_version": "1.5.0",
            "_model_name": "ProgressStyleModel",
            "_view_count": null,
            "_view_module": "@jupyter-widgets/base",
            "_view_module_version": "1.2.0",
            "_view_name": "StyleView",
            "bar_color": null,
            "description_width": ""
          }
        },
        "d9e5d495f15a42f99463bf07a3cfcf92": {
          "model_module": "@jupyter-widgets/base",
          "model_name": "LayoutModel",
          "model_module_version": "1.2.0",
          "state": {
            "_model_module": "@jupyter-widgets/base",
            "_model_module_version": "1.2.0",
            "_model_name": "LayoutModel",
            "_view_count": null,
            "_view_module": "@jupyter-widgets/base",
            "_view_module_version": "1.2.0",
            "_view_name": "LayoutView",
            "align_content": null,
            "align_items": null,
            "align_self": null,
            "border": null,
            "bottom": null,
            "display": null,
            "flex": null,
            "flex_flow": null,
            "grid_area": null,
            "grid_auto_columns": null,
            "grid_auto_flow": null,
            "grid_auto_rows": null,
            "grid_column": null,
            "grid_gap": null,
            "grid_row": null,
            "grid_template_areas": null,
            "grid_template_columns": null,
            "grid_template_rows": null,
            "height": null,
            "justify_content": null,
            "justify_items": null,
            "left": null,
            "margin": null,
            "max_height": null,
            "max_width": null,
            "min_height": null,
            "min_width": null,
            "object_fit": null,
            "object_position": null,
            "order": null,
            "overflow": null,
            "overflow_x": null,
            "overflow_y": null,
            "padding": null,
            "right": null,
            "top": null,
            "visibility": null,
            "width": null
          }
        },
        "e24fcf4908094974a96c4dbc947d1b76": {
          "model_module": "@jupyter-widgets/controls",
          "model_name": "DescriptionStyleModel",
          "model_module_version": "1.5.0",
          "state": {
            "_model_module": "@jupyter-widgets/controls",
            "_model_module_version": "1.5.0",
            "_model_name": "DescriptionStyleModel",
            "_view_count": null,
            "_view_module": "@jupyter-widgets/base",
            "_view_module_version": "1.2.0",
            "_view_name": "StyleView",
            "description_width": ""
          }
        },
        "4daf51faf39240f289704c035dcb9680": {
          "model_module": "@jupyter-widgets/controls",
          "model_name": "HBoxModel",
          "model_module_version": "1.5.0",
          "state": {
            "_dom_classes": [],
            "_model_module": "@jupyter-widgets/controls",
            "_model_module_version": "1.5.0",
            "_model_name": "HBoxModel",
            "_view_count": null,
            "_view_module": "@jupyter-widgets/controls",
            "_view_module_version": "1.5.0",
            "_view_name": "HBoxView",
            "box_style": "",
            "children": [
              "IPY_MODEL_61e9976ceec74ea5bc948e319bdda421",
              "IPY_MODEL_65fb7a9950f84c66ad6473300e36566e",
              "IPY_MODEL_c8355a851e4843f2961defd39f1471f7"
            ],
            "layout": "IPY_MODEL_2ca6425a9e294330bbc1dffccb9e9904"
          }
        },
        "61e9976ceec74ea5bc948e319bdda421": {
          "model_module": "@jupyter-widgets/controls",
          "model_name": "HTMLModel",
          "model_module_version": "1.5.0",
          "state": {
            "_dom_classes": [],
            "_model_module": "@jupyter-widgets/controls",
            "_model_module_version": "1.5.0",
            "_model_name": "HTMLModel",
            "_view_count": null,
            "_view_module": "@jupyter-widgets/controls",
            "_view_module_version": "1.5.0",
            "_view_name": "HTMLView",
            "description": "",
            "description_tooltip": null,
            "layout": "IPY_MODEL_c5166fe9cd8c4b0fb95702122801f61c",
            "placeholder": "​",
            "style": "IPY_MODEL_1b41871f6c5d4c909a820fe212b3e3a4",
            "value": "100%"
          }
        },
        "65fb7a9950f84c66ad6473300e36566e": {
          "model_module": "@jupyter-widgets/controls",
          "model_name": "FloatProgressModel",
          "model_module_version": "1.5.0",
          "state": {
            "_dom_classes": [],
            "_model_module": "@jupyter-widgets/controls",
            "_model_module_version": "1.5.0",
            "_model_name": "FloatProgressModel",
            "_view_count": null,
            "_view_module": "@jupyter-widgets/controls",
            "_view_module_version": "1.5.0",
            "_view_name": "ProgressView",
            "bar_style": "success",
            "description": "",
            "description_tooltip": null,
            "layout": "IPY_MODEL_7e61e44a945a4b79b615e1a4414b455e",
            "max": 44955,
            "min": 0,
            "orientation": "horizontal",
            "style": "IPY_MODEL_236910cda4ab4b02867ee8db94644d38",
            "value": 44955
          }
        },
        "c8355a851e4843f2961defd39f1471f7": {
          "model_module": "@jupyter-widgets/controls",
          "model_name": "HTMLModel",
          "model_module_version": "1.5.0",
          "state": {
            "_dom_classes": [],
            "_model_module": "@jupyter-widgets/controls",
            "_model_module_version": "1.5.0",
            "_model_name": "HTMLModel",
            "_view_count": null,
            "_view_module": "@jupyter-widgets/controls",
            "_view_module_version": "1.5.0",
            "_view_name": "HTMLView",
            "description": "",
            "description_tooltip": null,
            "layout": "IPY_MODEL_550dd32c997949ab8628371592d80809",
            "placeholder": "​",
            "style": "IPY_MODEL_b5652416d37f4d63880add7cb9469a58",
            "value": " 44955/44955 [00:09&lt;00:00, 5510.93it/s]"
          }
        },
        "2ca6425a9e294330bbc1dffccb9e9904": {
          "model_module": "@jupyter-widgets/base",
          "model_name": "LayoutModel",
          "model_module_version": "1.2.0",
          "state": {
            "_model_module": "@jupyter-widgets/base",
            "_model_module_version": "1.2.0",
            "_model_name": "LayoutModel",
            "_view_count": null,
            "_view_module": "@jupyter-widgets/base",
            "_view_module_version": "1.2.0",
            "_view_name": "LayoutView",
            "align_content": null,
            "align_items": null,
            "align_self": null,
            "border": null,
            "bottom": null,
            "display": null,
            "flex": null,
            "flex_flow": null,
            "grid_area": null,
            "grid_auto_columns": null,
            "grid_auto_flow": null,
            "grid_auto_rows": null,
            "grid_column": null,
            "grid_gap": null,
            "grid_row": null,
            "grid_template_areas": null,
            "grid_template_columns": null,
            "grid_template_rows": null,
            "height": null,
            "justify_content": null,
            "justify_items": null,
            "left": null,
            "margin": null,
            "max_height": null,
            "max_width": null,
            "min_height": null,
            "min_width": null,
            "object_fit": null,
            "object_position": null,
            "order": null,
            "overflow": null,
            "overflow_x": null,
            "overflow_y": null,
            "padding": null,
            "right": null,
            "top": null,
            "visibility": null,
            "width": null
          }
        },
        "c5166fe9cd8c4b0fb95702122801f61c": {
          "model_module": "@jupyter-widgets/base",
          "model_name": "LayoutModel",
          "model_module_version": "1.2.0",
          "state": {
            "_model_module": "@jupyter-widgets/base",
            "_model_module_version": "1.2.0",
            "_model_name": "LayoutModel",
            "_view_count": null,
            "_view_module": "@jupyter-widgets/base",
            "_view_module_version": "1.2.0",
            "_view_name": "LayoutView",
            "align_content": null,
            "align_items": null,
            "align_self": null,
            "border": null,
            "bottom": null,
            "display": null,
            "flex": null,
            "flex_flow": null,
            "grid_area": null,
            "grid_auto_columns": null,
            "grid_auto_flow": null,
            "grid_auto_rows": null,
            "grid_column": null,
            "grid_gap": null,
            "grid_row": null,
            "grid_template_areas": null,
            "grid_template_columns": null,
            "grid_template_rows": null,
            "height": null,
            "justify_content": null,
            "justify_items": null,
            "left": null,
            "margin": null,
            "max_height": null,
            "max_width": null,
            "min_height": null,
            "min_width": null,
            "object_fit": null,
            "object_position": null,
            "order": null,
            "overflow": null,
            "overflow_x": null,
            "overflow_y": null,
            "padding": null,
            "right": null,
            "top": null,
            "visibility": null,
            "width": null
          }
        },
        "1b41871f6c5d4c909a820fe212b3e3a4": {
          "model_module": "@jupyter-widgets/controls",
          "model_name": "DescriptionStyleModel",
          "model_module_version": "1.5.0",
          "state": {
            "_model_module": "@jupyter-widgets/controls",
            "_model_module_version": "1.5.0",
            "_model_name": "DescriptionStyleModel",
            "_view_count": null,
            "_view_module": "@jupyter-widgets/base",
            "_view_module_version": "1.2.0",
            "_view_name": "StyleView",
            "description_width": ""
          }
        },
        "7e61e44a945a4b79b615e1a4414b455e": {
          "model_module": "@jupyter-widgets/base",
          "model_name": "LayoutModel",
          "model_module_version": "1.2.0",
          "state": {
            "_model_module": "@jupyter-widgets/base",
            "_model_module_version": "1.2.0",
            "_model_name": "LayoutModel",
            "_view_count": null,
            "_view_module": "@jupyter-widgets/base",
            "_view_module_version": "1.2.0",
            "_view_name": "LayoutView",
            "align_content": null,
            "align_items": null,
            "align_self": null,
            "border": null,
            "bottom": null,
            "display": null,
            "flex": null,
            "flex_flow": null,
            "grid_area": null,
            "grid_auto_columns": null,
            "grid_auto_flow": null,
            "grid_auto_rows": null,
            "grid_column": null,
            "grid_gap": null,
            "grid_row": null,
            "grid_template_areas": null,
            "grid_template_columns": null,
            "grid_template_rows": null,
            "height": null,
            "justify_content": null,
            "justify_items": null,
            "left": null,
            "margin": null,
            "max_height": null,
            "max_width": null,
            "min_height": null,
            "min_width": null,
            "object_fit": null,
            "object_position": null,
            "order": null,
            "overflow": null,
            "overflow_x": null,
            "overflow_y": null,
            "padding": null,
            "right": null,
            "top": null,
            "visibility": null,
            "width": null
          }
        },
        "236910cda4ab4b02867ee8db94644d38": {
          "model_module": "@jupyter-widgets/controls",
          "model_name": "ProgressStyleModel",
          "model_module_version": "1.5.0",
          "state": {
            "_model_module": "@jupyter-widgets/controls",
            "_model_module_version": "1.5.0",
            "_model_name": "ProgressStyleModel",
            "_view_count": null,
            "_view_module": "@jupyter-widgets/base",
            "_view_module_version": "1.2.0",
            "_view_name": "StyleView",
            "bar_color": null,
            "description_width": ""
          }
        },
        "550dd32c997949ab8628371592d80809": {
          "model_module": "@jupyter-widgets/base",
          "model_name": "LayoutModel",
          "model_module_version": "1.2.0",
          "state": {
            "_model_module": "@jupyter-widgets/base",
            "_model_module_version": "1.2.0",
            "_model_name": "LayoutModel",
            "_view_count": null,
            "_view_module": "@jupyter-widgets/base",
            "_view_module_version": "1.2.0",
            "_view_name": "LayoutView",
            "align_content": null,
            "align_items": null,
            "align_self": null,
            "border": null,
            "bottom": null,
            "display": null,
            "flex": null,
            "flex_flow": null,
            "grid_area": null,
            "grid_auto_columns": null,
            "grid_auto_flow": null,
            "grid_auto_rows": null,
            "grid_column": null,
            "grid_gap": null,
            "grid_row": null,
            "grid_template_areas": null,
            "grid_template_columns": null,
            "grid_template_rows": null,
            "height": null,
            "justify_content": null,
            "justify_items": null,
            "left": null,
            "margin": null,
            "max_height": null,
            "max_width": null,
            "min_height": null,
            "min_width": null,
            "object_fit": null,
            "object_position": null,
            "order": null,
            "overflow": null,
            "overflow_x": null,
            "overflow_y": null,
            "padding": null,
            "right": null,
            "top": null,
            "visibility": null,
            "width": null
          }
        },
        "b5652416d37f4d63880add7cb9469a58": {
          "model_module": "@jupyter-widgets/controls",
          "model_name": "DescriptionStyleModel",
          "model_module_version": "1.5.0",
          "state": {
            "_model_module": "@jupyter-widgets/controls",
            "_model_module_version": "1.5.0",
            "_model_name": "DescriptionStyleModel",
            "_view_count": null,
            "_view_module": "@jupyter-widgets/base",
            "_view_module_version": "1.2.0",
            "_view_name": "StyleView",
            "description_width": ""
          }
        },
        "954656115cfd4af8bb83a73394740cc3": {
          "model_module": "@jupyter-widgets/controls",
          "model_name": "HBoxModel",
          "model_module_version": "1.5.0",
          "state": {
            "_dom_classes": [],
            "_model_module": "@jupyter-widgets/controls",
            "_model_module_version": "1.5.0",
            "_model_name": "HBoxModel",
            "_view_count": null,
            "_view_module": "@jupyter-widgets/controls",
            "_view_module_version": "1.5.0",
            "_view_name": "HBoxView",
            "box_style": "",
            "children": [
              "IPY_MODEL_9793a2961f674a148adfa85aed4eaeb3",
              "IPY_MODEL_3f79488532eb4d94a2ad2fb8933d2c72",
              "IPY_MODEL_5fa77e5cc7c34565bd1e41517ab60938"
            ],
            "layout": "IPY_MODEL_6b704134543a4398b6625bae6876b480"
          }
        },
        "9793a2961f674a148adfa85aed4eaeb3": {
          "model_module": "@jupyter-widgets/controls",
          "model_name": "HTMLModel",
          "model_module_version": "1.5.0",
          "state": {
            "_dom_classes": [],
            "_model_module": "@jupyter-widgets/controls",
            "_model_module_version": "1.5.0",
            "_model_name": "HTMLModel",
            "_view_count": null,
            "_view_module": "@jupyter-widgets/controls",
            "_view_module_version": "1.5.0",
            "_view_name": "HTMLView",
            "description": "",
            "description_tooltip": null,
            "layout": "IPY_MODEL_24888669f5df45f6936a5ec2db52c380",
            "placeholder": "​",
            "style": "IPY_MODEL_4fff24389d414297966fa56a46712b54",
            "value": "100%"
          }
        },
        "3f79488532eb4d94a2ad2fb8933d2c72": {
          "model_module": "@jupyter-widgets/controls",
          "model_name": "FloatProgressModel",
          "model_module_version": "1.5.0",
          "state": {
            "_dom_classes": [],
            "_model_module": "@jupyter-widgets/controls",
            "_model_module_version": "1.5.0",
            "_model_name": "FloatProgressModel",
            "_view_count": null,
            "_view_module": "@jupyter-widgets/controls",
            "_view_module_version": "1.5.0",
            "_view_name": "ProgressView",
            "bar_style": "success",
            "description": "",
            "description_tooltip": null,
            "layout": "IPY_MODEL_2c17f6fa5c9847aa9dee422111ba2fa6",
            "max": 44955,
            "min": 0,
            "orientation": "horizontal",
            "style": "IPY_MODEL_4fdd62259dec49cf92500339894dea45",
            "value": 44955
          }
        },
        "5fa77e5cc7c34565bd1e41517ab60938": {
          "model_module": "@jupyter-widgets/controls",
          "model_name": "HTMLModel",
          "model_module_version": "1.5.0",
          "state": {
            "_dom_classes": [],
            "_model_module": "@jupyter-widgets/controls",
            "_model_module_version": "1.5.0",
            "_model_name": "HTMLModel",
            "_view_count": null,
            "_view_module": "@jupyter-widgets/controls",
            "_view_module_version": "1.5.0",
            "_view_name": "HTMLView",
            "description": "",
            "description_tooltip": null,
            "layout": "IPY_MODEL_9347075a91324560b1d5fa2a3696bb35",
            "placeholder": "​",
            "style": "IPY_MODEL_c068e77eab674ebeacec252b92ec5502",
            "value": " 44955/44955 [00:00&lt;00:00, 131918.01it/s]"
          }
        },
        "6b704134543a4398b6625bae6876b480": {
          "model_module": "@jupyter-widgets/base",
          "model_name": "LayoutModel",
          "model_module_version": "1.2.0",
          "state": {
            "_model_module": "@jupyter-widgets/base",
            "_model_module_version": "1.2.0",
            "_model_name": "LayoutModel",
            "_view_count": null,
            "_view_module": "@jupyter-widgets/base",
            "_view_module_version": "1.2.0",
            "_view_name": "LayoutView",
            "align_content": null,
            "align_items": null,
            "align_self": null,
            "border": null,
            "bottom": null,
            "display": null,
            "flex": null,
            "flex_flow": null,
            "grid_area": null,
            "grid_auto_columns": null,
            "grid_auto_flow": null,
            "grid_auto_rows": null,
            "grid_column": null,
            "grid_gap": null,
            "grid_row": null,
            "grid_template_areas": null,
            "grid_template_columns": null,
            "grid_template_rows": null,
            "height": null,
            "justify_content": null,
            "justify_items": null,
            "left": null,
            "margin": null,
            "max_height": null,
            "max_width": null,
            "min_height": null,
            "min_width": null,
            "object_fit": null,
            "object_position": null,
            "order": null,
            "overflow": null,
            "overflow_x": null,
            "overflow_y": null,
            "padding": null,
            "right": null,
            "top": null,
            "visibility": null,
            "width": null
          }
        },
        "24888669f5df45f6936a5ec2db52c380": {
          "model_module": "@jupyter-widgets/base",
          "model_name": "LayoutModel",
          "model_module_version": "1.2.0",
          "state": {
            "_model_module": "@jupyter-widgets/base",
            "_model_module_version": "1.2.0",
            "_model_name": "LayoutModel",
            "_view_count": null,
            "_view_module": "@jupyter-widgets/base",
            "_view_module_version": "1.2.0",
            "_view_name": "LayoutView",
            "align_content": null,
            "align_items": null,
            "align_self": null,
            "border": null,
            "bottom": null,
            "display": null,
            "flex": null,
            "flex_flow": null,
            "grid_area": null,
            "grid_auto_columns": null,
            "grid_auto_flow": null,
            "grid_auto_rows": null,
            "grid_column": null,
            "grid_gap": null,
            "grid_row": null,
            "grid_template_areas": null,
            "grid_template_columns": null,
            "grid_template_rows": null,
            "height": null,
            "justify_content": null,
            "justify_items": null,
            "left": null,
            "margin": null,
            "max_height": null,
            "max_width": null,
            "min_height": null,
            "min_width": null,
            "object_fit": null,
            "object_position": null,
            "order": null,
            "overflow": null,
            "overflow_x": null,
            "overflow_y": null,
            "padding": null,
            "right": null,
            "top": null,
            "visibility": null,
            "width": null
          }
        },
        "4fff24389d414297966fa56a46712b54": {
          "model_module": "@jupyter-widgets/controls",
          "model_name": "DescriptionStyleModel",
          "model_module_version": "1.5.0",
          "state": {
            "_model_module": "@jupyter-widgets/controls",
            "_model_module_version": "1.5.0",
            "_model_name": "DescriptionStyleModel",
            "_view_count": null,
            "_view_module": "@jupyter-widgets/base",
            "_view_module_version": "1.2.0",
            "_view_name": "StyleView",
            "description_width": ""
          }
        },
        "2c17f6fa5c9847aa9dee422111ba2fa6": {
          "model_module": "@jupyter-widgets/base",
          "model_name": "LayoutModel",
          "model_module_version": "1.2.0",
          "state": {
            "_model_module": "@jupyter-widgets/base",
            "_model_module_version": "1.2.0",
            "_model_name": "LayoutModel",
            "_view_count": null,
            "_view_module": "@jupyter-widgets/base",
            "_view_module_version": "1.2.0",
            "_view_name": "LayoutView",
            "align_content": null,
            "align_items": null,
            "align_self": null,
            "border": null,
            "bottom": null,
            "display": null,
            "flex": null,
            "flex_flow": null,
            "grid_area": null,
            "grid_auto_columns": null,
            "grid_auto_flow": null,
            "grid_auto_rows": null,
            "grid_column": null,
            "grid_gap": null,
            "grid_row": null,
            "grid_template_areas": null,
            "grid_template_columns": null,
            "grid_template_rows": null,
            "height": null,
            "justify_content": null,
            "justify_items": null,
            "left": null,
            "margin": null,
            "max_height": null,
            "max_width": null,
            "min_height": null,
            "min_width": null,
            "object_fit": null,
            "object_position": null,
            "order": null,
            "overflow": null,
            "overflow_x": null,
            "overflow_y": null,
            "padding": null,
            "right": null,
            "top": null,
            "visibility": null,
            "width": null
          }
        },
        "4fdd62259dec49cf92500339894dea45": {
          "model_module": "@jupyter-widgets/controls",
          "model_name": "ProgressStyleModel",
          "model_module_version": "1.5.0",
          "state": {
            "_model_module": "@jupyter-widgets/controls",
            "_model_module_version": "1.5.0",
            "_model_name": "ProgressStyleModel",
            "_view_count": null,
            "_view_module": "@jupyter-widgets/base",
            "_view_module_version": "1.2.0",
            "_view_name": "StyleView",
            "bar_color": null,
            "description_width": ""
          }
        },
        "9347075a91324560b1d5fa2a3696bb35": {
          "model_module": "@jupyter-widgets/base",
          "model_name": "LayoutModel",
          "model_module_version": "1.2.0",
          "state": {
            "_model_module": "@jupyter-widgets/base",
            "_model_module_version": "1.2.0",
            "_model_name": "LayoutModel",
            "_view_count": null,
            "_view_module": "@jupyter-widgets/base",
            "_view_module_version": "1.2.0",
            "_view_name": "LayoutView",
            "align_content": null,
            "align_items": null,
            "align_self": null,
            "border": null,
            "bottom": null,
            "display": null,
            "flex": null,
            "flex_flow": null,
            "grid_area": null,
            "grid_auto_columns": null,
            "grid_auto_flow": null,
            "grid_auto_rows": null,
            "grid_column": null,
            "grid_gap": null,
            "grid_row": null,
            "grid_template_areas": null,
            "grid_template_columns": null,
            "grid_template_rows": null,
            "height": null,
            "justify_content": null,
            "justify_items": null,
            "left": null,
            "margin": null,
            "max_height": null,
            "max_width": null,
            "min_height": null,
            "min_width": null,
            "object_fit": null,
            "object_position": null,
            "order": null,
            "overflow": null,
            "overflow_x": null,
            "overflow_y": null,
            "padding": null,
            "right": null,
            "top": null,
            "visibility": null,
            "width": null
          }
        },
        "c068e77eab674ebeacec252b92ec5502": {
          "model_module": "@jupyter-widgets/controls",
          "model_name": "DescriptionStyleModel",
          "model_module_version": "1.5.0",
          "state": {
            "_model_module": "@jupyter-widgets/controls",
            "_model_module_version": "1.5.0",
            "_model_name": "DescriptionStyleModel",
            "_view_count": null,
            "_view_module": "@jupyter-widgets/base",
            "_view_module_version": "1.2.0",
            "_view_name": "StyleView",
            "description_width": ""
          }
        },
        "ec3cb4ae05cb492b9ab318f7aecc535a": {
          "model_module": "@jupyter-widgets/controls",
          "model_name": "HBoxModel",
          "model_module_version": "1.5.0",
          "state": {
            "_dom_classes": [],
            "_model_module": "@jupyter-widgets/controls",
            "_model_module_version": "1.5.0",
            "_model_name": "HBoxModel",
            "_view_count": null,
            "_view_module": "@jupyter-widgets/controls",
            "_view_module_version": "1.5.0",
            "_view_name": "HBoxView",
            "box_style": "",
            "children": [
              "IPY_MODEL_0190062ccd6c46efb23273952978717a",
              "IPY_MODEL_8e934e9513004e86928288a207708708",
              "IPY_MODEL_01e6c1807ff84ac693f82a761b0f818d"
            ],
            "layout": "IPY_MODEL_310517cf01214250af8f0d21da9bb805"
          }
        },
        "0190062ccd6c46efb23273952978717a": {
          "model_module": "@jupyter-widgets/controls",
          "model_name": "HTMLModel",
          "model_module_version": "1.5.0",
          "state": {
            "_dom_classes": [],
            "_model_module": "@jupyter-widgets/controls",
            "_model_module_version": "1.5.0",
            "_model_name": "HTMLModel",
            "_view_count": null,
            "_view_module": "@jupyter-widgets/controls",
            "_view_module_version": "1.5.0",
            "_view_name": "HTMLView",
            "description": "",
            "description_tooltip": null,
            "layout": "IPY_MODEL_566394fe69ca40579f489acc02100e25",
            "placeholder": "​",
            "style": "IPY_MODEL_2279b6c3c5e04c5ca0b19456730a1585",
            "value": "100%"
          }
        },
        "8e934e9513004e86928288a207708708": {
          "model_module": "@jupyter-widgets/controls",
          "model_name": "FloatProgressModel",
          "model_module_version": "1.5.0",
          "state": {
            "_dom_classes": [],
            "_model_module": "@jupyter-widgets/controls",
            "_model_module_version": "1.5.0",
            "_model_name": "FloatProgressModel",
            "_view_count": null,
            "_view_module": "@jupyter-widgets/controls",
            "_view_module_version": "1.5.0",
            "_view_name": "ProgressView",
            "bar_style": "success",
            "description": "",
            "description_tooltip": null,
            "layout": "IPY_MODEL_0dec4fe08e174f08aebe42587694e415",
            "max": 44955,
            "min": 0,
            "orientation": "horizontal",
            "style": "IPY_MODEL_15bd3203bb324c3ea5414eea44c639b3",
            "value": 44955
          }
        },
        "01e6c1807ff84ac693f82a761b0f818d": {
          "model_module": "@jupyter-widgets/controls",
          "model_name": "HTMLModel",
          "model_module_version": "1.5.0",
          "state": {
            "_dom_classes": [],
            "_model_module": "@jupyter-widgets/controls",
            "_model_module_version": "1.5.0",
            "_model_name": "HTMLModel",
            "_view_count": null,
            "_view_module": "@jupyter-widgets/controls",
            "_view_module_version": "1.5.0",
            "_view_name": "HTMLView",
            "description": "",
            "description_tooltip": null,
            "layout": "IPY_MODEL_71d4d5951edb4615aec2951bd14f91ab",
            "placeholder": "​",
            "style": "IPY_MODEL_41f3a462fc6c4f5b954c67b6fce05ceb",
            "value": " 44955/44955 [00:00&lt;00:00, 124666.60it/s]"
          }
        },
        "310517cf01214250af8f0d21da9bb805": {
          "model_module": "@jupyter-widgets/base",
          "model_name": "LayoutModel",
          "model_module_version": "1.2.0",
          "state": {
            "_model_module": "@jupyter-widgets/base",
            "_model_module_version": "1.2.0",
            "_model_name": "LayoutModel",
            "_view_count": null,
            "_view_module": "@jupyter-widgets/base",
            "_view_module_version": "1.2.0",
            "_view_name": "LayoutView",
            "align_content": null,
            "align_items": null,
            "align_self": null,
            "border": null,
            "bottom": null,
            "display": null,
            "flex": null,
            "flex_flow": null,
            "grid_area": null,
            "grid_auto_columns": null,
            "grid_auto_flow": null,
            "grid_auto_rows": null,
            "grid_column": null,
            "grid_gap": null,
            "grid_row": null,
            "grid_template_areas": null,
            "grid_template_columns": null,
            "grid_template_rows": null,
            "height": null,
            "justify_content": null,
            "justify_items": null,
            "left": null,
            "margin": null,
            "max_height": null,
            "max_width": null,
            "min_height": null,
            "min_width": null,
            "object_fit": null,
            "object_position": null,
            "order": null,
            "overflow": null,
            "overflow_x": null,
            "overflow_y": null,
            "padding": null,
            "right": null,
            "top": null,
            "visibility": null,
            "width": null
          }
        },
        "566394fe69ca40579f489acc02100e25": {
          "model_module": "@jupyter-widgets/base",
          "model_name": "LayoutModel",
          "model_module_version": "1.2.0",
          "state": {
            "_model_module": "@jupyter-widgets/base",
            "_model_module_version": "1.2.0",
            "_model_name": "LayoutModel",
            "_view_count": null,
            "_view_module": "@jupyter-widgets/base",
            "_view_module_version": "1.2.0",
            "_view_name": "LayoutView",
            "align_content": null,
            "align_items": null,
            "align_self": null,
            "border": null,
            "bottom": null,
            "display": null,
            "flex": null,
            "flex_flow": null,
            "grid_area": null,
            "grid_auto_columns": null,
            "grid_auto_flow": null,
            "grid_auto_rows": null,
            "grid_column": null,
            "grid_gap": null,
            "grid_row": null,
            "grid_template_areas": null,
            "grid_template_columns": null,
            "grid_template_rows": null,
            "height": null,
            "justify_content": null,
            "justify_items": null,
            "left": null,
            "margin": null,
            "max_height": null,
            "max_width": null,
            "min_height": null,
            "min_width": null,
            "object_fit": null,
            "object_position": null,
            "order": null,
            "overflow": null,
            "overflow_x": null,
            "overflow_y": null,
            "padding": null,
            "right": null,
            "top": null,
            "visibility": null,
            "width": null
          }
        },
        "2279b6c3c5e04c5ca0b19456730a1585": {
          "model_module": "@jupyter-widgets/controls",
          "model_name": "DescriptionStyleModel",
          "model_module_version": "1.5.0",
          "state": {
            "_model_module": "@jupyter-widgets/controls",
            "_model_module_version": "1.5.0",
            "_model_name": "DescriptionStyleModel",
            "_view_count": null,
            "_view_module": "@jupyter-widgets/base",
            "_view_module_version": "1.2.0",
            "_view_name": "StyleView",
            "description_width": ""
          }
        },
        "0dec4fe08e174f08aebe42587694e415": {
          "model_module": "@jupyter-widgets/base",
          "model_name": "LayoutModel",
          "model_module_version": "1.2.0",
          "state": {
            "_model_module": "@jupyter-widgets/base",
            "_model_module_version": "1.2.0",
            "_model_name": "LayoutModel",
            "_view_count": null,
            "_view_module": "@jupyter-widgets/base",
            "_view_module_version": "1.2.0",
            "_view_name": "LayoutView",
            "align_content": null,
            "align_items": null,
            "align_self": null,
            "border": null,
            "bottom": null,
            "display": null,
            "flex": null,
            "flex_flow": null,
            "grid_area": null,
            "grid_auto_columns": null,
            "grid_auto_flow": null,
            "grid_auto_rows": null,
            "grid_column": null,
            "grid_gap": null,
            "grid_row": null,
            "grid_template_areas": null,
            "grid_template_columns": null,
            "grid_template_rows": null,
            "height": null,
            "justify_content": null,
            "justify_items": null,
            "left": null,
            "margin": null,
            "max_height": null,
            "max_width": null,
            "min_height": null,
            "min_width": null,
            "object_fit": null,
            "object_position": null,
            "order": null,
            "overflow": null,
            "overflow_x": null,
            "overflow_y": null,
            "padding": null,
            "right": null,
            "top": null,
            "visibility": null,
            "width": null
          }
        },
        "15bd3203bb324c3ea5414eea44c639b3": {
          "model_module": "@jupyter-widgets/controls",
          "model_name": "ProgressStyleModel",
          "model_module_version": "1.5.0",
          "state": {
            "_model_module": "@jupyter-widgets/controls",
            "_model_module_version": "1.5.0",
            "_model_name": "ProgressStyleModel",
            "_view_count": null,
            "_view_module": "@jupyter-widgets/base",
            "_view_module_version": "1.2.0",
            "_view_name": "StyleView",
            "bar_color": null,
            "description_width": ""
          }
        },
        "71d4d5951edb4615aec2951bd14f91ab": {
          "model_module": "@jupyter-widgets/base",
          "model_name": "LayoutModel",
          "model_module_version": "1.2.0",
          "state": {
            "_model_module": "@jupyter-widgets/base",
            "_model_module_version": "1.2.0",
            "_model_name": "LayoutModel",
            "_view_count": null,
            "_view_module": "@jupyter-widgets/base",
            "_view_module_version": "1.2.0",
            "_view_name": "LayoutView",
            "align_content": null,
            "align_items": null,
            "align_self": null,
            "border": null,
            "bottom": null,
            "display": null,
            "flex": null,
            "flex_flow": null,
            "grid_area": null,
            "grid_auto_columns": null,
            "grid_auto_flow": null,
            "grid_auto_rows": null,
            "grid_column": null,
            "grid_gap": null,
            "grid_row": null,
            "grid_template_areas": null,
            "grid_template_columns": null,
            "grid_template_rows": null,
            "height": null,
            "justify_content": null,
            "justify_items": null,
            "left": null,
            "margin": null,
            "max_height": null,
            "max_width": null,
            "min_height": null,
            "min_width": null,
            "object_fit": null,
            "object_position": null,
            "order": null,
            "overflow": null,
            "overflow_x": null,
            "overflow_y": null,
            "padding": null,
            "right": null,
            "top": null,
            "visibility": null,
            "width": null
          }
        },
        "41f3a462fc6c4f5b954c67b6fce05ceb": {
          "model_module": "@jupyter-widgets/controls",
          "model_name": "DescriptionStyleModel",
          "model_module_version": "1.5.0",
          "state": {
            "_model_module": "@jupyter-widgets/controls",
            "_model_module_version": "1.5.0",
            "_model_name": "DescriptionStyleModel",
            "_view_count": null,
            "_view_module": "@jupyter-widgets/base",
            "_view_module_version": "1.2.0",
            "_view_name": "StyleView",
            "description_width": ""
          }
        },
        "8a869bc8538349f5a8dec47ee8468c32": {
          "model_module": "@jupyter-widgets/controls",
          "model_name": "HBoxModel",
          "model_module_version": "1.5.0",
          "state": {
            "_dom_classes": [],
            "_model_module": "@jupyter-widgets/controls",
            "_model_module_version": "1.5.0",
            "_model_name": "HBoxModel",
            "_view_count": null,
            "_view_module": "@jupyter-widgets/controls",
            "_view_module_version": "1.5.0",
            "_view_name": "HBoxView",
            "box_style": "",
            "children": [
              "IPY_MODEL_53a8a187ff434006875b4ee1e0e57def",
              "IPY_MODEL_1f77c9eee0a7426896c31cdcbfdb141a",
              "IPY_MODEL_8185212ca90245299d1937234dedd3f5"
            ],
            "layout": "IPY_MODEL_11200f9255024e16926195a0b57d9665"
          }
        },
        "53a8a187ff434006875b4ee1e0e57def": {
          "model_module": "@jupyter-widgets/controls",
          "model_name": "HTMLModel",
          "model_module_version": "1.5.0",
          "state": {
            "_dom_classes": [],
            "_model_module": "@jupyter-widgets/controls",
            "_model_module_version": "1.5.0",
            "_model_name": "HTMLModel",
            "_view_count": null,
            "_view_module": "@jupyter-widgets/controls",
            "_view_module_version": "1.5.0",
            "_view_name": "HTMLView",
            "description": "",
            "description_tooltip": null,
            "layout": "IPY_MODEL_315051d39c6444f4836f8673c726b959",
            "placeholder": "​",
            "style": "IPY_MODEL_fe2fec1b64da4724b486105f3880c0cf",
            "value": "100%"
          }
        },
        "1f77c9eee0a7426896c31cdcbfdb141a": {
          "model_module": "@jupyter-widgets/controls",
          "model_name": "FloatProgressModel",
          "model_module_version": "1.5.0",
          "state": {
            "_dom_classes": [],
            "_model_module": "@jupyter-widgets/controls",
            "_model_module_version": "1.5.0",
            "_model_name": "FloatProgressModel",
            "_view_count": null,
            "_view_module": "@jupyter-widgets/controls",
            "_view_module_version": "1.5.0",
            "_view_name": "ProgressView",
            "bar_style": "success",
            "description": "",
            "description_tooltip": null,
            "layout": "IPY_MODEL_2972cf46b9804004a5a87935202bd9aa",
            "max": 44955,
            "min": 0,
            "orientation": "horizontal",
            "style": "IPY_MODEL_e2546f14333a4c25ba1f3e6f5f2b21ac",
            "value": 44955
          }
        },
        "8185212ca90245299d1937234dedd3f5": {
          "model_module": "@jupyter-widgets/controls",
          "model_name": "HTMLModel",
          "model_module_version": "1.5.0",
          "state": {
            "_dom_classes": [],
            "_model_module": "@jupyter-widgets/controls",
            "_model_module_version": "1.5.0",
            "_model_name": "HTMLModel",
            "_view_count": null,
            "_view_module": "@jupyter-widgets/controls",
            "_view_module_version": "1.5.0",
            "_view_name": "HTMLView",
            "description": "",
            "description_tooltip": null,
            "layout": "IPY_MODEL_ac7bd30ad7214b0fa44c60dbb0006b3d",
            "placeholder": "​",
            "style": "IPY_MODEL_0dcce048198540c7827bc46429d4b7b5",
            "value": " 44955/44955 [00:00&lt;00:00, 661826.17it/s]"
          }
        },
        "11200f9255024e16926195a0b57d9665": {
          "model_module": "@jupyter-widgets/base",
          "model_name": "LayoutModel",
          "model_module_version": "1.2.0",
          "state": {
            "_model_module": "@jupyter-widgets/base",
            "_model_module_version": "1.2.0",
            "_model_name": "LayoutModel",
            "_view_count": null,
            "_view_module": "@jupyter-widgets/base",
            "_view_module_version": "1.2.0",
            "_view_name": "LayoutView",
            "align_content": null,
            "align_items": null,
            "align_self": null,
            "border": null,
            "bottom": null,
            "display": null,
            "flex": null,
            "flex_flow": null,
            "grid_area": null,
            "grid_auto_columns": null,
            "grid_auto_flow": null,
            "grid_auto_rows": null,
            "grid_column": null,
            "grid_gap": null,
            "grid_row": null,
            "grid_template_areas": null,
            "grid_template_columns": null,
            "grid_template_rows": null,
            "height": null,
            "justify_content": null,
            "justify_items": null,
            "left": null,
            "margin": null,
            "max_height": null,
            "max_width": null,
            "min_height": null,
            "min_width": null,
            "object_fit": null,
            "object_position": null,
            "order": null,
            "overflow": null,
            "overflow_x": null,
            "overflow_y": null,
            "padding": null,
            "right": null,
            "top": null,
            "visibility": null,
            "width": null
          }
        },
        "315051d39c6444f4836f8673c726b959": {
          "model_module": "@jupyter-widgets/base",
          "model_name": "LayoutModel",
          "model_module_version": "1.2.0",
          "state": {
            "_model_module": "@jupyter-widgets/base",
            "_model_module_version": "1.2.0",
            "_model_name": "LayoutModel",
            "_view_count": null,
            "_view_module": "@jupyter-widgets/base",
            "_view_module_version": "1.2.0",
            "_view_name": "LayoutView",
            "align_content": null,
            "align_items": null,
            "align_self": null,
            "border": null,
            "bottom": null,
            "display": null,
            "flex": null,
            "flex_flow": null,
            "grid_area": null,
            "grid_auto_columns": null,
            "grid_auto_flow": null,
            "grid_auto_rows": null,
            "grid_column": null,
            "grid_gap": null,
            "grid_row": null,
            "grid_template_areas": null,
            "grid_template_columns": null,
            "grid_template_rows": null,
            "height": null,
            "justify_content": null,
            "justify_items": null,
            "left": null,
            "margin": null,
            "max_height": null,
            "max_width": null,
            "min_height": null,
            "min_width": null,
            "object_fit": null,
            "object_position": null,
            "order": null,
            "overflow": null,
            "overflow_x": null,
            "overflow_y": null,
            "padding": null,
            "right": null,
            "top": null,
            "visibility": null,
            "width": null
          }
        },
        "fe2fec1b64da4724b486105f3880c0cf": {
          "model_module": "@jupyter-widgets/controls",
          "model_name": "DescriptionStyleModel",
          "model_module_version": "1.5.0",
          "state": {
            "_model_module": "@jupyter-widgets/controls",
            "_model_module_version": "1.5.0",
            "_model_name": "DescriptionStyleModel",
            "_view_count": null,
            "_view_module": "@jupyter-widgets/base",
            "_view_module_version": "1.2.0",
            "_view_name": "StyleView",
            "description_width": ""
          }
        },
        "2972cf46b9804004a5a87935202bd9aa": {
          "model_module": "@jupyter-widgets/base",
          "model_name": "LayoutModel",
          "model_module_version": "1.2.0",
          "state": {
            "_model_module": "@jupyter-widgets/base",
            "_model_module_version": "1.2.0",
            "_model_name": "LayoutModel",
            "_view_count": null,
            "_view_module": "@jupyter-widgets/base",
            "_view_module_version": "1.2.0",
            "_view_name": "LayoutView",
            "align_content": null,
            "align_items": null,
            "align_self": null,
            "border": null,
            "bottom": null,
            "display": null,
            "flex": null,
            "flex_flow": null,
            "grid_area": null,
            "grid_auto_columns": null,
            "grid_auto_flow": null,
            "grid_auto_rows": null,
            "grid_column": null,
            "grid_gap": null,
            "grid_row": null,
            "grid_template_areas": null,
            "grid_template_columns": null,
            "grid_template_rows": null,
            "height": null,
            "justify_content": null,
            "justify_items": null,
            "left": null,
            "margin": null,
            "max_height": null,
            "max_width": null,
            "min_height": null,
            "min_width": null,
            "object_fit": null,
            "object_position": null,
            "order": null,
            "overflow": null,
            "overflow_x": null,
            "overflow_y": null,
            "padding": null,
            "right": null,
            "top": null,
            "visibility": null,
            "width": null
          }
        },
        "e2546f14333a4c25ba1f3e6f5f2b21ac": {
          "model_module": "@jupyter-widgets/controls",
          "model_name": "ProgressStyleModel",
          "model_module_version": "1.5.0",
          "state": {
            "_model_module": "@jupyter-widgets/controls",
            "_model_module_version": "1.5.0",
            "_model_name": "ProgressStyleModel",
            "_view_count": null,
            "_view_module": "@jupyter-widgets/base",
            "_view_module_version": "1.2.0",
            "_view_name": "StyleView",
            "bar_color": null,
            "description_width": ""
          }
        },
        "ac7bd30ad7214b0fa44c60dbb0006b3d": {
          "model_module": "@jupyter-widgets/base",
          "model_name": "LayoutModel",
          "model_module_version": "1.2.0",
          "state": {
            "_model_module": "@jupyter-widgets/base",
            "_model_module_version": "1.2.0",
            "_model_name": "LayoutModel",
            "_view_count": null,
            "_view_module": "@jupyter-widgets/base",
            "_view_module_version": "1.2.0",
            "_view_name": "LayoutView",
            "align_content": null,
            "align_items": null,
            "align_self": null,
            "border": null,
            "bottom": null,
            "display": null,
            "flex": null,
            "flex_flow": null,
            "grid_area": null,
            "grid_auto_columns": null,
            "grid_auto_flow": null,
            "grid_auto_rows": null,
            "grid_column": null,
            "grid_gap": null,
            "grid_row": null,
            "grid_template_areas": null,
            "grid_template_columns": null,
            "grid_template_rows": null,
            "height": null,
            "justify_content": null,
            "justify_items": null,
            "left": null,
            "margin": null,
            "max_height": null,
            "max_width": null,
            "min_height": null,
            "min_width": null,
            "object_fit": null,
            "object_position": null,
            "order": null,
            "overflow": null,
            "overflow_x": null,
            "overflow_y": null,
            "padding": null,
            "right": null,
            "top": null,
            "visibility": null,
            "width": null
          }
        },
        "0dcce048198540c7827bc46429d4b7b5": {
          "model_module": "@jupyter-widgets/controls",
          "model_name": "DescriptionStyleModel",
          "model_module_version": "1.5.0",
          "state": {
            "_model_module": "@jupyter-widgets/controls",
            "_model_module_version": "1.5.0",
            "_model_name": "DescriptionStyleModel",
            "_view_count": null,
            "_view_module": "@jupyter-widgets/base",
            "_view_module_version": "1.2.0",
            "_view_name": "StyleView",
            "description_width": ""
          }
        },
        "931ce2698fa6456688769957c138c210": {
          "model_module": "@jupyter-widgets/controls",
          "model_name": "HBoxModel",
          "model_module_version": "1.5.0",
          "state": {
            "_dom_classes": [],
            "_model_module": "@jupyter-widgets/controls",
            "_model_module_version": "1.5.0",
            "_model_name": "HBoxModel",
            "_view_count": null,
            "_view_module": "@jupyter-widgets/controls",
            "_view_module_version": "1.5.0",
            "_view_name": "HBoxView",
            "box_style": "",
            "children": [
              "IPY_MODEL_add3287b4c064769b66945666f12ba3b",
              "IPY_MODEL_3c55dd184aa0421daeb892a28354d3dc",
              "IPY_MODEL_3742c3b66b494e46a02d9f9185b01fa5"
            ],
            "layout": "IPY_MODEL_92a497febbc54078bfcce063ce9364af"
          }
        },
        "add3287b4c064769b66945666f12ba3b": {
          "model_module": "@jupyter-widgets/controls",
          "model_name": "HTMLModel",
          "model_module_version": "1.5.0",
          "state": {
            "_dom_classes": [],
            "_model_module": "@jupyter-widgets/controls",
            "_model_module_version": "1.5.0",
            "_model_name": "HTMLModel",
            "_view_count": null,
            "_view_module": "@jupyter-widgets/controls",
            "_view_module_version": "1.5.0",
            "_view_name": "HTMLView",
            "description": "",
            "description_tooltip": null,
            "layout": "IPY_MODEL_9a07b1a7868f43e78cb1eb67a42c4200",
            "placeholder": "​",
            "style": "IPY_MODEL_00df413fe68d4a548bb787359018189e",
            "value": "100%"
          }
        },
        "3c55dd184aa0421daeb892a28354d3dc": {
          "model_module": "@jupyter-widgets/controls",
          "model_name": "FloatProgressModel",
          "model_module_version": "1.5.0",
          "state": {
            "_dom_classes": [],
            "_model_module": "@jupyter-widgets/controls",
            "_model_module_version": "1.5.0",
            "_model_name": "FloatProgressModel",
            "_view_count": null,
            "_view_module": "@jupyter-widgets/controls",
            "_view_module_version": "1.5.0",
            "_view_name": "ProgressView",
            "bar_style": "success",
            "description": "",
            "description_tooltip": null,
            "layout": "IPY_MODEL_c546e42c5b5146d69dadd54652b61c13",
            "max": 44955,
            "min": 0,
            "orientation": "horizontal",
            "style": "IPY_MODEL_6d55a7aae0494407b70aff5b74e755f4",
            "value": 44955
          }
        },
        "3742c3b66b494e46a02d9f9185b01fa5": {
          "model_module": "@jupyter-widgets/controls",
          "model_name": "HTMLModel",
          "model_module_version": "1.5.0",
          "state": {
            "_dom_classes": [],
            "_model_module": "@jupyter-widgets/controls",
            "_model_module_version": "1.5.0",
            "_model_name": "HTMLModel",
            "_view_count": null,
            "_view_module": "@jupyter-widgets/controls",
            "_view_module_version": "1.5.0",
            "_view_name": "HTMLView",
            "description": "",
            "description_tooltip": null,
            "layout": "IPY_MODEL_37b3c1df860f449095b380a6796d0adb",
            "placeholder": "​",
            "style": "IPY_MODEL_b9c89f826d45412d9bcd664b0b634195",
            "value": " 44955/44955 [00:00&lt;00:00, 177308.17it/s]"
          }
        },
        "92a497febbc54078bfcce063ce9364af": {
          "model_module": "@jupyter-widgets/base",
          "model_name": "LayoutModel",
          "model_module_version": "1.2.0",
          "state": {
            "_model_module": "@jupyter-widgets/base",
            "_model_module_version": "1.2.0",
            "_model_name": "LayoutModel",
            "_view_count": null,
            "_view_module": "@jupyter-widgets/base",
            "_view_module_version": "1.2.0",
            "_view_name": "LayoutView",
            "align_content": null,
            "align_items": null,
            "align_self": null,
            "border": null,
            "bottom": null,
            "display": null,
            "flex": null,
            "flex_flow": null,
            "grid_area": null,
            "grid_auto_columns": null,
            "grid_auto_flow": null,
            "grid_auto_rows": null,
            "grid_column": null,
            "grid_gap": null,
            "grid_row": null,
            "grid_template_areas": null,
            "grid_template_columns": null,
            "grid_template_rows": null,
            "height": null,
            "justify_content": null,
            "justify_items": null,
            "left": null,
            "margin": null,
            "max_height": null,
            "max_width": null,
            "min_height": null,
            "min_width": null,
            "object_fit": null,
            "object_position": null,
            "order": null,
            "overflow": null,
            "overflow_x": null,
            "overflow_y": null,
            "padding": null,
            "right": null,
            "top": null,
            "visibility": null,
            "width": null
          }
        },
        "9a07b1a7868f43e78cb1eb67a42c4200": {
          "model_module": "@jupyter-widgets/base",
          "model_name": "LayoutModel",
          "model_module_version": "1.2.0",
          "state": {
            "_model_module": "@jupyter-widgets/base",
            "_model_module_version": "1.2.0",
            "_model_name": "LayoutModel",
            "_view_count": null,
            "_view_module": "@jupyter-widgets/base",
            "_view_module_version": "1.2.0",
            "_view_name": "LayoutView",
            "align_content": null,
            "align_items": null,
            "align_self": null,
            "border": null,
            "bottom": null,
            "display": null,
            "flex": null,
            "flex_flow": null,
            "grid_area": null,
            "grid_auto_columns": null,
            "grid_auto_flow": null,
            "grid_auto_rows": null,
            "grid_column": null,
            "grid_gap": null,
            "grid_row": null,
            "grid_template_areas": null,
            "grid_template_columns": null,
            "grid_template_rows": null,
            "height": null,
            "justify_content": null,
            "justify_items": null,
            "left": null,
            "margin": null,
            "max_height": null,
            "max_width": null,
            "min_height": null,
            "min_width": null,
            "object_fit": null,
            "object_position": null,
            "order": null,
            "overflow": null,
            "overflow_x": null,
            "overflow_y": null,
            "padding": null,
            "right": null,
            "top": null,
            "visibility": null,
            "width": null
          }
        },
        "00df413fe68d4a548bb787359018189e": {
          "model_module": "@jupyter-widgets/controls",
          "model_name": "DescriptionStyleModel",
          "model_module_version": "1.5.0",
          "state": {
            "_model_module": "@jupyter-widgets/controls",
            "_model_module_version": "1.5.0",
            "_model_name": "DescriptionStyleModel",
            "_view_count": null,
            "_view_module": "@jupyter-widgets/base",
            "_view_module_version": "1.2.0",
            "_view_name": "StyleView",
            "description_width": ""
          }
        },
        "c546e42c5b5146d69dadd54652b61c13": {
          "model_module": "@jupyter-widgets/base",
          "model_name": "LayoutModel",
          "model_module_version": "1.2.0",
          "state": {
            "_model_module": "@jupyter-widgets/base",
            "_model_module_version": "1.2.0",
            "_model_name": "LayoutModel",
            "_view_count": null,
            "_view_module": "@jupyter-widgets/base",
            "_view_module_version": "1.2.0",
            "_view_name": "LayoutView",
            "align_content": null,
            "align_items": null,
            "align_self": null,
            "border": null,
            "bottom": null,
            "display": null,
            "flex": null,
            "flex_flow": null,
            "grid_area": null,
            "grid_auto_columns": null,
            "grid_auto_flow": null,
            "grid_auto_rows": null,
            "grid_column": null,
            "grid_gap": null,
            "grid_row": null,
            "grid_template_areas": null,
            "grid_template_columns": null,
            "grid_template_rows": null,
            "height": null,
            "justify_content": null,
            "justify_items": null,
            "left": null,
            "margin": null,
            "max_height": null,
            "max_width": null,
            "min_height": null,
            "min_width": null,
            "object_fit": null,
            "object_position": null,
            "order": null,
            "overflow": null,
            "overflow_x": null,
            "overflow_y": null,
            "padding": null,
            "right": null,
            "top": null,
            "visibility": null,
            "width": null
          }
        },
        "6d55a7aae0494407b70aff5b74e755f4": {
          "model_module": "@jupyter-widgets/controls",
          "model_name": "ProgressStyleModel",
          "model_module_version": "1.5.0",
          "state": {
            "_model_module": "@jupyter-widgets/controls",
            "_model_module_version": "1.5.0",
            "_model_name": "ProgressStyleModel",
            "_view_count": null,
            "_view_module": "@jupyter-widgets/base",
            "_view_module_version": "1.2.0",
            "_view_name": "StyleView",
            "bar_color": null,
            "description_width": ""
          }
        },
        "37b3c1df860f449095b380a6796d0adb": {
          "model_module": "@jupyter-widgets/base",
          "model_name": "LayoutModel",
          "model_module_version": "1.2.0",
          "state": {
            "_model_module": "@jupyter-widgets/base",
            "_model_module_version": "1.2.0",
            "_model_name": "LayoutModel",
            "_view_count": null,
            "_view_module": "@jupyter-widgets/base",
            "_view_module_version": "1.2.0",
            "_view_name": "LayoutView",
            "align_content": null,
            "align_items": null,
            "align_self": null,
            "border": null,
            "bottom": null,
            "display": null,
            "flex": null,
            "flex_flow": null,
            "grid_area": null,
            "grid_auto_columns": null,
            "grid_auto_flow": null,
            "grid_auto_rows": null,
            "grid_column": null,
            "grid_gap": null,
            "grid_row": null,
            "grid_template_areas": null,
            "grid_template_columns": null,
            "grid_template_rows": null,
            "height": null,
            "justify_content": null,
            "justify_items": null,
            "left": null,
            "margin": null,
            "max_height": null,
            "max_width": null,
            "min_height": null,
            "min_width": null,
            "object_fit": null,
            "object_position": null,
            "order": null,
            "overflow": null,
            "overflow_x": null,
            "overflow_y": null,
            "padding": null,
            "right": null,
            "top": null,
            "visibility": null,
            "width": null
          }
        },
        "b9c89f826d45412d9bcd664b0b634195": {
          "model_module": "@jupyter-widgets/controls",
          "model_name": "DescriptionStyleModel",
          "model_module_version": "1.5.0",
          "state": {
            "_model_module": "@jupyter-widgets/controls",
            "_model_module_version": "1.5.0",
            "_model_name": "DescriptionStyleModel",
            "_view_count": null,
            "_view_module": "@jupyter-widgets/base",
            "_view_module_version": "1.2.0",
            "_view_name": "StyleView",
            "description_width": ""
          }
        },
        "bf9d2c018e1747ebbb1070530eb9df1f": {
          "model_module": "@jupyter-widgets/controls",
          "model_name": "HBoxModel",
          "model_module_version": "1.5.0",
          "state": {
            "_dom_classes": [],
            "_model_module": "@jupyter-widgets/controls",
            "_model_module_version": "1.5.0",
            "_model_name": "HBoxModel",
            "_view_count": null,
            "_view_module": "@jupyter-widgets/controls",
            "_view_module_version": "1.5.0",
            "_view_name": "HBoxView",
            "box_style": "",
            "children": [
              "IPY_MODEL_eb4a73d20e3445ddad15ebc504a953df",
              "IPY_MODEL_85a32336e1d846e297b98a93b73bd8fb",
              "IPY_MODEL_c3d4cf35ba174a12ab0255e841ff8c93"
            ],
            "layout": "IPY_MODEL_0aee9db1bde743279e3b3571b91d6383"
          }
        },
        "eb4a73d20e3445ddad15ebc504a953df": {
          "model_module": "@jupyter-widgets/controls",
          "model_name": "HTMLModel",
          "model_module_version": "1.5.0",
          "state": {
            "_dom_classes": [],
            "_model_module": "@jupyter-widgets/controls",
            "_model_module_version": "1.5.0",
            "_model_name": "HTMLModel",
            "_view_count": null,
            "_view_module": "@jupyter-widgets/controls",
            "_view_module_version": "1.5.0",
            "_view_name": "HTMLView",
            "description": "",
            "description_tooltip": null,
            "layout": "IPY_MODEL_aa8c9355b7264c8bb4d5c660cdcff536",
            "placeholder": "​",
            "style": "IPY_MODEL_5aa5d831fa8d43f2b82576e1eb0393e0",
            "value": "100%"
          }
        },
        "85a32336e1d846e297b98a93b73bd8fb": {
          "model_module": "@jupyter-widgets/controls",
          "model_name": "FloatProgressModel",
          "model_module_version": "1.5.0",
          "state": {
            "_dom_classes": [],
            "_model_module": "@jupyter-widgets/controls",
            "_model_module_version": "1.5.0",
            "_model_name": "FloatProgressModel",
            "_view_count": null,
            "_view_module": "@jupyter-widgets/controls",
            "_view_module_version": "1.5.0",
            "_view_name": "ProgressView",
            "bar_style": "success",
            "description": "",
            "description_tooltip": null,
            "layout": "IPY_MODEL_014db81d1c584453b8a6a0d6f8eaff79",
            "max": 44955,
            "min": 0,
            "orientation": "horizontal",
            "style": "IPY_MODEL_e54e4442a0a44a8ca646b64d87c0ef67",
            "value": 44955
          }
        },
        "c3d4cf35ba174a12ab0255e841ff8c93": {
          "model_module": "@jupyter-widgets/controls",
          "model_name": "HTMLModel",
          "model_module_version": "1.5.0",
          "state": {
            "_dom_classes": [],
            "_model_module": "@jupyter-widgets/controls",
            "_model_module_version": "1.5.0",
            "_model_name": "HTMLModel",
            "_view_count": null,
            "_view_module": "@jupyter-widgets/controls",
            "_view_module_version": "1.5.0",
            "_view_name": "HTMLView",
            "description": "",
            "description_tooltip": null,
            "layout": "IPY_MODEL_29fb3286e42c476793dbab8b27d2f0a8",
            "placeholder": "​",
            "style": "IPY_MODEL_30d3e5b303864f118e44725b2d8d6c63",
            "value": " 44955/44955 [02:26&lt;00:00, 291.58it/s]"
          }
        },
        "0aee9db1bde743279e3b3571b91d6383": {
          "model_module": "@jupyter-widgets/base",
          "model_name": "LayoutModel",
          "model_module_version": "1.2.0",
          "state": {
            "_model_module": "@jupyter-widgets/base",
            "_model_module_version": "1.2.0",
            "_model_name": "LayoutModel",
            "_view_count": null,
            "_view_module": "@jupyter-widgets/base",
            "_view_module_version": "1.2.0",
            "_view_name": "LayoutView",
            "align_content": null,
            "align_items": null,
            "align_self": null,
            "border": null,
            "bottom": null,
            "display": null,
            "flex": null,
            "flex_flow": null,
            "grid_area": null,
            "grid_auto_columns": null,
            "grid_auto_flow": null,
            "grid_auto_rows": null,
            "grid_column": null,
            "grid_gap": null,
            "grid_row": null,
            "grid_template_areas": null,
            "grid_template_columns": null,
            "grid_template_rows": null,
            "height": null,
            "justify_content": null,
            "justify_items": null,
            "left": null,
            "margin": null,
            "max_height": null,
            "max_width": null,
            "min_height": null,
            "min_width": null,
            "object_fit": null,
            "object_position": null,
            "order": null,
            "overflow": null,
            "overflow_x": null,
            "overflow_y": null,
            "padding": null,
            "right": null,
            "top": null,
            "visibility": null,
            "width": null
          }
        },
        "aa8c9355b7264c8bb4d5c660cdcff536": {
          "model_module": "@jupyter-widgets/base",
          "model_name": "LayoutModel",
          "model_module_version": "1.2.0",
          "state": {
            "_model_module": "@jupyter-widgets/base",
            "_model_module_version": "1.2.0",
            "_model_name": "LayoutModel",
            "_view_count": null,
            "_view_module": "@jupyter-widgets/base",
            "_view_module_version": "1.2.0",
            "_view_name": "LayoutView",
            "align_content": null,
            "align_items": null,
            "align_self": null,
            "border": null,
            "bottom": null,
            "display": null,
            "flex": null,
            "flex_flow": null,
            "grid_area": null,
            "grid_auto_columns": null,
            "grid_auto_flow": null,
            "grid_auto_rows": null,
            "grid_column": null,
            "grid_gap": null,
            "grid_row": null,
            "grid_template_areas": null,
            "grid_template_columns": null,
            "grid_template_rows": null,
            "height": null,
            "justify_content": null,
            "justify_items": null,
            "left": null,
            "margin": null,
            "max_height": null,
            "max_width": null,
            "min_height": null,
            "min_width": null,
            "object_fit": null,
            "object_position": null,
            "order": null,
            "overflow": null,
            "overflow_x": null,
            "overflow_y": null,
            "padding": null,
            "right": null,
            "top": null,
            "visibility": null,
            "width": null
          }
        },
        "5aa5d831fa8d43f2b82576e1eb0393e0": {
          "model_module": "@jupyter-widgets/controls",
          "model_name": "DescriptionStyleModel",
          "model_module_version": "1.5.0",
          "state": {
            "_model_module": "@jupyter-widgets/controls",
            "_model_module_version": "1.5.0",
            "_model_name": "DescriptionStyleModel",
            "_view_count": null,
            "_view_module": "@jupyter-widgets/base",
            "_view_module_version": "1.2.0",
            "_view_name": "StyleView",
            "description_width": ""
          }
        },
        "014db81d1c584453b8a6a0d6f8eaff79": {
          "model_module": "@jupyter-widgets/base",
          "model_name": "LayoutModel",
          "model_module_version": "1.2.0",
          "state": {
            "_model_module": "@jupyter-widgets/base",
            "_model_module_version": "1.2.0",
            "_model_name": "LayoutModel",
            "_view_count": null,
            "_view_module": "@jupyter-widgets/base",
            "_view_module_version": "1.2.0",
            "_view_name": "LayoutView",
            "align_content": null,
            "align_items": null,
            "align_self": null,
            "border": null,
            "bottom": null,
            "display": null,
            "flex": null,
            "flex_flow": null,
            "grid_area": null,
            "grid_auto_columns": null,
            "grid_auto_flow": null,
            "grid_auto_rows": null,
            "grid_column": null,
            "grid_gap": null,
            "grid_row": null,
            "grid_template_areas": null,
            "grid_template_columns": null,
            "grid_template_rows": null,
            "height": null,
            "justify_content": null,
            "justify_items": null,
            "left": null,
            "margin": null,
            "max_height": null,
            "max_width": null,
            "min_height": null,
            "min_width": null,
            "object_fit": null,
            "object_position": null,
            "order": null,
            "overflow": null,
            "overflow_x": null,
            "overflow_y": null,
            "padding": null,
            "right": null,
            "top": null,
            "visibility": null,
            "width": null
          }
        },
        "e54e4442a0a44a8ca646b64d87c0ef67": {
          "model_module": "@jupyter-widgets/controls",
          "model_name": "ProgressStyleModel",
          "model_module_version": "1.5.0",
          "state": {
            "_model_module": "@jupyter-widgets/controls",
            "_model_module_version": "1.5.0",
            "_model_name": "ProgressStyleModel",
            "_view_count": null,
            "_view_module": "@jupyter-widgets/base",
            "_view_module_version": "1.2.0",
            "_view_name": "StyleView",
            "bar_color": null,
            "description_width": ""
          }
        },
        "29fb3286e42c476793dbab8b27d2f0a8": {
          "model_module": "@jupyter-widgets/base",
          "model_name": "LayoutModel",
          "model_module_version": "1.2.0",
          "state": {
            "_model_module": "@jupyter-widgets/base",
            "_model_module_version": "1.2.0",
            "_model_name": "LayoutModel",
            "_view_count": null,
            "_view_module": "@jupyter-widgets/base",
            "_view_module_version": "1.2.0",
            "_view_name": "LayoutView",
            "align_content": null,
            "align_items": null,
            "align_self": null,
            "border": null,
            "bottom": null,
            "display": null,
            "flex": null,
            "flex_flow": null,
            "grid_area": null,
            "grid_auto_columns": null,
            "grid_auto_flow": null,
            "grid_auto_rows": null,
            "grid_column": null,
            "grid_gap": null,
            "grid_row": null,
            "grid_template_areas": null,
            "grid_template_columns": null,
            "grid_template_rows": null,
            "height": null,
            "justify_content": null,
            "justify_items": null,
            "left": null,
            "margin": null,
            "max_height": null,
            "max_width": null,
            "min_height": null,
            "min_width": null,
            "object_fit": null,
            "object_position": null,
            "order": null,
            "overflow": null,
            "overflow_x": null,
            "overflow_y": null,
            "padding": null,
            "right": null,
            "top": null,
            "visibility": null,
            "width": null
          }
        },
        "30d3e5b303864f118e44725b2d8d6c63": {
          "model_module": "@jupyter-widgets/controls",
          "model_name": "DescriptionStyleModel",
          "model_module_version": "1.5.0",
          "state": {
            "_model_module": "@jupyter-widgets/controls",
            "_model_module_version": "1.5.0",
            "_model_name": "DescriptionStyleModel",
            "_view_count": null,
            "_view_module": "@jupyter-widgets/base",
            "_view_module_version": "1.2.0",
            "_view_name": "StyleView",
            "description_width": ""
          }
        },
        "9f07a4c5ed8e451aaea06eef8defae65": {
          "model_module": "@jupyter-widgets/controls",
          "model_name": "HBoxModel",
          "model_module_version": "1.5.0",
          "state": {
            "_dom_classes": [],
            "_model_module": "@jupyter-widgets/controls",
            "_model_module_version": "1.5.0",
            "_model_name": "HBoxModel",
            "_view_count": null,
            "_view_module": "@jupyter-widgets/controls",
            "_view_module_version": "1.5.0",
            "_view_name": "HBoxView",
            "box_style": "",
            "children": [
              "IPY_MODEL_5c8120490a5a414f8ca96026728f10f3",
              "IPY_MODEL_563a1989cf304de8a8e00409e21b6547",
              "IPY_MODEL_c3943476868b4539a57ab221999284a8"
            ],
            "layout": "IPY_MODEL_0d0d34e74d534cd5bef3ec0bf0626122"
          }
        },
        "5c8120490a5a414f8ca96026728f10f3": {
          "model_module": "@jupyter-widgets/controls",
          "model_name": "HTMLModel",
          "model_module_version": "1.5.0",
          "state": {
            "_dom_classes": [],
            "_model_module": "@jupyter-widgets/controls",
            "_model_module_version": "1.5.0",
            "_model_name": "HTMLModel",
            "_view_count": null,
            "_view_module": "@jupyter-widgets/controls",
            "_view_module_version": "1.5.0",
            "_view_name": "HTMLView",
            "description": "",
            "description_tooltip": null,
            "layout": "IPY_MODEL_87ae7b420aea4b96ad4f4d418c2c22b1",
            "placeholder": "​",
            "style": "IPY_MODEL_0bede6393c8f4db78953ae244a3bd8e4",
            "value": "100%"
          }
        },
        "563a1989cf304de8a8e00409e21b6547": {
          "model_module": "@jupyter-widgets/controls",
          "model_name": "FloatProgressModel",
          "model_module_version": "1.5.0",
          "state": {
            "_dom_classes": [],
            "_model_module": "@jupyter-widgets/controls",
            "_model_module_version": "1.5.0",
            "_model_name": "FloatProgressModel",
            "_view_count": null,
            "_view_module": "@jupyter-widgets/controls",
            "_view_module_version": "1.5.0",
            "_view_name": "ProgressView",
            "bar_style": "success",
            "description": "",
            "description_tooltip": null,
            "layout": "IPY_MODEL_a051972e1f0c47f796f3fe4fce491fd4",
            "max": 44955,
            "min": 0,
            "orientation": "horizontal",
            "style": "IPY_MODEL_ebd80629c36b4203b4a8858a4fd51915",
            "value": 44955
          }
        },
        "c3943476868b4539a57ab221999284a8": {
          "model_module": "@jupyter-widgets/controls",
          "model_name": "HTMLModel",
          "model_module_version": "1.5.0",
          "state": {
            "_dom_classes": [],
            "_model_module": "@jupyter-widgets/controls",
            "_model_module_version": "1.5.0",
            "_model_name": "HTMLModel",
            "_view_count": null,
            "_view_module": "@jupyter-widgets/controls",
            "_view_module_version": "1.5.0",
            "_view_name": "HTMLView",
            "description": "",
            "description_tooltip": null,
            "layout": "IPY_MODEL_cc4736b6cc2b4f16a6872afdcec31357",
            "placeholder": "​",
            "style": "IPY_MODEL_715759d477014d70b05810ab8b5a21f1",
            "value": " 44955/44955 [00:00&lt;00:00, 136139.39it/s]"
          }
        },
        "0d0d34e74d534cd5bef3ec0bf0626122": {
          "model_module": "@jupyter-widgets/base",
          "model_name": "LayoutModel",
          "model_module_version": "1.2.0",
          "state": {
            "_model_module": "@jupyter-widgets/base",
            "_model_module_version": "1.2.0",
            "_model_name": "LayoutModel",
            "_view_count": null,
            "_view_module": "@jupyter-widgets/base",
            "_view_module_version": "1.2.0",
            "_view_name": "LayoutView",
            "align_content": null,
            "align_items": null,
            "align_self": null,
            "border": null,
            "bottom": null,
            "display": null,
            "flex": null,
            "flex_flow": null,
            "grid_area": null,
            "grid_auto_columns": null,
            "grid_auto_flow": null,
            "grid_auto_rows": null,
            "grid_column": null,
            "grid_gap": null,
            "grid_row": null,
            "grid_template_areas": null,
            "grid_template_columns": null,
            "grid_template_rows": null,
            "height": null,
            "justify_content": null,
            "justify_items": null,
            "left": null,
            "margin": null,
            "max_height": null,
            "max_width": null,
            "min_height": null,
            "min_width": null,
            "object_fit": null,
            "object_position": null,
            "order": null,
            "overflow": null,
            "overflow_x": null,
            "overflow_y": null,
            "padding": null,
            "right": null,
            "top": null,
            "visibility": null,
            "width": null
          }
        },
        "87ae7b420aea4b96ad4f4d418c2c22b1": {
          "model_module": "@jupyter-widgets/base",
          "model_name": "LayoutModel",
          "model_module_version": "1.2.0",
          "state": {
            "_model_module": "@jupyter-widgets/base",
            "_model_module_version": "1.2.0",
            "_model_name": "LayoutModel",
            "_view_count": null,
            "_view_module": "@jupyter-widgets/base",
            "_view_module_version": "1.2.0",
            "_view_name": "LayoutView",
            "align_content": null,
            "align_items": null,
            "align_self": null,
            "border": null,
            "bottom": null,
            "display": null,
            "flex": null,
            "flex_flow": null,
            "grid_area": null,
            "grid_auto_columns": null,
            "grid_auto_flow": null,
            "grid_auto_rows": null,
            "grid_column": null,
            "grid_gap": null,
            "grid_row": null,
            "grid_template_areas": null,
            "grid_template_columns": null,
            "grid_template_rows": null,
            "height": null,
            "justify_content": null,
            "justify_items": null,
            "left": null,
            "margin": null,
            "max_height": null,
            "max_width": null,
            "min_height": null,
            "min_width": null,
            "object_fit": null,
            "object_position": null,
            "order": null,
            "overflow": null,
            "overflow_x": null,
            "overflow_y": null,
            "padding": null,
            "right": null,
            "top": null,
            "visibility": null,
            "width": null
          }
        },
        "0bede6393c8f4db78953ae244a3bd8e4": {
          "model_module": "@jupyter-widgets/controls",
          "model_name": "DescriptionStyleModel",
          "model_module_version": "1.5.0",
          "state": {
            "_model_module": "@jupyter-widgets/controls",
            "_model_module_version": "1.5.0",
            "_model_name": "DescriptionStyleModel",
            "_view_count": null,
            "_view_module": "@jupyter-widgets/base",
            "_view_module_version": "1.2.0",
            "_view_name": "StyleView",
            "description_width": ""
          }
        },
        "a051972e1f0c47f796f3fe4fce491fd4": {
          "model_module": "@jupyter-widgets/base",
          "model_name": "LayoutModel",
          "model_module_version": "1.2.0",
          "state": {
            "_model_module": "@jupyter-widgets/base",
            "_model_module_version": "1.2.0",
            "_model_name": "LayoutModel",
            "_view_count": null,
            "_view_module": "@jupyter-widgets/base",
            "_view_module_version": "1.2.0",
            "_view_name": "LayoutView",
            "align_content": null,
            "align_items": null,
            "align_self": null,
            "border": null,
            "bottom": null,
            "display": null,
            "flex": null,
            "flex_flow": null,
            "grid_area": null,
            "grid_auto_columns": null,
            "grid_auto_flow": null,
            "grid_auto_rows": null,
            "grid_column": null,
            "grid_gap": null,
            "grid_row": null,
            "grid_template_areas": null,
            "grid_template_columns": null,
            "grid_template_rows": null,
            "height": null,
            "justify_content": null,
            "justify_items": null,
            "left": null,
            "margin": null,
            "max_height": null,
            "max_width": null,
            "min_height": null,
            "min_width": null,
            "object_fit": null,
            "object_position": null,
            "order": null,
            "overflow": null,
            "overflow_x": null,
            "overflow_y": null,
            "padding": null,
            "right": null,
            "top": null,
            "visibility": null,
            "width": null
          }
        },
        "ebd80629c36b4203b4a8858a4fd51915": {
          "model_module": "@jupyter-widgets/controls",
          "model_name": "ProgressStyleModel",
          "model_module_version": "1.5.0",
          "state": {
            "_model_module": "@jupyter-widgets/controls",
            "_model_module_version": "1.5.0",
            "_model_name": "ProgressStyleModel",
            "_view_count": null,
            "_view_module": "@jupyter-widgets/base",
            "_view_module_version": "1.2.0",
            "_view_name": "StyleView",
            "bar_color": null,
            "description_width": ""
          }
        },
        "cc4736b6cc2b4f16a6872afdcec31357": {
          "model_module": "@jupyter-widgets/base",
          "model_name": "LayoutModel",
          "model_module_version": "1.2.0",
          "state": {
            "_model_module": "@jupyter-widgets/base",
            "_model_module_version": "1.2.0",
            "_model_name": "LayoutModel",
            "_view_count": null,
            "_view_module": "@jupyter-widgets/base",
            "_view_module_version": "1.2.0",
            "_view_name": "LayoutView",
            "align_content": null,
            "align_items": null,
            "align_self": null,
            "border": null,
            "bottom": null,
            "display": null,
            "flex": null,
            "flex_flow": null,
            "grid_area": null,
            "grid_auto_columns": null,
            "grid_auto_flow": null,
            "grid_auto_rows": null,
            "grid_column": null,
            "grid_gap": null,
            "grid_row": null,
            "grid_template_areas": null,
            "grid_template_columns": null,
            "grid_template_rows": null,
            "height": null,
            "justify_content": null,
            "justify_items": null,
            "left": null,
            "margin": null,
            "max_height": null,
            "max_width": null,
            "min_height": null,
            "min_width": null,
            "object_fit": null,
            "object_position": null,
            "order": null,
            "overflow": null,
            "overflow_x": null,
            "overflow_y": null,
            "padding": null,
            "right": null,
            "top": null,
            "visibility": null,
            "width": null
          }
        },
        "715759d477014d70b05810ab8b5a21f1": {
          "model_module": "@jupyter-widgets/controls",
          "model_name": "DescriptionStyleModel",
          "model_module_version": "1.5.0",
          "state": {
            "_model_module": "@jupyter-widgets/controls",
            "_model_module_version": "1.5.0",
            "_model_name": "DescriptionStyleModel",
            "_view_count": null,
            "_view_module": "@jupyter-widgets/base",
            "_view_module_version": "1.2.0",
            "_view_name": "StyleView",
            "description_width": ""
          }
        },
        "990667b9d0da4fd794b93bb9bbcb4920": {
          "model_module": "@jupyter-widgets/controls",
          "model_name": "HBoxModel",
          "model_module_version": "1.5.0",
          "state": {
            "_dom_classes": [],
            "_model_module": "@jupyter-widgets/controls",
            "_model_module_version": "1.5.0",
            "_model_name": "HBoxModel",
            "_view_count": null,
            "_view_module": "@jupyter-widgets/controls",
            "_view_module_version": "1.5.0",
            "_view_name": "HBoxView",
            "box_style": "",
            "children": [
              "IPY_MODEL_16af354008f247929fc9c24ab8b5870d",
              "IPY_MODEL_7b3e9967587346c3a5dcc1ba39cc5777",
              "IPY_MODEL_6c20dc50c41441d281003521e752bc53"
            ],
            "layout": "IPY_MODEL_40e9a3ca45cf46d3afc068be7b7fb9f8"
          }
        },
        "16af354008f247929fc9c24ab8b5870d": {
          "model_module": "@jupyter-widgets/controls",
          "model_name": "HTMLModel",
          "model_module_version": "1.5.0",
          "state": {
            "_dom_classes": [],
            "_model_module": "@jupyter-widgets/controls",
            "_model_module_version": "1.5.0",
            "_model_name": "HTMLModel",
            "_view_count": null,
            "_view_module": "@jupyter-widgets/controls",
            "_view_module_version": "1.5.0",
            "_view_name": "HTMLView",
            "description": "",
            "description_tooltip": null,
            "layout": "IPY_MODEL_c3d728f47c1b44439cf57fd42ed1cc77",
            "placeholder": "​",
            "style": "IPY_MODEL_e9ad856dbef748edb3463c672a0a398f",
            "value": "100%"
          }
        },
        "7b3e9967587346c3a5dcc1ba39cc5777": {
          "model_module": "@jupyter-widgets/controls",
          "model_name": "FloatProgressModel",
          "model_module_version": "1.5.0",
          "state": {
            "_dom_classes": [],
            "_model_module": "@jupyter-widgets/controls",
            "_model_module_version": "1.5.0",
            "_model_name": "FloatProgressModel",
            "_view_count": null,
            "_view_module": "@jupyter-widgets/controls",
            "_view_module_version": "1.5.0",
            "_view_name": "ProgressView",
            "bar_style": "success",
            "description": "",
            "description_tooltip": null,
            "layout": "IPY_MODEL_900da454f4614666988a4843ffec5c1d",
            "max": 44955,
            "min": 0,
            "orientation": "horizontal",
            "style": "IPY_MODEL_2bd2203be9c14a55ac2b868d50aeed91",
            "value": 44955
          }
        },
        "6c20dc50c41441d281003521e752bc53": {
          "model_module": "@jupyter-widgets/controls",
          "model_name": "HTMLModel",
          "model_module_version": "1.5.0",
          "state": {
            "_dom_classes": [],
            "_model_module": "@jupyter-widgets/controls",
            "_model_module_version": "1.5.0",
            "_model_name": "HTMLModel",
            "_view_count": null,
            "_view_module": "@jupyter-widgets/controls",
            "_view_module_version": "1.5.0",
            "_view_name": "HTMLView",
            "description": "",
            "description_tooltip": null,
            "layout": "IPY_MODEL_c0f8c1213aeb4d8ca5ffbd8332193e00",
            "placeholder": "​",
            "style": "IPY_MODEL_d360a6c64368432899564efbe93bb163",
            "value": " 44955/44955 [00:00&lt;00:00, 74228.19it/s]"
          }
        },
        "40e9a3ca45cf46d3afc068be7b7fb9f8": {
          "model_module": "@jupyter-widgets/base",
          "model_name": "LayoutModel",
          "model_module_version": "1.2.0",
          "state": {
            "_model_module": "@jupyter-widgets/base",
            "_model_module_version": "1.2.0",
            "_model_name": "LayoutModel",
            "_view_count": null,
            "_view_module": "@jupyter-widgets/base",
            "_view_module_version": "1.2.0",
            "_view_name": "LayoutView",
            "align_content": null,
            "align_items": null,
            "align_self": null,
            "border": null,
            "bottom": null,
            "display": null,
            "flex": null,
            "flex_flow": null,
            "grid_area": null,
            "grid_auto_columns": null,
            "grid_auto_flow": null,
            "grid_auto_rows": null,
            "grid_column": null,
            "grid_gap": null,
            "grid_row": null,
            "grid_template_areas": null,
            "grid_template_columns": null,
            "grid_template_rows": null,
            "height": null,
            "justify_content": null,
            "justify_items": null,
            "left": null,
            "margin": null,
            "max_height": null,
            "max_width": null,
            "min_height": null,
            "min_width": null,
            "object_fit": null,
            "object_position": null,
            "order": null,
            "overflow": null,
            "overflow_x": null,
            "overflow_y": null,
            "padding": null,
            "right": null,
            "top": null,
            "visibility": null,
            "width": null
          }
        },
        "c3d728f47c1b44439cf57fd42ed1cc77": {
          "model_module": "@jupyter-widgets/base",
          "model_name": "LayoutModel",
          "model_module_version": "1.2.0",
          "state": {
            "_model_module": "@jupyter-widgets/base",
            "_model_module_version": "1.2.0",
            "_model_name": "LayoutModel",
            "_view_count": null,
            "_view_module": "@jupyter-widgets/base",
            "_view_module_version": "1.2.0",
            "_view_name": "LayoutView",
            "align_content": null,
            "align_items": null,
            "align_self": null,
            "border": null,
            "bottom": null,
            "display": null,
            "flex": null,
            "flex_flow": null,
            "grid_area": null,
            "grid_auto_columns": null,
            "grid_auto_flow": null,
            "grid_auto_rows": null,
            "grid_column": null,
            "grid_gap": null,
            "grid_row": null,
            "grid_template_areas": null,
            "grid_template_columns": null,
            "grid_template_rows": null,
            "height": null,
            "justify_content": null,
            "justify_items": null,
            "left": null,
            "margin": null,
            "max_height": null,
            "max_width": null,
            "min_height": null,
            "min_width": null,
            "object_fit": null,
            "object_position": null,
            "order": null,
            "overflow": null,
            "overflow_x": null,
            "overflow_y": null,
            "padding": null,
            "right": null,
            "top": null,
            "visibility": null,
            "width": null
          }
        },
        "e9ad856dbef748edb3463c672a0a398f": {
          "model_module": "@jupyter-widgets/controls",
          "model_name": "DescriptionStyleModel",
          "model_module_version": "1.5.0",
          "state": {
            "_model_module": "@jupyter-widgets/controls",
            "_model_module_version": "1.5.0",
            "_model_name": "DescriptionStyleModel",
            "_view_count": null,
            "_view_module": "@jupyter-widgets/base",
            "_view_module_version": "1.2.0",
            "_view_name": "StyleView",
            "description_width": ""
          }
        },
        "900da454f4614666988a4843ffec5c1d": {
          "model_module": "@jupyter-widgets/base",
          "model_name": "LayoutModel",
          "model_module_version": "1.2.0",
          "state": {
            "_model_module": "@jupyter-widgets/base",
            "_model_module_version": "1.2.0",
            "_model_name": "LayoutModel",
            "_view_count": null,
            "_view_module": "@jupyter-widgets/base",
            "_view_module_version": "1.2.0",
            "_view_name": "LayoutView",
            "align_content": null,
            "align_items": null,
            "align_self": null,
            "border": null,
            "bottom": null,
            "display": null,
            "flex": null,
            "flex_flow": null,
            "grid_area": null,
            "grid_auto_columns": null,
            "grid_auto_flow": null,
            "grid_auto_rows": null,
            "grid_column": null,
            "grid_gap": null,
            "grid_row": null,
            "grid_template_areas": null,
            "grid_template_columns": null,
            "grid_template_rows": null,
            "height": null,
            "justify_content": null,
            "justify_items": null,
            "left": null,
            "margin": null,
            "max_height": null,
            "max_width": null,
            "min_height": null,
            "min_width": null,
            "object_fit": null,
            "object_position": null,
            "order": null,
            "overflow": null,
            "overflow_x": null,
            "overflow_y": null,
            "padding": null,
            "right": null,
            "top": null,
            "visibility": null,
            "width": null
          }
        },
        "2bd2203be9c14a55ac2b868d50aeed91": {
          "model_module": "@jupyter-widgets/controls",
          "model_name": "ProgressStyleModel",
          "model_module_version": "1.5.0",
          "state": {
            "_model_module": "@jupyter-widgets/controls",
            "_model_module_version": "1.5.0",
            "_model_name": "ProgressStyleModel",
            "_view_count": null,
            "_view_module": "@jupyter-widgets/base",
            "_view_module_version": "1.2.0",
            "_view_name": "StyleView",
            "bar_color": null,
            "description_width": ""
          }
        },
        "c0f8c1213aeb4d8ca5ffbd8332193e00": {
          "model_module": "@jupyter-widgets/base",
          "model_name": "LayoutModel",
          "model_module_version": "1.2.0",
          "state": {
            "_model_module": "@jupyter-widgets/base",
            "_model_module_version": "1.2.0",
            "_model_name": "LayoutModel",
            "_view_count": null,
            "_view_module": "@jupyter-widgets/base",
            "_view_module_version": "1.2.0",
            "_view_name": "LayoutView",
            "align_content": null,
            "align_items": null,
            "align_self": null,
            "border": null,
            "bottom": null,
            "display": null,
            "flex": null,
            "flex_flow": null,
            "grid_area": null,
            "grid_auto_columns": null,
            "grid_auto_flow": null,
            "grid_auto_rows": null,
            "grid_column": null,
            "grid_gap": null,
            "grid_row": null,
            "grid_template_areas": null,
            "grid_template_columns": null,
            "grid_template_rows": null,
            "height": null,
            "justify_content": null,
            "justify_items": null,
            "left": null,
            "margin": null,
            "max_height": null,
            "max_width": null,
            "min_height": null,
            "min_width": null,
            "object_fit": null,
            "object_position": null,
            "order": null,
            "overflow": null,
            "overflow_x": null,
            "overflow_y": null,
            "padding": null,
            "right": null,
            "top": null,
            "visibility": null,
            "width": null
          }
        },
        "d360a6c64368432899564efbe93bb163": {
          "model_module": "@jupyter-widgets/controls",
          "model_name": "DescriptionStyleModel",
          "model_module_version": "1.5.0",
          "state": {
            "_model_module": "@jupyter-widgets/controls",
            "_model_module_version": "1.5.0",
            "_model_name": "DescriptionStyleModel",
            "_view_count": null,
            "_view_module": "@jupyter-widgets/base",
            "_view_module_version": "1.2.0",
            "_view_name": "StyleView",
            "description_width": ""
          }
        },
        "3b90ffc79dc74c9ca64b27a7907da290": {
          "model_module": "@jupyter-widgets/controls",
          "model_name": "HBoxModel",
          "model_module_version": "1.5.0",
          "state": {
            "_dom_classes": [],
            "_model_module": "@jupyter-widgets/controls",
            "_model_module_version": "1.5.0",
            "_model_name": "HBoxModel",
            "_view_count": null,
            "_view_module": "@jupyter-widgets/controls",
            "_view_module_version": "1.5.0",
            "_view_name": "HBoxView",
            "box_style": "",
            "children": [
              "IPY_MODEL_b822574c36a54d979e192003f0d6feb6",
              "IPY_MODEL_71ae7ef0d6c34a06920d0e3cf6d22d93",
              "IPY_MODEL_d80e95e2e9ca4778838e8c15b8105943"
            ],
            "layout": "IPY_MODEL_6c469c1d4bcb4603904bccb6341b065d"
          }
        },
        "b822574c36a54d979e192003f0d6feb6": {
          "model_module": "@jupyter-widgets/controls",
          "model_name": "HTMLModel",
          "model_module_version": "1.5.0",
          "state": {
            "_dom_classes": [],
            "_model_module": "@jupyter-widgets/controls",
            "_model_module_version": "1.5.0",
            "_model_name": "HTMLModel",
            "_view_count": null,
            "_view_module": "@jupyter-widgets/controls",
            "_view_module_version": "1.5.0",
            "_view_name": "HTMLView",
            "description": "",
            "description_tooltip": null,
            "layout": "IPY_MODEL_c7ee1ac2be21404d87ec77513dd6dd34",
            "placeholder": "​",
            "style": "IPY_MODEL_37a880f7f38c4c61a916dedc4a801d20",
            "value": "100%"
          }
        },
        "71ae7ef0d6c34a06920d0e3cf6d22d93": {
          "model_module": "@jupyter-widgets/controls",
          "model_name": "FloatProgressModel",
          "model_module_version": "1.5.0",
          "state": {
            "_dom_classes": [],
            "_model_module": "@jupyter-widgets/controls",
            "_model_module_version": "1.5.0",
            "_model_name": "FloatProgressModel",
            "_view_count": null,
            "_view_module": "@jupyter-widgets/controls",
            "_view_module_version": "1.5.0",
            "_view_name": "ProgressView",
            "bar_style": "success",
            "description": "",
            "description_tooltip": null,
            "layout": "IPY_MODEL_8a94fed78e374a4da84e957020d25339",
            "max": 44955,
            "min": 0,
            "orientation": "horizontal",
            "style": "IPY_MODEL_35171b54c37a44beb755f9d21b28fee5",
            "value": 44955
          }
        },
        "d80e95e2e9ca4778838e8c15b8105943": {
          "model_module": "@jupyter-widgets/controls",
          "model_name": "HTMLModel",
          "model_module_version": "1.5.0",
          "state": {
            "_dom_classes": [],
            "_model_module": "@jupyter-widgets/controls",
            "_model_module_version": "1.5.0",
            "_model_name": "HTMLModel",
            "_view_count": null,
            "_view_module": "@jupyter-widgets/controls",
            "_view_module_version": "1.5.0",
            "_view_name": "HTMLView",
            "description": "",
            "description_tooltip": null,
            "layout": "IPY_MODEL_d830d3aab80e4785b891fb3f0221e731",
            "placeholder": "​",
            "style": "IPY_MODEL_596bffd952b44834874093e721d4b009",
            "value": " 44955/44955 [00:00&lt;00:00, 543423.57it/s]"
          }
        },
        "6c469c1d4bcb4603904bccb6341b065d": {
          "model_module": "@jupyter-widgets/base",
          "model_name": "LayoutModel",
          "model_module_version": "1.2.0",
          "state": {
            "_model_module": "@jupyter-widgets/base",
            "_model_module_version": "1.2.0",
            "_model_name": "LayoutModel",
            "_view_count": null,
            "_view_module": "@jupyter-widgets/base",
            "_view_module_version": "1.2.0",
            "_view_name": "LayoutView",
            "align_content": null,
            "align_items": null,
            "align_self": null,
            "border": null,
            "bottom": null,
            "display": null,
            "flex": null,
            "flex_flow": null,
            "grid_area": null,
            "grid_auto_columns": null,
            "grid_auto_flow": null,
            "grid_auto_rows": null,
            "grid_column": null,
            "grid_gap": null,
            "grid_row": null,
            "grid_template_areas": null,
            "grid_template_columns": null,
            "grid_template_rows": null,
            "height": null,
            "justify_content": null,
            "justify_items": null,
            "left": null,
            "margin": null,
            "max_height": null,
            "max_width": null,
            "min_height": null,
            "min_width": null,
            "object_fit": null,
            "object_position": null,
            "order": null,
            "overflow": null,
            "overflow_x": null,
            "overflow_y": null,
            "padding": null,
            "right": null,
            "top": null,
            "visibility": null,
            "width": null
          }
        },
        "c7ee1ac2be21404d87ec77513dd6dd34": {
          "model_module": "@jupyter-widgets/base",
          "model_name": "LayoutModel",
          "model_module_version": "1.2.0",
          "state": {
            "_model_module": "@jupyter-widgets/base",
            "_model_module_version": "1.2.0",
            "_model_name": "LayoutModel",
            "_view_count": null,
            "_view_module": "@jupyter-widgets/base",
            "_view_module_version": "1.2.0",
            "_view_name": "LayoutView",
            "align_content": null,
            "align_items": null,
            "align_self": null,
            "border": null,
            "bottom": null,
            "display": null,
            "flex": null,
            "flex_flow": null,
            "grid_area": null,
            "grid_auto_columns": null,
            "grid_auto_flow": null,
            "grid_auto_rows": null,
            "grid_column": null,
            "grid_gap": null,
            "grid_row": null,
            "grid_template_areas": null,
            "grid_template_columns": null,
            "grid_template_rows": null,
            "height": null,
            "justify_content": null,
            "justify_items": null,
            "left": null,
            "margin": null,
            "max_height": null,
            "max_width": null,
            "min_height": null,
            "min_width": null,
            "object_fit": null,
            "object_position": null,
            "order": null,
            "overflow": null,
            "overflow_x": null,
            "overflow_y": null,
            "padding": null,
            "right": null,
            "top": null,
            "visibility": null,
            "width": null
          }
        },
        "37a880f7f38c4c61a916dedc4a801d20": {
          "model_module": "@jupyter-widgets/controls",
          "model_name": "DescriptionStyleModel",
          "model_module_version": "1.5.0",
          "state": {
            "_model_module": "@jupyter-widgets/controls",
            "_model_module_version": "1.5.0",
            "_model_name": "DescriptionStyleModel",
            "_view_count": null,
            "_view_module": "@jupyter-widgets/base",
            "_view_module_version": "1.2.0",
            "_view_name": "StyleView",
            "description_width": ""
          }
        },
        "8a94fed78e374a4da84e957020d25339": {
          "model_module": "@jupyter-widgets/base",
          "model_name": "LayoutModel",
          "model_module_version": "1.2.0",
          "state": {
            "_model_module": "@jupyter-widgets/base",
            "_model_module_version": "1.2.0",
            "_model_name": "LayoutModel",
            "_view_count": null,
            "_view_module": "@jupyter-widgets/base",
            "_view_module_version": "1.2.0",
            "_view_name": "LayoutView",
            "align_content": null,
            "align_items": null,
            "align_self": null,
            "border": null,
            "bottom": null,
            "display": null,
            "flex": null,
            "flex_flow": null,
            "grid_area": null,
            "grid_auto_columns": null,
            "grid_auto_flow": null,
            "grid_auto_rows": null,
            "grid_column": null,
            "grid_gap": null,
            "grid_row": null,
            "grid_template_areas": null,
            "grid_template_columns": null,
            "grid_template_rows": null,
            "height": null,
            "justify_content": null,
            "justify_items": null,
            "left": null,
            "margin": null,
            "max_height": null,
            "max_width": null,
            "min_height": null,
            "min_width": null,
            "object_fit": null,
            "object_position": null,
            "order": null,
            "overflow": null,
            "overflow_x": null,
            "overflow_y": null,
            "padding": null,
            "right": null,
            "top": null,
            "visibility": null,
            "width": null
          }
        },
        "35171b54c37a44beb755f9d21b28fee5": {
          "model_module": "@jupyter-widgets/controls",
          "model_name": "ProgressStyleModel",
          "model_module_version": "1.5.0",
          "state": {
            "_model_module": "@jupyter-widgets/controls",
            "_model_module_version": "1.5.0",
            "_model_name": "ProgressStyleModel",
            "_view_count": null,
            "_view_module": "@jupyter-widgets/base",
            "_view_module_version": "1.2.0",
            "_view_name": "StyleView",
            "bar_color": null,
            "description_width": ""
          }
        },
        "d830d3aab80e4785b891fb3f0221e731": {
          "model_module": "@jupyter-widgets/base",
          "model_name": "LayoutModel",
          "model_module_version": "1.2.0",
          "state": {
            "_model_module": "@jupyter-widgets/base",
            "_model_module_version": "1.2.0",
            "_model_name": "LayoutModel",
            "_view_count": null,
            "_view_module": "@jupyter-widgets/base",
            "_view_module_version": "1.2.0",
            "_view_name": "LayoutView",
            "align_content": null,
            "align_items": null,
            "align_self": null,
            "border": null,
            "bottom": null,
            "display": null,
            "flex": null,
            "flex_flow": null,
            "grid_area": null,
            "grid_auto_columns": null,
            "grid_auto_flow": null,
            "grid_auto_rows": null,
            "grid_column": null,
            "grid_gap": null,
            "grid_row": null,
            "grid_template_areas": null,
            "grid_template_columns": null,
            "grid_template_rows": null,
            "height": null,
            "justify_content": null,
            "justify_items": null,
            "left": null,
            "margin": null,
            "max_height": null,
            "max_width": null,
            "min_height": null,
            "min_width": null,
            "object_fit": null,
            "object_position": null,
            "order": null,
            "overflow": null,
            "overflow_x": null,
            "overflow_y": null,
            "padding": null,
            "right": null,
            "top": null,
            "visibility": null,
            "width": null
          }
        },
        "596bffd952b44834874093e721d4b009": {
          "model_module": "@jupyter-widgets/controls",
          "model_name": "DescriptionStyleModel",
          "model_module_version": "1.5.0",
          "state": {
            "_model_module": "@jupyter-widgets/controls",
            "_model_module_version": "1.5.0",
            "_model_name": "DescriptionStyleModel",
            "_view_count": null,
            "_view_module": "@jupyter-widgets/base",
            "_view_module_version": "1.2.0",
            "_view_name": "StyleView",
            "description_width": ""
          }
        }
      }
    },
    "gpuClass": "standard"
  },
  "cells": [
    {
      "cell_type": "markdown",
      "source": [
        "# Libraries, packages"
      ],
      "metadata": {
        "id": "xBIfRLfGFUSh"
      }
    },
    {
      "cell_type": "code",
      "execution_count": null,
      "metadata": {
        "colab": {
          "base_uri": "https://localhost:8080/"
        },
        "id": "BsPQXuvp9EOJ",
        "outputId": "873f43a7-26bd-4a43-97f1-8035f0d26d53"
      },
      "outputs": [
        {
          "output_type": "stream",
          "name": "stdout",
          "text": [
            "Mounted at drive\n"
          ]
        }
      ],
      "source": [
        "from google.colab import drive\n",
        "drive.mount('drive')"
      ]
    },
    {
      "cell_type": "code",
      "source": [
        "! pip install adjustText"
      ],
      "metadata": {
        "colab": {
          "base_uri": "https://localhost:8080/"
        },
        "id": "OeObFL-17N_B",
        "outputId": "ccf53b8f-ec87-42a8-a9fd-2ae21c88e14d"
      },
      "execution_count": null,
      "outputs": [
        {
          "output_type": "stream",
          "name": "stdout",
          "text": [
            "Looking in indexes: https://pypi.org/simple, https://us-python.pkg.dev/colab-wheels/public/simple/\n",
            "Collecting adjustText\n",
            "  Downloading adjustText-0.7.3.tar.gz (7.5 kB)\n",
            "Requirement already satisfied: numpy in /usr/local/lib/python3.7/dist-packages (from adjustText) (1.21.6)\n",
            "Requirement already satisfied: matplotlib in /usr/local/lib/python3.7/dist-packages (from adjustText) (3.2.2)\n",
            "Requirement already satisfied: kiwisolver>=1.0.1 in /usr/local/lib/python3.7/dist-packages (from matplotlib->adjustText) (1.4.3)\n",
            "Requirement already satisfied: python-dateutil>=2.1 in /usr/local/lib/python3.7/dist-packages (from matplotlib->adjustText) (2.8.2)\n",
            "Requirement already satisfied: cycler>=0.10 in /usr/local/lib/python3.7/dist-packages (from matplotlib->adjustText) (0.11.0)\n",
            "Requirement already satisfied: pyparsing!=2.0.4,!=2.1.2,!=2.1.6,>=2.0.1 in /usr/local/lib/python3.7/dist-packages (from matplotlib->adjustText) (3.0.9)\n",
            "Requirement already satisfied: typing-extensions in /usr/local/lib/python3.7/dist-packages (from kiwisolver>=1.0.1->matplotlib->adjustText) (4.1.1)\n",
            "Requirement already satisfied: six>=1.5 in /usr/local/lib/python3.7/dist-packages (from python-dateutil>=2.1->matplotlib->adjustText) (1.15.0)\n",
            "Building wheels for collected packages: adjustText\n",
            "  Building wheel for adjustText (setup.py) ... \u001b[?25l\u001b[?25hdone\n",
            "  Created wheel for adjustText: filename=adjustText-0.7.3-py3-none-any.whl size=7097 sha256=307e6dbc0ad6b7f382b33d7b2ae660bc0354d3dca956c8b5515d7a431f5377eb\n",
            "  Stored in directory: /root/.cache/pip/wheels/2f/98/32/afbf902d8f040fadfdf0a44357e4ab750afe165d873bf5893d\n",
            "Successfully built adjustText\n",
            "Installing collected packages: adjustText\n",
            "Successfully installed adjustText-0.7.3\n"
          ]
        }
      ]
    },
    {
      "cell_type": "code",
      "source": [
        "! python -m spacy download en_core_web_md"
      ],
      "metadata": {
        "colab": {
          "base_uri": "https://localhost:8080/"
        },
        "id": "0G7nk42T-qBW",
        "outputId": "d88e55ad-75ba-404b-9e4b-e70c91177996"
      },
      "execution_count": null,
      "outputs": [
        {
          "output_type": "stream",
          "name": "stdout",
          "text": [
            "Looking in indexes: https://pypi.org/simple, https://us-python.pkg.dev/colab-wheels/public/simple/\n",
            "Collecting en-core-web-md==3.3.0\n",
            "  Downloading https://github.com/explosion/spacy-models/releases/download/en_core_web_md-3.3.0/en_core_web_md-3.3.0-py3-none-any.whl (33.5 MB)\n",
            "\u001b[K     |████████████████████████████████| 33.5 MB 280 kB/s \n",
            "\u001b[?25hRequirement already satisfied: spacy<3.4.0,>=3.3.0.dev0 in /usr/local/lib/python3.7/dist-packages (from en-core-web-md==3.3.0) (3.3.1)\n",
            "Requirement already satisfied: preshed<3.1.0,>=3.0.2 in /usr/local/lib/python3.7/dist-packages (from spacy<3.4.0,>=3.3.0.dev0->en-core-web-md==3.3.0) (3.0.6)\n",
            "Requirement already satisfied: pydantic!=1.8,!=1.8.1,<1.9.0,>=1.7.4 in /usr/local/lib/python3.7/dist-packages (from spacy<3.4.0,>=3.3.0.dev0->en-core-web-md==3.3.0) (1.8.2)\n",
            "Requirement already satisfied: blis<0.8.0,>=0.4.0 in /usr/local/lib/python3.7/dist-packages (from spacy<3.4.0,>=3.3.0.dev0->en-core-web-md==3.3.0) (0.7.7)\n",
            "Requirement already satisfied: setuptools in /usr/local/lib/python3.7/dist-packages (from spacy<3.4.0,>=3.3.0.dev0->en-core-web-md==3.3.0) (57.4.0)\n",
            "Requirement already satisfied: typing-extensions<4.2.0,>=3.7.4 in /usr/local/lib/python3.7/dist-packages (from spacy<3.4.0,>=3.3.0.dev0->en-core-web-md==3.3.0) (4.1.1)\n",
            "Requirement already satisfied: requests<3.0.0,>=2.13.0 in /usr/local/lib/python3.7/dist-packages (from spacy<3.4.0,>=3.3.0.dev0->en-core-web-md==3.3.0) (2.23.0)\n",
            "Requirement already satisfied: srsly<3.0.0,>=2.4.3 in /usr/local/lib/python3.7/dist-packages (from spacy<3.4.0,>=3.3.0.dev0->en-core-web-md==3.3.0) (2.4.3)\n",
            "Requirement already satisfied: murmurhash<1.1.0,>=0.28.0 in /usr/local/lib/python3.7/dist-packages (from spacy<3.4.0,>=3.3.0.dev0->en-core-web-md==3.3.0) (1.0.7)\n",
            "Requirement already satisfied: jinja2 in /usr/local/lib/python3.7/dist-packages (from spacy<3.4.0,>=3.3.0.dev0->en-core-web-md==3.3.0) (2.11.3)\n",
            "Requirement already satisfied: packaging>=20.0 in /usr/local/lib/python3.7/dist-packages (from spacy<3.4.0,>=3.3.0.dev0->en-core-web-md==3.3.0) (21.3)\n",
            "Requirement already satisfied: typer<0.5.0,>=0.3.0 in /usr/local/lib/python3.7/dist-packages (from spacy<3.4.0,>=3.3.0.dev0->en-core-web-md==3.3.0) (0.4.1)\n",
            "Requirement already satisfied: spacy-loggers<2.0.0,>=1.0.0 in /usr/local/lib/python3.7/dist-packages (from spacy<3.4.0,>=3.3.0.dev0->en-core-web-md==3.3.0) (1.0.2)\n",
            "Requirement already satisfied: spacy-legacy<3.1.0,>=3.0.9 in /usr/local/lib/python3.7/dist-packages (from spacy<3.4.0,>=3.3.0.dev0->en-core-web-md==3.3.0) (3.0.9)\n",
            "Requirement already satisfied: pathy>=0.3.5 in /usr/local/lib/python3.7/dist-packages (from spacy<3.4.0,>=3.3.0.dev0->en-core-web-md==3.3.0) (0.6.1)\n",
            "Requirement already satisfied: tqdm<5.0.0,>=4.38.0 in /usr/local/lib/python3.7/dist-packages (from spacy<3.4.0,>=3.3.0.dev0->en-core-web-md==3.3.0) (4.64.0)\n",
            "Requirement already satisfied: wasabi<1.1.0,>=0.9.1 in /usr/local/lib/python3.7/dist-packages (from spacy<3.4.0,>=3.3.0.dev0->en-core-web-md==3.3.0) (0.9.1)\n",
            "Requirement already satisfied: numpy>=1.15.0 in /usr/local/lib/python3.7/dist-packages (from spacy<3.4.0,>=3.3.0.dev0->en-core-web-md==3.3.0) (1.21.6)\n",
            "Requirement already satisfied: cymem<2.1.0,>=2.0.2 in /usr/local/lib/python3.7/dist-packages (from spacy<3.4.0,>=3.3.0.dev0->en-core-web-md==3.3.0) (2.0.6)\n",
            "Requirement already satisfied: thinc<8.1.0,>=8.0.14 in /usr/local/lib/python3.7/dist-packages (from spacy<3.4.0,>=3.3.0.dev0->en-core-web-md==3.3.0) (8.0.17)\n",
            "Requirement already satisfied: catalogue<2.1.0,>=2.0.6 in /usr/local/lib/python3.7/dist-packages (from spacy<3.4.0,>=3.3.0.dev0->en-core-web-md==3.3.0) (2.0.7)\n",
            "Requirement already satisfied: langcodes<4.0.0,>=3.2.0 in /usr/local/lib/python3.7/dist-packages (from spacy<3.4.0,>=3.3.0.dev0->en-core-web-md==3.3.0) (3.3.0)\n",
            "Requirement already satisfied: zipp>=0.5 in /usr/local/lib/python3.7/dist-packages (from catalogue<2.1.0,>=2.0.6->spacy<3.4.0,>=3.3.0.dev0->en-core-web-md==3.3.0) (3.8.0)\n",
            "Requirement already satisfied: pyparsing!=3.0.5,>=2.0.2 in /usr/local/lib/python3.7/dist-packages (from packaging>=20.0->spacy<3.4.0,>=3.3.0.dev0->en-core-web-md==3.3.0) (3.0.9)\n",
            "Requirement already satisfied: smart-open<6.0.0,>=5.0.0 in /usr/local/lib/python3.7/dist-packages (from pathy>=0.3.5->spacy<3.4.0,>=3.3.0.dev0->en-core-web-md==3.3.0) (5.2.1)\n",
            "Requirement already satisfied: certifi>=2017.4.17 in /usr/local/lib/python3.7/dist-packages (from requests<3.0.0,>=2.13.0->spacy<3.4.0,>=3.3.0.dev0->en-core-web-md==3.3.0) (2022.6.15)\n",
            "Requirement already satisfied: chardet<4,>=3.0.2 in /usr/local/lib/python3.7/dist-packages (from requests<3.0.0,>=2.13.0->spacy<3.4.0,>=3.3.0.dev0->en-core-web-md==3.3.0) (3.0.4)\n",
            "Requirement already satisfied: idna<3,>=2.5 in /usr/local/lib/python3.7/dist-packages (from requests<3.0.0,>=2.13.0->spacy<3.4.0,>=3.3.0.dev0->en-core-web-md==3.3.0) (2.10)\n",
            "Requirement already satisfied: urllib3!=1.25.0,!=1.25.1,<1.26,>=1.21.1 in /usr/local/lib/python3.7/dist-packages (from requests<3.0.0,>=2.13.0->spacy<3.4.0,>=3.3.0.dev0->en-core-web-md==3.3.0) (1.24.3)\n",
            "Requirement already satisfied: click<9.0.0,>=7.1.1 in /usr/local/lib/python3.7/dist-packages (from typer<0.5.0,>=0.3.0->spacy<3.4.0,>=3.3.0.dev0->en-core-web-md==3.3.0) (7.1.2)\n",
            "Requirement already satisfied: MarkupSafe>=0.23 in /usr/local/lib/python3.7/dist-packages (from jinja2->spacy<3.4.0,>=3.3.0.dev0->en-core-web-md==3.3.0) (2.0.1)\n",
            "Installing collected packages: en-core-web-md\n",
            "Successfully installed en-core-web-md-3.3.0\n",
            "\u001b[38;5;2m✔ Download and installation successful\u001b[0m\n",
            "You can now load the package via spacy.load('en_core_web_md')\n"
          ]
        }
      ]
    },
    {
      "cell_type": "code",
      "source": [
        "! pip install torchviz"
      ],
      "metadata": {
        "colab": {
          "base_uri": "https://localhost:8080/"
        },
        "id": "yAXIbxkraHg1",
        "outputId": "1b0ce15c-1592-4c23-d202-b9ae6d203695"
      },
      "execution_count": null,
      "outputs": [
        {
          "output_type": "stream",
          "name": "stdout",
          "text": [
            "Looking in indexes: https://pypi.org/simple, https://us-python.pkg.dev/colab-wheels/public/simple/\n",
            "Collecting torchviz\n",
            "  Downloading torchviz-0.0.2.tar.gz (4.9 kB)\n",
            "Requirement already satisfied: torch in /usr/local/lib/python3.7/dist-packages (from torchviz) (1.11.0+cu113)\n",
            "Requirement already satisfied: graphviz in /usr/local/lib/python3.7/dist-packages (from torchviz) (0.10.1)\n",
            "Requirement already satisfied: typing-extensions in /usr/local/lib/python3.7/dist-packages (from torch->torchviz) (4.1.1)\n",
            "Building wheels for collected packages: torchviz\n",
            "  Building wheel for torchviz (setup.py) ... \u001b[?25l\u001b[?25hdone\n",
            "  Created wheel for torchviz: filename=torchviz-0.0.2-py3-none-any.whl size=4150 sha256=6f403abb95d81ddfd51bf1715134811625fbd9abb19ac23a1ad2a324add35942\n",
            "  Stored in directory: /root/.cache/pip/wheels/04/38/f5/dc4f85c3909051823df49901e72015d2d750bd26b086480ec2\n",
            "Successfully built torchviz\n",
            "Installing collected packages: torchviz\n",
            "Successfully installed torchviz-0.0.2\n"
          ]
        }
      ]
    },
    {
      "cell_type": "code",
      "source": [
        "! pip install emoji --upgrade"
      ],
      "metadata": {
        "colab": {
          "base_uri": "https://localhost:8080/"
        },
        "id": "wkjRM95lN7mG",
        "outputId": "7c2a8e4f-dd58-46e3-cfbf-b354a695bdf0"
      },
      "execution_count": null,
      "outputs": [
        {
          "output_type": "stream",
          "name": "stdout",
          "text": [
            "Looking in indexes: https://pypi.org/simple, https://us-python.pkg.dev/colab-wheels/public/simple/\n",
            "Collecting emoji\n",
            "  Downloading emoji-1.7.0.tar.gz (175 kB)\n",
            "\u001b[K     |████████████████████████████████| 175 kB 7.9 MB/s \n",
            "\u001b[?25hBuilding wheels for collected packages: emoji\n",
            "  Building wheel for emoji (setup.py) ... \u001b[?25l\u001b[?25hdone\n",
            "  Created wheel for emoji: filename=emoji-1.7.0-py3-none-any.whl size=171046 sha256=573fe45855b05e0e98cb8b237d30d33c9ea975192b2ffa939a537a4372344870\n",
            "  Stored in directory: /root/.cache/pip/wheels/8a/4e/b6/57b01db010d17ef6ea9b40300af725ef3e210cb1acfb7ac8b6\n",
            "Successfully built emoji\n",
            "Installing collected packages: emoji\n",
            "Successfully installed emoji-1.7.0\n"
          ]
        }
      ]
    },
    {
      "cell_type": "code",
      "source": [
        "! pip install bcolz"
      ],
      "metadata": {
        "colab": {
          "base_uri": "https://localhost:8080/"
        },
        "id": "NprULpx7N7A-",
        "outputId": "519b9bdc-8ca9-41ae-e589-ebfe53e7df9a"
      },
      "execution_count": null,
      "outputs": [
        {
          "output_type": "stream",
          "name": "stdout",
          "text": [
            "Looking in indexes: https://pypi.org/simple, https://us-python.pkg.dev/colab-wheels/public/simple/\n",
            "Collecting bcolz\n",
            "  Downloading bcolz-1.2.1.tar.gz (1.5 MB)\n",
            "\u001b[K     |████████████████████████████████| 1.5 MB 8.1 MB/s \n",
            "\u001b[?25hRequirement already satisfied: numpy>=1.7 in /usr/local/lib/python3.7/dist-packages (from bcolz) (1.21.6)\n",
            "Building wheels for collected packages: bcolz\n",
            "  Building wheel for bcolz (setup.py) ... \u001b[?25l\u001b[?25hdone\n",
            "  Created wheel for bcolz: filename=bcolz-1.2.1-cp37-cp37m-linux_x86_64.whl size=2650031 sha256=f1a783caeffbeb416e4ff9ffad98790f5e3393f39046b3951dd58ae63837be68\n",
            "  Stored in directory: /root/.cache/pip/wheels/2c/35/ca/9d914de345914e2446ea285170329f771b8abba2a00f7650bd\n",
            "Successfully built bcolz\n",
            "Installing collected packages: bcolz\n",
            "Successfully installed bcolz-1.2.1\n"
          ]
        }
      ]
    },
    {
      "cell_type": "code",
      "source": [
        "import pandas as pd\n",
        "import numpy as np\n",
        "from sklearn.model_selection import train_test_split\n",
        "from sklearn.metrics import balanced_accuracy_score, ConfusionMatrixDisplay, classification_report, confusion_matrix\n",
        "from sklearn.preprocessing import StandardScaler\n",
        "import spacy\n",
        "import nltk\n",
        "nltk.download('stopwords')\n",
        "from nltk.corpus import stopwords\n",
        "from bs4 import BeautifulSoup\n",
        "import emoji\n",
        "import pickle\n",
        "import bcolz\n",
        "import torch\n",
        "import torch.nn as nn\n",
        "import torch.nn.functional as F\n",
        "from torchsummary import summary\n",
        "from torchviz import make_dot\n",
        "import time\n",
        "import random\n",
        "import en_core_web_md\n",
        "nlp = en_core_web_md.load()\n",
        "import matplotlib.pyplot as plt\n",
        "from adjustText import adjust_text\n",
        "import seaborn as sns\n",
        "from tqdm.auto import tqdm,trange\n",
        "import re, string, unicodedata\n",
        "from string import punctuation\n",
        "from collections import defaultdict\n",
        "from torch.utils.data.dataloader import default_collate\n",
        "device = torch.device(\"cuda:0\")"
      ],
      "metadata": {
        "colab": {
          "base_uri": "https://localhost:8080/"
        },
        "id": "ZNOPkZ0G_DEI",
        "outputId": "fdc4c71c-f1c8-4cab-8cb8-b12cb14f5872"
      },
      "execution_count": null,
      "outputs": [
        {
          "output_type": "stream",
          "name": "stderr",
          "text": [
            "[nltk_data] Downloading package stopwords to /root/nltk_data...\n",
            "[nltk_data]   Unzipping corpora/stopwords.zip.\n"
          ]
        }
      ]
    },
    {
      "cell_type": "markdown",
      "source": [
        "# Without pre-trained embeddings"
      ],
      "metadata": {
        "id": "MfR8d70l3UUg"
      }
    },
    {
      "cell_type": "markdown",
      "source": [
        "## Import"
      ],
      "metadata": {
        "id": "jcb3hoB-3c_n"
      }
    },
    {
      "cell_type": "code",
      "source": [
        "train_df = pd.read_csv('/content/drive/MyDrive/Deep Learning/Covid sentiment/Corona_NLP_train.csv', encoding='ISO-8859-1')\n",
        "test_df = pd.read_csv('/content/drive/MyDrive/Deep Learning/Covid sentiment/Corona_NLP_test.csv')"
      ],
      "metadata": {
        "id": "P1kkIcHe_DBq"
      },
      "execution_count": null,
      "outputs": []
    },
    {
      "cell_type": "code",
      "source": [
        "train_df = train_df[['OriginalTweet', 'Sentiment']]\n",
        "test_df = test_df[['OriginalTweet', 'Sentiment']]"
      ],
      "metadata": {
        "id": "_QzmQTNO_WRY"
      },
      "execution_count": null,
      "outputs": []
    },
    {
      "cell_type": "code",
      "source": [
        "train_df['Sentiment'] = train_df['Sentiment'].map({'Extremely Negative':0,'Negative':0,'Neutral':1,'Positive':2,'Extremely Positive':2})\n",
        "test_df['Sentiment'] = test_df['Sentiment'].map({'Extremely Negative':0,'Negative':0,'Neutral':1,'Positive':2,'Extremely Positive':2})"
      ],
      "metadata": {
        "id": "wmvwX-WTBbjw"
      },
      "execution_count": null,
      "outputs": []
    },
    {
      "cell_type": "markdown",
      "source": [
        "## Data Cleaning"
      ],
      "metadata": {
        "id": "r0ZKIVc4Il-w"
      }
    },
    {
      "cell_type": "code",
      "source": [
        "stop = set(stopwords.words('english'))\n",
        "punctuation = list(string.punctuation)\n",
        "stop.update(punctuation)"
      ],
      "metadata": {
        "id": "WnSivQq01OjS"
      },
      "execution_count": null,
      "outputs": []
    },
    {
      "cell_type": "code",
      "source": [
        "#Clean emojis from text\n",
        "def strip_emoji(text):\n",
        "    return re.sub(emoji.get_emoji_regexp(), r\"\", text) \n",
        "\n",
        "#Remove punctuations, links, mentions and \\r\\n new line characters\n",
        "def strip_all_entities(text): \n",
        "    text = text.replace('\\r', '').replace('\\n', ' ').replace('\\n', ' ').lower() #remove \\n and \\r and lowercase\n",
        "    text = re.sub(r\"(?:\\@|https?\\://)\\S+\", \"\", text) #remove links and mentions\n",
        "    text = re.sub(r'[^\\x00-\\x7f]',r'', text) #remove non utf8/ascii characters such as '\\x9a\\x91\\x97\\x9a\\x97'\n",
        "    banned_list= string.punctuation + 'Ã'+'±'+'ã'+'¼'+'â'+'»'+'§'\n",
        "    table = str.maketrans('', '', banned_list)\n",
        "    text = text.translate(table)\n",
        "    return text\n",
        "\n",
        "#clean hashtags at the end of the sentence, and keep those in the middle of the sentence by removing just the # symbol\n",
        "def clean_hashtags(tweet):\n",
        "    new_tweet = \" \".join(word.strip() for word in re.split('#(?!(?:hashtag)\\b)[\\w-]+(?=(?:\\s+#[\\w-]+)*\\s*$)', tweet)) #remove last hashtags\n",
        "    new_tweet2 = \" \".join(word.strip() for word in re.split('#|_', new_tweet)) #remove hashtags symbol from words in the middle of the sentence\n",
        "    return new_tweet2\n",
        "\n",
        "#Filter special characters such as & and $ present in some words\n",
        "def filter_chars(a):\n",
        "    sent = []\n",
        "    for word in a.split(' '):\n",
        "        if ('$' in word) | ('&' in word):\n",
        "            sent.append('')\n",
        "        else:\n",
        "            sent.append(word)\n",
        "    return ' '.join(sent)\n",
        "\n",
        "def remove_mult_spaces(text): # remove multiple spaces\n",
        "    return re.sub(\"\\s\\s+\" , \" \", text)\n",
        "\n",
        "#Removing the stopwords from text\n",
        "def remove_stopwords(text):\n",
        "    final_text = []\n",
        "    for i in text.split():\n",
        "        if i.strip().lower() not in stop:\n",
        "            final_text.append(i.strip())\n",
        "    return \" \".join(final_text)\n",
        "\n",
        "# urls\n",
        "def remove_url(text):\n",
        "    return re.sub(r'http\\S+', '', text)\n",
        "\n",
        "def strip_html(text):\n",
        "    soup = BeautifulSoup(text, \"html.parser\")\n",
        "    return soup.get_text()\n",
        "\n",
        "def remove_between_square_brackets(text):\n",
        "    return re.sub('\\[[^]]*\\]', '', text)\n",
        "\n",
        "#Removing the noisy text\n",
        "def denoise_text(text):\n",
        "    text = strip_html(text)\n",
        "    text = remove_between_square_brackets(text)\n",
        "    text = remove_stopwords(text)\n",
        "    return text"
      ],
      "metadata": {
        "id": "oFN_SENBG4Tb"
      },
      "execution_count": null,
      "outputs": []
    },
    {
      "cell_type": "code",
      "source": [
        "train_df['OriginalTweet'] = train_df['OriginalTweet'].apply(lambda x: strip_emoji(x))\n",
        "test_df['OriginalTweet'] = test_df['OriginalTweet'].apply(lambda x: strip_emoji(x))\n",
        "\n",
        "train_df['OriginalTweet'] = train_df['OriginalTweet'].apply(lambda x: strip_all_entities(x))\n",
        "test_df['OriginalTweet'] = test_df['OriginalTweet'].apply(lambda x: strip_all_entities(x))\n",
        "\n",
        "train_df['OriginalTweet'] = train_df['OriginalTweet'].apply(lambda x: clean_hashtags(x))\n",
        "test_df['OriginalTweet'] = test_df['OriginalTweet'].apply(lambda x: clean_hashtags(x))\n",
        "\n",
        "train_df['OriginalTweet'] = train_df['OriginalTweet'].apply(lambda x: filter_chars(x))\n",
        "test_df['OriginalTweet'] = test_df['OriginalTweet'].apply(lambda x: filter_chars(x))\n",
        "\n",
        "train_df['OriginalTweet'] = train_df['OriginalTweet'].apply(lambda x: remove_mult_spaces(x))\n",
        "test_df['OriginalTweet'] = test_df['OriginalTweet'].apply(lambda x: remove_mult_spaces(x))\n",
        "\n",
        "train_df['OriginalTweet'] = train_df['OriginalTweet'].apply(lambda x: remove_stopwords(x))\n",
        "test_df['OriginalTweet'] = test_df['OriginalTweet'].apply(lambda x: remove_stopwords(x))\n",
        "\n",
        "train_df['OriginalTweet'] = train_df['OriginalTweet'].apply(lambda x: remove_url(x))\n",
        "test_df['OriginalTweet'] = test_df['OriginalTweet'].apply(lambda x: remove_url(x))\n",
        "\n",
        "train_df['OriginalTweet'] = train_df['OriginalTweet'].apply(lambda x: denoise_text(x))\n",
        "test_df['OriginalTweet'] = test_df['OriginalTweet'].apply(lambda x: denoise_text(x))"
      ],
      "metadata": {
        "colab": {
          "base_uri": "https://localhost:8080/"
        },
        "id": "nO7d2Ag3J0cZ",
        "outputId": "f08b8b10-8abd-42e4-ec63-b682afc48836"
      },
      "execution_count": null,
      "outputs": [
        {
          "output_type": "stream",
          "name": "stderr",
          "text": [
            "/usr/local/lib/python3.7/dist-packages/ipykernel_launcher.py:3: DeprecationWarning: 'emoji.get_emoji_regexp()' is deprecated and will be removed in version 2.0.0. If you want to remove emoji from a string, consider the method emoji.replace_emoji(str, replace='').\n",
            "To hide this warning, pin/downgrade the package to 'emoji~=1.6.3'\n",
            "  This is separate from the ipykernel package so we can avoid doing imports until\n"
          ]
        }
      ]
    },
    {
      "cell_type": "code",
      "source": [
        "print(len(train_df[train_df['OriginalTweet'].str.contains('19')]))\n",
        "print(len(train_df[train_df['OriginalTweet'].str.contains('covid 19')]))\n",
        "print(len(train_df[train_df['OriginalTweet'].str.contains('covid19')]))"
      ],
      "metadata": {
        "colab": {
          "base_uri": "https://localhost:8080/"
        },
        "id": "KXzTa--MTpNP",
        "outputId": "b382bf0c-974e-45e3-9645-52cfd83d8a33"
      },
      "execution_count": null,
      "outputs": [
        {
          "output_type": "stream",
          "name": "stdout",
          "text": [
            "21472\n",
            "2758\n",
            "16325\n"
          ]
        }
      ]
    },
    {
      "cell_type": "markdown",
      "source": [
        "## Vocabulary"
      ],
      "metadata": {
        "id": "zvh07FXLRNGV"
      }
    },
    {
      "cell_type": "code",
      "source": [
        "df = pd.concat([train_df, test_df], ignore_index=True)"
      ],
      "metadata": {
        "id": "2E-TJu31T3p3"
      },
      "execution_count": null,
      "outputs": []
    },
    {
      "cell_type": "code",
      "source": [
        "content_words=[]\n",
        "\n",
        "for text in tqdm(df['OriginalTweet']):\n",
        "    with nlp.disable_pipes(\"tagger\",\"parser\",\"ner\"):\n",
        "        doc = nlp(text)\n",
        "        content_words.append([token.text.lower() for token in doc])"
      ],
      "metadata": {
        "colab": {
          "base_uri": "https://localhost:8080/",
          "height": 49,
          "referenced_widgets": [
            "4daf51faf39240f289704c035dcb9680",
            "61e9976ceec74ea5bc948e319bdda421",
            "65fb7a9950f84c66ad6473300e36566e",
            "c8355a851e4843f2961defd39f1471f7",
            "2ca6425a9e294330bbc1dffccb9e9904",
            "c5166fe9cd8c4b0fb95702122801f61c",
            "1b41871f6c5d4c909a820fe212b3e3a4",
            "7e61e44a945a4b79b615e1a4414b455e",
            "236910cda4ab4b02867ee8db94644d38",
            "550dd32c997949ab8628371592d80809",
            "b5652416d37f4d63880add7cb9469a58"
          ]
        },
        "id": "zSICliUHPxi0",
        "outputId": "76216925-ad32-4cff-f3db-9a1dcbe4b2e4"
      },
      "execution_count": null,
      "outputs": [
        {
          "output_type": "display_data",
          "data": {
            "text/plain": [
              "  0%|          | 0/44955 [00:00<?, ?it/s]"
            ],
            "application/vnd.jupyter.widget-view+json": {
              "version_major": 2,
              "version_minor": 0,
              "model_id": "4daf51faf39240f289704c035dcb9680"
            }
          },
          "metadata": {}
        }
      ]
    },
    {
      "cell_type": "code",
      "source": [
        "df['content_words'] = content_words"
      ],
      "metadata": {
        "id": "a4SdgoHrPxmv"
      },
      "execution_count": null,
      "outputs": []
    },
    {
      "cell_type": "code",
      "source": [
        "df['len'] = [len(content) for content in df['content_words']]"
      ],
      "metadata": {
        "id": "iEVQzBVfPxqy"
      },
      "execution_count": null,
      "outputs": []
    },
    {
      "cell_type": "code",
      "source": [
        "class WordTokenizer(): # occurrences of the words in the corpus\n",
        "    def __init__(self, tok_seqs, threshold=15): \n",
        "        tok_counts={} # keys: words, values: occurrences\n",
        "        \n",
        "        for tok_seq in tqdm(tok_seqs): # iterate over the list of words in each row in the df\n",
        "            for tok in tok_seq:\n",
        "                if not tok in tok_counts.keys():\n",
        "                    tok_counts[tok]=1\n",
        "                else:\n",
        "                    tok_counts[tok]+=1\n",
        "        \n",
        "        self.vocab={'[PAD]':0,'[UNK]':1} # initialize vocab attribute with padding and unknown\n",
        "        for tok, val in tok_counts.items(): # iterate over the values in the previously created dictionary (words:occurrences dict)\n",
        "            if val>=threshold:\n",
        "                self.vocab[tok]=len(self.vocab) # the keys are words that have at least 'threshold' occurrences and the values are integers (starting from 2) -> values are unique too\n",
        "                \n",
        "        print(\"The size of the dictionary:\",len(self.vocab))\n",
        "    def encode(self,seq):\n",
        "        encoded=[]\n",
        "        for tok in seq: # iterate over the list of words in each row in the df\n",
        "            if tok in self.vocab.keys(): # if the word is in the previously created vocab (where the values are unique)\n",
        "                encoded.append(self.vocab[tok]) # append the value (the integer encoding of the word)\n",
        "            else:\n",
        "                encoded.append(1) # if the word does not have at least 'threshold' occurrences then label those as unknown word (with value 1)\n",
        "        return encoded"
      ],
      "metadata": {
        "id": "jr0D_mZyRLIZ"
      },
      "execution_count": null,
      "outputs": []
    },
    {
      "cell_type": "code",
      "source": [
        "word_tokenizer = WordTokenizer(df['content_words'])\n",
        "df['word_encoded'] = [word_tokenizer.encode(seq) for seq in tqdm(df['content_words'])] # unqiue integer representation of each words which has at least 'threshold' occ or 1 if not\n",
        "df['word_length'] = [len(seq) for seq in tqdm(df['content_words'])] # length of the encoded lists in each row of the df"
      ],
      "metadata": {
        "colab": {
          "base_uri": "https://localhost:8080/",
          "height": 130,
          "referenced_widgets": [
            "954656115cfd4af8bb83a73394740cc3",
            "9793a2961f674a148adfa85aed4eaeb3",
            "3f79488532eb4d94a2ad2fb8933d2c72",
            "5fa77e5cc7c34565bd1e41517ab60938",
            "6b704134543a4398b6625bae6876b480",
            "24888669f5df45f6936a5ec2db52c380",
            "4fff24389d414297966fa56a46712b54",
            "2c17f6fa5c9847aa9dee422111ba2fa6",
            "4fdd62259dec49cf92500339894dea45",
            "9347075a91324560b1d5fa2a3696bb35",
            "c068e77eab674ebeacec252b92ec5502",
            "ec3cb4ae05cb492b9ab318f7aecc535a",
            "0190062ccd6c46efb23273952978717a",
            "8e934e9513004e86928288a207708708",
            "01e6c1807ff84ac693f82a761b0f818d",
            "310517cf01214250af8f0d21da9bb805",
            "566394fe69ca40579f489acc02100e25",
            "2279b6c3c5e04c5ca0b19456730a1585",
            "0dec4fe08e174f08aebe42587694e415",
            "15bd3203bb324c3ea5414eea44c639b3",
            "71d4d5951edb4615aec2951bd14f91ab",
            "41f3a462fc6c4f5b954c67b6fce05ceb",
            "8a869bc8538349f5a8dec47ee8468c32",
            "53a8a187ff434006875b4ee1e0e57def",
            "1f77c9eee0a7426896c31cdcbfdb141a",
            "8185212ca90245299d1937234dedd3f5",
            "11200f9255024e16926195a0b57d9665",
            "315051d39c6444f4836f8673c726b959",
            "fe2fec1b64da4724b486105f3880c0cf",
            "2972cf46b9804004a5a87935202bd9aa",
            "e2546f14333a4c25ba1f3e6f5f2b21ac",
            "ac7bd30ad7214b0fa44c60dbb0006b3d",
            "0dcce048198540c7827bc46429d4b7b5"
          ]
        },
        "id": "LgzkX5EbRLGH",
        "outputId": "e5b8c6c4-3220-4d69-da79-604b13ebe77f"
      },
      "execution_count": null,
      "outputs": [
        {
          "output_type": "display_data",
          "data": {
            "text/plain": [
              "  0%|          | 0/44955 [00:00<?, ?it/s]"
            ],
            "application/vnd.jupyter.widget-view+json": {
              "version_major": 2,
              "version_minor": 0,
              "model_id": "954656115cfd4af8bb83a73394740cc3"
            }
          },
          "metadata": {}
        },
        {
          "output_type": "stream",
          "name": "stdout",
          "text": [
            "The size of the dictionary: 5439\n"
          ]
        },
        {
          "output_type": "display_data",
          "data": {
            "text/plain": [
              "  0%|          | 0/44955 [00:00<?, ?it/s]"
            ],
            "application/vnd.jupyter.widget-view+json": {
              "version_major": 2,
              "version_minor": 0,
              "model_id": "ec3cb4ae05cb492b9ab318f7aecc535a"
            }
          },
          "metadata": {}
        },
        {
          "output_type": "display_data",
          "data": {
            "text/plain": [
              "  0%|          | 0/44955 [00:00<?, ?it/s]"
            ],
            "application/vnd.jupyter.widget-view+json": {
              "version_major": 2,
              "version_minor": 0,
              "model_id": "8a869bc8538349f5a8dec47ee8468c32"
            }
          },
          "metadata": {}
        }
      ]
    },
    {
      "cell_type": "markdown",
      "source": [
        "## Train-val-test split"
      ],
      "metadata": {
        "id": "C_Gx6_cZHEGc"
      }
    },
    {
      "cell_type": "code",
      "source": [
        "train_len = len(train_df)\n",
        "\n",
        "train_df = df[:train_len]\n",
        "test_df = df[train_len:]\n",
        "\n",
        "train_df = train_df[train_df['len']>4]\n",
        "test_df = test_df[test_df['len']>3]\n",
        "\n",
        "train_df, dev_df = train_test_split(train_df, test_size=0.1, stratify=train_df.Sentiment, random_state=0)\n",
        "# dev_df is the validation df "
      ],
      "metadata": {
        "id": "cB5K58-2VEjU"
      },
      "execution_count": null,
      "outputs": []
    },
    {
      "cell_type": "code",
      "source": [
        "print(len(test_df)/len(train_df))\n",
        "print(len(dev_df)/len(train_df))\n",
        "print((len(test_df)+len(dev_df))/len(train_df))"
      ],
      "metadata": {
        "colab": {
          "base_uri": "https://localhost:8080/"
        },
        "id": "8yTLTyfIQzDv",
        "outputId": "7455ab68-dcd5-4613-86c7-ebc70d448d50"
      },
      "execution_count": null,
      "outputs": [
        {
          "output_type": "stream",
          "name": "stdout",
          "text": [
            "0.1036571992543042\n",
            "0.11111415725408488\n",
            "0.21477135650838908\n"
          ]
        }
      ]
    },
    {
      "cell_type": "markdown",
      "source": [
        "## EDA visualizations"
      ],
      "metadata": {
        "id": "fpvQTZAKnZ5G"
      }
    },
    {
      "cell_type": "code",
      "source": [
        "fig,(ax1,ax2,ax3)=plt.subplots(1,3,figsize=(15,5))\n",
        "\n",
        "tweet_len = train_df[train_df['Sentiment']==0]['word_length']\n",
        "ax1.hist(tweet_len,color='#DA0000', bins=15)\n",
        "ax1.set_title('Negative Sentiments')\n",
        "\n",
        "tweet_len = train_df[train_df['Sentiment']==1]['word_length']\n",
        "ax2.hist(tweet_len,color='#FACA0C', bins=15)\n",
        "ax2.set_title('Neutral Sentiments')\n",
        "\n",
        "tweet_len = train_df[train_df['Sentiment']==2]['word_length']\n",
        "ax3.hist(tweet_len,color='#669933', bins=15)\n",
        "ax3.set_title('Positive Sentiments')\n",
        "\n",
        "fig.suptitle('Length of sequences by tokens')\n",
        "plt.savefig('sequence_lengths.png')\n",
        "plt.show()"
      ],
      "metadata": {
        "colab": {
          "base_uri": "https://localhost:8080/",
          "height": 356
        },
        "id": "4sBpiowkb7oI",
        "outputId": "0adf9ccc-64ba-4ac0-ada2-b7c73e259ca6"
      },
      "execution_count": null,
      "outputs": [
        {
          "output_type": "display_data",
          "data": {
            "text/plain": [
              "<Figure size 1080x360 with 3 Axes>"
            ],
            "image/png": "[encoded data removed]"
          },
          "metadata": {
            "needs_background": "light"
          }
        }
      ]
    },
    {
      "cell_type": "code",
      "source": [
        "train_df['Sentiment'] = train_df['Sentiment'].map({0:'Negative', 1:'Neutral',2:'Positive'})\n",
        "dev_df['Sentiment'] = dev_df['Sentiment'].map({0:'Negative', 1:'Neutral',2:'Positive'})"
      ],
      "metadata": {
        "id": "Qj4UcioejjcB"
      },
      "execution_count": null,
      "outputs": []
    },
    {
      "cell_type": "code",
      "source": [
        "plt.figure(figsize=(12, 4))\n",
        "plt.subplot(1, 2, 1)\n",
        "train_df.Sentiment.value_counts(normalize=True).plot(kind='bar', color=['#669933', '#DA0000', '#FACA0C'])\n",
        "plt.title('Train set')\n",
        "\n",
        "plt.subplot(1, 2, 2)\n",
        "dev_df.Sentiment.value_counts(normalize=True).plot(kind='bar', color=['#669933', '#DA0000', '#FACA0C'])\n",
        "plt.title('Validation set')\n",
        "\n",
        "plt.suptitle('Distribution of the response variable')\n",
        "plt.savefig('response_dist.png')\n",
        "plt.show()"
      ],
      "metadata": {
        "colab": {
          "base_uri": "https://localhost:8080/",
          "height": 329
        },
        "id": "QBcsyqAOfE0z",
        "outputId": "b0833396-da36-46ca-87d8-0b60151113f3"
      },
      "execution_count": null,
      "outputs": [
        {
          "output_type": "display_data",
          "data": {
            "text/plain": [
              "<Figure size 864x288 with 2 Axes>"
            ],
            "image/png": "[encoded data removed]"
          },
          "metadata": {
            "needs_background": "light"
          }
        }
      ]
    },
    {
      "cell_type": "code",
      "source": [
        "train_df['Sentiment'] = train_df['Sentiment'].map({'Negative':0, 'Neutral':1, 'Positive':2})\n",
        "dev_df['Sentiment'] = dev_df['Sentiment'].map({'Negative':0, 'Neutral':1, 'Positive':2})"
      ],
      "metadata": {
        "id": "viemdJqufEtI"
      },
      "execution_count": null,
      "outputs": []
    },
    {
      "cell_type": "code",
      "source": [
        "def build_vocab(sentences, verbose =  True):\n",
        "    \"\"\"\n",
        "    Just to check the occurrences of words.\n",
        "    Keys are the words, values are the occurrences.\n",
        "    \"\"\"\n",
        "    vocab = {}\n",
        "    for sentence in tqdm(sentences, disable = (not verbose)):\n",
        "        for word in sentence:\n",
        "            try:\n",
        "                vocab[word] += 1\n",
        "            except KeyError:\n",
        "                vocab[word] = 1\n",
        "    return vocab"
      ],
      "metadata": {
        "id": "vY50AN9yoH02"
      },
      "execution_count": null,
      "outputs": []
    },
    {
      "cell_type": "code",
      "source": [
        "sentences = df[\"content_words\"]\n",
        "vocab = build_vocab(sentences)"
      ],
      "metadata": {
        "colab": {
          "base_uri": "https://localhost:8080/",
          "height": 49,
          "referenced_widgets": [
            "5a05f1cab52e4217aff7da64a5946d5c",
            "5a2252fcac8d4c0c8f1a24f2193cab8f",
            "7b42205c3b67474ca1e7ab0a88967708",
            "333d36f789544d9c9e688953f5d6292c",
            "2eca6a24d7e44fe7b7286883b1b5ebd8",
            "3fc051ef5d1d4960883cb44d0ef2e708",
            "d5ca29e6d4a54e02b9e315659efa6d29",
            "d0c9f6983d1d4f95b86c7d677777f990",
            "cdd3248cc0364d04bbb9c2c58552fa49",
            "d9e5d495f15a42f99463bf07a3cfcf92",
            "e24fcf4908094974a96c4dbc947d1b76"
          ]
        },
        "id": "jkzP24XPoIvA",
        "outputId": "4a998f7e-a433-4150-d7ee-854d62892051"
      },
      "execution_count": null,
      "outputs": [
        {
          "output_type": "display_data",
          "data": {
            "text/plain": [
              "  0%|          | 0/44955 [00:00<?, ?it/s]"
            ],
            "application/vnd.jupyter.widget-view+json": {
              "version_major": 2,
              "version_minor": 0,
              "model_id": "5a05f1cab52e4217aff7da64a5946d5c"
            }
          },
          "metadata": {}
        }
      ]
    },
    {
      "cell_type": "code",
      "source": [
        "from collections import Counter\n",
        "c = Counter(vocab)\n",
        "most_commons = c.most_common(15)\n",
        "most_commons.sort(key=lambda x: x[1])"
      ],
      "metadata": {
        "id": "t75sURgPn_sO"
      },
      "execution_count": null,
      "outputs": []
    },
    {
      "cell_type": "code",
      "source": [
        "plt.rcParams[\"figure.figsize\"] = (6,9)\n",
        "plt.barh(*zip(*most_commons))\n",
        "plt.title('Most frequently occurring tokens')\n",
        "plt.xlabel('Occurences')\n",
        "plt.savefig('token_occurences.png')\n",
        "plt.show()"
      ],
      "metadata": {
        "colab": {
          "base_uri": "https://localhost:8080/",
          "height": 567
        },
        "id": "LySaazBToQ7J",
        "outputId": "6f3c61fc-e760-4ac5-d5ce-7e00667dc775"
      },
      "execution_count": null,
      "outputs": [
        {
          "output_type": "display_data",
          "data": {
            "text/plain": [
              "<Figure size 432x648 with 1 Axes>"
            ],
            "image/png": "[encoded data removed]"
          },
          "metadata": {
            "needs_background": "light"
          }
        }
      ]
    },
    {
      "cell_type": "markdown",
      "source": [
        "## Padding"
      ],
      "metadata": {
        "id": "T7TXal8SRLDj"
      }
    },
    {
      "cell_type": "code",
      "source": [
        "maxlen = train_df.word_encoded.apply(len).max()\n",
        "print(maxlen)\n",
        "\n",
        "def pad_sequence(sequence):\n",
        "    if len(sequence) > maxlen:\n",
        "        return sequence[:maxlen]\n",
        "    return sequence + [word_tokenizer.vocab['[PAD]'] for _ in range(maxlen-len(sequence))]"
      ],
      "metadata": {
        "colab": {
          "base_uri": "https://localhost:8080/"
        },
        "id": "hlJjRCdsRLBZ",
        "outputId": "c194d4b5-9904-4bba-fb4e-758945f69c0b"
      },
      "execution_count": null,
      "outputs": [
        {
          "output_type": "stream",
          "name": "stdout",
          "text": [
            "45\n"
          ]
        }
      ]
    },
    {
      "cell_type": "code",
      "source": [
        "train_df['padded'] = train_df.word_encoded.apply(pad_sequence)\n",
        "dev_df['padded'] = dev_df.word_encoded.apply(pad_sequence)\n",
        "test_df['padded'] = test_df.word_encoded.apply(pad_sequence)\n",
        "\n",
        "train_df['padded'].apply(len).value_counts()"
      ],
      "metadata": {
        "colab": {
          "base_uri": "https://localhost:8080/"
        },
        "id": "sCQ3ejrtQ4Gq",
        "outputId": "1ade5a20-87e3-4db0-8485-72fa09d927ac"
      },
      "execution_count": null,
      "outputs": [
        {
          "output_type": "execute_result",
          "data": {
            "text/plain": [
              "45    36476\n",
              "Name: padded, dtype: int64"
            ]
          },
          "metadata": {},
          "execution_count": 81
        }
      ]
    },
    {
      "cell_type": "markdown",
      "source": [
        "## Input and Output tensors"
      ],
      "metadata": {
        "id": "2UKhOOqzWC81"
      }
    },
    {
      "cell_type": "markdown",
      "source": [
        "### Random Over Sampling"
      ],
      "metadata": {
        "id": "wsxy1azjhw8t"
      }
    },
    {
      "cell_type": "markdown",
      "source": [
        "I ran some experiments with oversampled data, but I cannot obtain better results. (The final version of the notebook only contains the best obtained experiments.) Usually this ratio of the response variable cannot be considered unbalanced, nevertheless I have tried."
      ],
      "metadata": {
        "id": "gdAYfGHq4bQH"
      }
    },
    {
      "cell_type": "code",
      "source": [
        "# X_train = train_df.drop(['Sentiment'], axis=1)\n",
        "# y_train = train_df['Sentiment']"
      ],
      "metadata": {
        "id": "JjdLUh0JrOXH"
      },
      "execution_count": null,
      "outputs": []
    },
    {
      "cell_type": "code",
      "source": [
        "# from imblearn.over_sampling import RandomOverSampler"
      ],
      "metadata": {
        "id": "YzKaMEM0sQSi"
      },
      "execution_count": null,
      "outputs": []
    },
    {
      "cell_type": "code",
      "source": [
        "# ros = RandomOverSampler(random_state=0)\n",
        "# X_train_res, y_train_res = ros.fit_resample(X_train, y_train)"
      ],
      "metadata": {
        "id": "1MVaAZ-hsIZY"
      },
      "execution_count": null,
      "outputs": []
    },
    {
      "cell_type": "markdown",
      "source": [
        "### Extracting the tensors"
      ],
      "metadata": {
        "id": "uqyLnaQ_h1bI"
      }
    },
    {
      "cell_type": "code",
      "source": [
        "\"\"\"\"X_train = torch.from_numpy(np.array(list(X_train_res.padded))).to(device)\n",
        "y_train = torch.LongTensor(y_train_res).to(device)\n",
        "seqlen_train = torch.LongTensor(X_train_res.word_length.values)\n",
        "print(f\"X train size: {X_train.size()},\\ny train size: {y_train.size()}\\nseq_len train size: {seqlen_train.size()}\\n\")\"\"\"\n",
        "\n",
        "X_train = torch.from_numpy(np.array(list(train_df.padded))).to(device)\n",
        "y_train = torch.LongTensor(train_df.Sentiment.values).to(device)\n",
        "seqlen_train = torch.LongTensor(train_df.word_length.values)\n",
        "print(f\"X train size: {X_train.size()},\\ny train size: {y_train.size()}\\nseq_len train size: {seqlen_train.size()}\\n\")\n",
        "\n",
        "X_dev = torch.from_numpy(np.array(list(dev_df.padded))).to(device)\n",
        "y_dev = torch.LongTensor(dev_df.Sentiment.values).to(device)\n",
        "seqlen_dev = torch.LongTensor(dev_df.word_length.values)\n",
        "print(f\"X dev size: {X_dev.size()},\\ny dev size: {y_dev.size()}\\nseq_len dev size: {seqlen_dev.size()}\\n\")\n",
        "\n",
        "X_test = torch.from_numpy(np.array(list(test_df.padded))).to(device)\n",
        "y_test = torch.LongTensor(test_df.Sentiment.values).to(device)\n",
        "seqlen_test = torch.LongTensor(test_df.word_length.values)\n",
        "print(f\"X test size: {X_test.size()},\\ny test size: {y_test.size()}\\nseq_len test size: {seqlen_test.size()}\\n\")"
      ],
      "metadata": {
        "colab": {
          "base_uri": "https://localhost:8080/"
        },
        "id": "ZEEnGLP1WUTc",
        "outputId": "7a8e0a97-7f45-46bb-f843-09a19bc44562"
      },
      "execution_count": null,
      "outputs": [
        {
          "output_type": "stream",
          "name": "stdout",
          "text": [
            "X train size: torch.Size([36476, 45]),\n",
            "y train size: torch.Size([36476])\n",
            "seq_len train size: torch.Size([36476])\n",
            "\n",
            "X dev size: torch.Size([4053, 45]),\n",
            "y dev size: torch.Size([4053])\n",
            "seq_len dev size: torch.Size([4053])\n",
            "\n",
            "X test size: torch.Size([3781, 45]),\n",
            "y test size: torch.Size([3781])\n",
            "seq_len test size: torch.Size([3781])\n",
            "\n"
          ]
        }
      ]
    },
    {
      "cell_type": "markdown",
      "source": [
        "## Model"
      ],
      "metadata": {
        "id": "eYW3gMTaGd0C"
      }
    },
    {
      "cell_type": "code",
      "source": [
        "class LSTMClassifier(nn.Module):\n",
        "    def __init__(self, input_size, embedding_size, hidden_size, output_size, dropout):\n",
        "        super().__init__()\n",
        "        self.embedding = nn.Embedding(input_size, embedding_size)\n",
        "        self.lstm = nn.LSTM(\n",
        "            input_size=embedding_size,\n",
        "            hidden_size=hidden_size,\n",
        "            num_layers=1,\n",
        "            bidirectional=True,\n",
        "            batch_first=True,\n",
        "            dropout = dropout\n",
        "        )\n",
        "        self.dense = nn.Linear(hidden_size * 2, output_size)\n",
        "        self.dropout = nn.Dropout(dropout)\n",
        "        \n",
        "    # the input signature of forward changes\n",
        "    def forward(self, sequences, sequence_lens):\n",
        "        embedded = self.dropout(self.embedding(sequences))\n",
        "        packed = nn.utils.rnn.pack_padded_sequence(\n",
        "            embedded,\n",
        "            sequence_lens.cpu().numpy(), # new: i use gpu so i have to implicitly put this to cpu as expected\n",
        "            enforce_sorted=False,\n",
        "            batch_first=True)\n",
        "        packed_outputs, (h, c) = self.lstm(packed)\n",
        "        # extract LSTM outputs (not used here)\n",
        "        lstm_outputs, lens = nn.utils.rnn.pad_packed_sequence(packed_outputs)\n",
        "        \n",
        "        h = self.dropout(torch.cat((h[0], h[1]), dim=-1))\n",
        "        output = self.dense(h)\n",
        "        return output"
      ],
      "metadata": {
        "id": "PSczxcJxWUXZ"
      },
      "execution_count": null,
      "outputs": []
    },
    {
      "cell_type": "markdown",
      "source": [
        "## Batch iterator"
      ],
      "metadata": {
        "id": "YQxN1TVAGgvh"
      }
    },
    {
      "cell_type": "code",
      "source": [
        "class BatchedIterator:\n",
        "    def __init__(self, *tensors, batch_size):\n",
        "        # all tensors must have the same first dimension\n",
        "        assert len(set(len(tensor) for tensor in tensors)) == 1\n",
        "        self.tensors = tensors\n",
        "        self.batch_size = batch_size\n",
        "    \n",
        "    def iterate_once(self):\n",
        "        num_data = len(self.tensors[0])\n",
        "        for start in range(0, num_data, self.batch_size):\n",
        "            end = start + self.batch_size\n",
        "            yield tuple(torch.tensor(tensor[start:end]).to(device) for tensor in self.tensors) # tensors on gpu\n",
        "            \n",
        "# sanity check            \n",
        "print(\"Two tensors:\")\n",
        "for batch in BatchedIterator([1, 2, 3], [2, 1, 2], batch_size=2).iterate_once():\n",
        "    print(batch)\n",
        "    \n",
        "print(\"\\nOne tensor:\")\n",
        "for batch in BatchedIterator([2, 1, 2], batch_size=2).iterate_once():\n",
        "    print(batch)"
      ],
      "metadata": {
        "colab": {
          "base_uri": "https://localhost:8080/"
        },
        "id": "jis66ySbWUbK",
        "outputId": "78ebd4a9-e6a8-40ba-fe0c-b37ffbdfb773"
      },
      "execution_count": null,
      "outputs": [
        {
          "output_type": "stream",
          "name": "stdout",
          "text": [
            "Two tensors:\n",
            "(tensor([1, 2], device='cuda:0'), tensor([2, 1], device='cuda:0'))\n",
            "(tensor([3], device='cuda:0'), tensor([2], device='cuda:0'))\n",
            "\n",
            "One tensor:\n",
            "(tensor([2, 1], device='cuda:0'),)\n",
            "(tensor([2], device='cuda:0'),)\n"
          ]
        }
      ]
    },
    {
      "cell_type": "markdown",
      "source": [
        "## Visualize model architecture"
      ],
      "metadata": {
        "id": "xj4454n0jxvO"
      }
    },
    {
      "cell_type": "code",
      "source": [
        "input_size = len(word_tokenizer.vocab)\n",
        "embedding_size = 80\n",
        "hidden_size = 50\n",
        "output_size = train_df.Sentiment.nunique()\n",
        "dropout = 0.2\n",
        "\n",
        "model = LSTMClassifier(input_size, embedding_size, hidden_size, output_size, dropout)\n",
        "model = model.to(device)"
      ],
      "metadata": {
        "id": "aMxUlF65scZ8"
      },
      "execution_count": null,
      "outputs": []
    },
    {
      "cell_type": "code",
      "source": [
        "yhat = model(X_train, seqlen_train)"
      ],
      "metadata": {
        "id": "-i3whl9clov-"
      },
      "execution_count": null,
      "outputs": []
    },
    {
      "cell_type": "code",
      "source": [
        "make_dot(yhat, params=dict(list(model.named_parameters()))).render(\"lstm_torchviz\", format=\"jpg\")"
      ],
      "metadata": {
        "colab": {
          "base_uri": "https://localhost:8080/",
          "height": 36
        },
        "id": "-m27wWeojzS1",
        "outputId": "3e32ca26-97dd-447f-9ef5-13ff25d0fe9f"
      },
      "execution_count": null,
      "outputs": [
        {
          "output_type": "execute_result",
          "data": {
            "text/plain": [
              "'lstm_torchviz.jpg'"
            ],
            "application/vnd.google.colaboratory.intrinsic+json": {
              "type": "string"
            }
          },
          "metadata": {},
          "execution_count": 351
        }
      ]
    },
    {
      "cell_type": "code",
      "source": [
        "make_dot(yhat, params=dict(list(model.named_parameters())))"
      ],
      "metadata": {
        "colab": {
          "base_uri": "https://localhost:8080/",
          "height": 631
        },
        "id": "xdd_JM2pr2G8",
        "outputId": "528f8d8f-f112-478c-e3bd-4405287af266"
      },
      "execution_count": null,
      "outputs": [
        {
          "output_type": "execute_result",
          "data": {
            "text/plain": [
              "<graphviz.dot.Digraph at 0x7fa6bed83c90>"
            ],
            "image/svg+xml": "<?xml version=\"1.0\" encoding=\"UTF-8\" standalone=\"no\"?>\n<!DOCTYPE svg PUBLIC \"-//W3C//DTD SVG 1.1//EN\"\n \"http://www.w3.org/Graphics/SVG/1.1/DTD/svg11.dtd\">\n<!-- Generated by graphviz version 2.40.1 (20161225.0304)\n -->\n<!-- Title: %3 Pages: 1 -->\n<svg width=\"864pt\" height=\"457pt\"\n viewBox=\"0.00 0.00 864.00 456.91\" xmlns=\"http://www.w3.org/2000/svg\" xmlns:xlink=\"http://www.w3.org/1999/xlink\">\n<g id=\"graph0\" class=\"graph\" transform=\"scale(.6149 .6149) rotate(0) translate(4 739)\">\n<title>%3</title>\n<polygon fill=\"#ffffff\" stroke=\"transparent\" points=\"-4,4 -4,-739 1401,-739 1401,4 -4,4\"/>\n<!-- 140360085533232 -->\n<g id=\"node1\" class=\"node\">\n<title>140360085533232</title>\n<polygon fill=\"#caff70\" stroke=\"#000000\" points=\"725,-31 642,-31 642,0 725,0 725,-31\"/>\n<text text-anchor=\"middle\" x=\"683.5\" y=\"-7\" font-family=\"monospace\" font-size=\"10.00\" fill=\"#000000\"> (36476, 3)</text>\n</g>\n<!-- 140354143429776 -->\n<g id=\"node2\" class=\"node\">\n<title>140354143429776</title>\n<polygon fill=\"#d3d3d3\" stroke=\"#000000\" points=\"734,-86 633,-86 633,-67 734,-67 734,-86\"/>\n<text text-anchor=\"middle\" x=\"683.5\" y=\"-74\" font-family=\"monospace\" font-size=\"10.00\" fill=\"#000000\">AddmmBackward0</text>\n</g>\n<!-- 140354143429776&#45;&gt;140360085533232 -->\n<g id=\"edge35\" class=\"edge\">\n<title>140354143429776&#45;&gt;140360085533232</title>\n<path fill=\"none\" stroke=\"#000000\" d=\"M683.5,-66.9688C683.5,-60.1289 683.5,-50.5621 683.5,-41.5298\"/>\n<polygon fill=\"#000000\" stroke=\"#000000\" points=\"687.0001,-41.3678 683.5,-31.3678 680.0001,-41.3678 687.0001,-41.3678\"/>\n</g>\n<!-- 140354143428752 -->\n<g id=\"node3\" class=\"node\">\n<title>140354143428752</title>\n<polygon fill=\"#d3d3d3\" stroke=\"#000000\" points=\"591,-141 490,-141 490,-122 591,-122 591,-141\"/>\n<text text-anchor=\"middle\" x=\"540.5\" y=\"-129\" font-family=\"monospace\" font-size=\"10.00\" fill=\"#000000\">AccumulateGrad</text>\n</g>\n<!-- 140354143428752&#45;&gt;140354143429776 -->\n<g id=\"edge1\" class=\"edge\">\n<title>140354143428752&#45;&gt;140354143429776</title>\n<path fill=\"none\" stroke=\"#000000\" d=\"M565.4087,-121.9197C588.5402,-113.023 623.1951,-99.6942 648.988,-89.7739\"/>\n<polygon fill=\"#000000\" stroke=\"#000000\" points=\"650.3199,-93.0116 658.3969,-86.155 647.807,-86.4782 650.3199,-93.0116\"/>\n</g>\n<!-- 140354123495184 -->\n<g id=\"node4\" class=\"node\">\n<title>140354123495184</title>\n<polygon fill=\"#add8e6\" stroke=\"#000000\" points=\"579,-207 502,-207 502,-177 579,-177 579,-207\"/>\n<text text-anchor=\"middle\" x=\"540.5\" y=\"-195\" font-family=\"monospace\" font-size=\"10.00\" fill=\"#000000\">dense.bias</text>\n<text text-anchor=\"middle\" x=\"540.5\" y=\"-184\" font-family=\"monospace\" font-size=\"10.00\" fill=\"#000000\"> (3)</text>\n</g>\n<!-- 140354123495184&#45;&gt;140354143428752 -->\n<g id=\"edge2\" class=\"edge\">\n<title>140354123495184&#45;&gt;140354143428752</title>\n<path fill=\"none\" stroke=\"#000000\" d=\"M540.5,-176.7333C540.5,-169.0322 540.5,-159.5977 540.5,-151.3414\"/>\n<polygon fill=\"#000000\" stroke=\"#000000\" points=\"544.0001,-151.0864 540.5,-141.0864 537.0001,-151.0864 544.0001,-151.0864\"/>\n</g>\n<!-- 140354143430736 -->\n<g id=\"node5\" class=\"node\">\n<title>140354143430736</title>\n<polygon fill=\"#d3d3d3\" stroke=\"#000000\" points=\"758,-141 609,-141 609,-122 758,-122 758,-141\"/>\n<text text-anchor=\"middle\" x=\"683.5\" y=\"-129\" font-family=\"monospace\" font-size=\"10.00\" fill=\"#000000\">NativeDropoutBackward0</text>\n</g>\n<!-- 140354143430736&#45;&gt;140354143429776 -->\n<g id=\"edge3\" class=\"edge\">\n<title>140354143430736&#45;&gt;140354143429776</title>\n<path fill=\"none\" stroke=\"#000000\" d=\"M683.5,-121.9197C683.5,-114.9083 683.5,-105.1442 683.5,-96.4652\"/>\n<polygon fill=\"#000000\" stroke=\"#000000\" points=\"687.0001,-96.3408 683.5,-86.3408 680.0001,-96.3409 687.0001,-96.3408\"/>\n</g>\n<!-- 140354143428688 -->\n<g id=\"node6\" class=\"node\">\n<title>140354143428688</title>\n<polygon fill=\"#d3d3d3\" stroke=\"#000000\" points=\"728,-201.5 639,-201.5 639,-182.5 728,-182.5 728,-201.5\"/>\n<text text-anchor=\"middle\" x=\"683.5\" y=\"-189.5\" font-family=\"monospace\" font-size=\"10.00\" fill=\"#000000\">CatBackward0</text>\n</g>\n<!-- 140354143428688&#45;&gt;140354143430736 -->\n<g id=\"edge4\" class=\"edge\">\n<title>140354143428688&#45;&gt;140354143430736</title>\n<path fill=\"none\" stroke=\"#000000\" d=\"M683.5,-182.2796C683.5,-174.0376 683.5,-161.9457 683.5,-151.629\"/>\n<polygon fill=\"#000000\" stroke=\"#000000\" points=\"687.0001,-151.3972 683.5,-141.3972 680.0001,-151.3973 687.0001,-151.3972\"/>\n</g>\n<!-- 140354143431824 -->\n<g id=\"node7\" class=\"node\">\n<title>140354143431824</title>\n<polygon fill=\"#d3d3d3\" stroke=\"#000000\" points=\"619,-267.5 512,-267.5 512,-248.5 619,-248.5 619,-267.5\"/>\n<text text-anchor=\"middle\" x=\"565.5\" y=\"-255.5\" font-family=\"monospace\" font-size=\"10.00\" fill=\"#000000\">SelectBackward0</text>\n</g>\n<!-- 140354143431824&#45;&gt;140354143428688 -->\n<g id=\"edge5\" class=\"edge\">\n<title>140354143431824&#45;&gt;140354143428688</title>\n<path fill=\"none\" stroke=\"#000000\" d=\"M582.6582,-248.403C602.3211,-237.4052 634.7582,-219.2624 657.5217,-206.5302\"/>\n<polygon fill=\"#000000\" stroke=\"#000000\" points=\"659.302,-209.5448 666.3211,-201.6085 655.8849,-203.4355 659.302,-209.5448\"/>\n</g>\n<!-- 140354143429200 -->\n<g id=\"node8\" class=\"node\">\n<title>140354143429200</title>\n<polygon fill=\"#d3d3d3\" stroke=\"#000000\" points=\"696,-328 559,-328 559,-309 696,-309 696,-328\"/>\n<text text-anchor=\"middle\" x=\"627.5\" y=\"-316\" font-family=\"monospace\" font-size=\"10.00\" fill=\"#000000\">IndexSelectBackward0</text>\n</g>\n<!-- 140354143429200&#45;&gt;140354143431824 -->\n<g id=\"edge6\" class=\"edge\">\n<title>140354143429200&#45;&gt;140354143431824</title>\n<path fill=\"none\" stroke=\"#000000\" d=\"M617.5386,-308.7796C608.1937,-299.6608 594.0194,-285.8294 582.8226,-274.9035\"/>\n<polygon fill=\"#000000\" stroke=\"#000000\" points=\"585.2442,-272.3762 575.6426,-267.8972 580.3554,-277.3862 585.2442,-272.3762\"/>\n</g>\n<!-- 140354143430032 -->\n<g id=\"node32\" class=\"node\">\n<title>140354143430032</title>\n<polygon fill=\"#d3d3d3\" stroke=\"#000000\" points=\"744,-267.5 637,-267.5 637,-248.5 744,-248.5 744,-267.5\"/>\n<text text-anchor=\"middle\" x=\"690.5\" y=\"-255.5\" font-family=\"monospace\" font-size=\"10.00\" fill=\"#000000\">SelectBackward0</text>\n</g>\n<!-- 140354143429200&#45;&gt;140354143430032 -->\n<g id=\"edge31\" class=\"edge\">\n<title>140354143429200&#45;&gt;140354143430032</title>\n<path fill=\"none\" stroke=\"#000000\" d=\"M637.622,-308.7796C647.1177,-299.6608 661.5206,-285.8294 672.898,-274.9035\"/>\n<polygon fill=\"#000000\" stroke=\"#000000\" points=\"675.4053,-277.3482 680.1938,-267.8972 670.5567,-272.2993 675.4053,-277.3482\"/>\n</g>\n<!-- 140354143215760 -->\n<g id=\"node9\" class=\"node\">\n<title>140354143215760</title>\n<polygon fill=\"#d3d3d3\" stroke=\"#000000\" points=\"687,-383 568,-383 568,-364 687,-364 687,-383\"/>\n<text text-anchor=\"middle\" x=\"627.5\" y=\"-371\" font-family=\"monospace\" font-size=\"10.00\" fill=\"#000000\">CudnnRnnBackward0</text>\n</g>\n<!-- 140354143215760&#45;&gt;140354143429200 -->\n<g id=\"edge7\" class=\"edge\">\n<title>140354143215760&#45;&gt;140354143429200</title>\n<path fill=\"none\" stroke=\"#000000\" d=\"M627.5,-363.9197C627.5,-356.9083 627.5,-347.1442 627.5,-338.4652\"/>\n<polygon fill=\"#000000\" stroke=\"#000000\" points=\"631.0001,-338.3408 627.5,-328.3408 624.0001,-338.3409 631.0001,-338.3408\"/>\n</g>\n<!-- 140354143216144 -->\n<g id=\"node10\" class=\"node\">\n<title>140354143216144</title>\n<polygon fill=\"#d3d3d3\" stroke=\"#000000\" points=\"179,-438 0,-438 0,-419 179,-419 179,-438\"/>\n<text text-anchor=\"middle\" x=\"89.5\" y=\"-426\" font-family=\"monospace\" font-size=\"10.00\" fill=\"#000000\">PackPaddedSequenceBackward0</text>\n</g>\n<!-- 140354143216144&#45;&gt;140354143215760 -->\n<g id=\"edge8\" class=\"edge\">\n<title>140354143216144&#45;&gt;140354143215760</title>\n<path fill=\"none\" stroke=\"#000000\" d=\"M179.2462,-419.3252C285.7931,-408.4329 461.1967,-390.5013 557.9755,-380.6075\"/>\n<polygon fill=\"#000000\" stroke=\"#000000\" points=\"558.3562,-384.0869 567.9483,-379.588 557.6442,-377.1232 558.3562,-384.0869\"/>\n</g>\n<!-- 140354143568592 -->\n<g id=\"node11\" class=\"node\">\n<title>140354143568592</title>\n<polygon fill=\"#d3d3d3\" stroke=\"#000000\" points=\"157,-498.5 20,-498.5 20,-479.5 157,-479.5 157,-498.5\"/>\n<text text-anchor=\"middle\" x=\"88.5\" y=\"-486.5\" font-family=\"monospace\" font-size=\"10.00\" fill=\"#000000\">IndexSelectBackward0</text>\n</g>\n<!-- 140354143568592&#45;&gt;140354143216144 -->\n<g id=\"edge9\" class=\"edge\">\n<title>140354143568592&#45;&gt;140354143216144</title>\n<path fill=\"none\" stroke=\"#000000\" d=\"M88.6607,-479.2796C88.7969,-471.0376 88.9968,-458.9457 89.1673,-448.629\"/>\n<polygon fill=\"#000000\" stroke=\"#000000\" points=\"92.6706,-448.4537 89.3364,-438.3972 85.6715,-448.338 92.6706,-448.4537\"/>\n</g>\n<!-- 140354143131024 -->\n<g id=\"node12\" class=\"node\">\n<title>140354143131024</title>\n<polygon fill=\"#d3d3d3\" stroke=\"#000000\" points=\"163,-559 14,-559 14,-540 163,-540 163,-559\"/>\n<text text-anchor=\"middle\" x=\"88.5\" y=\"-547\" font-family=\"monospace\" font-size=\"10.00\" fill=\"#000000\">NativeDropoutBackward0</text>\n</g>\n<!-- 140354143131024&#45;&gt;140354143568592 -->\n<g id=\"edge10\" class=\"edge\">\n<title>140354143131024&#45;&gt;140354143568592</title>\n<path fill=\"none\" stroke=\"#000000\" d=\"M88.5,-539.7796C88.5,-531.5376 88.5,-519.4457 88.5,-509.129\"/>\n<polygon fill=\"#000000\" stroke=\"#000000\" points=\"92.0001,-508.8972 88.5,-498.8972 85.0001,-508.8973 92.0001,-508.8972\"/>\n</g>\n<!-- 140354143130128 -->\n<g id=\"node13\" class=\"node\">\n<title>140354143130128</title>\n<polygon fill=\"#d3d3d3\" stroke=\"#000000\" points=\"151,-614 26,-614 26,-595 151,-595 151,-614\"/>\n<text text-anchor=\"middle\" x=\"88.5\" y=\"-602\" font-family=\"monospace\" font-size=\"10.00\" fill=\"#000000\">EmbeddingBackward0</text>\n</g>\n<!-- 140354143130128&#45;&gt;140354143131024 -->\n<g id=\"edge11\" class=\"edge\">\n<title>140354143130128&#45;&gt;140354143131024</title>\n<path fill=\"none\" stroke=\"#000000\" d=\"M88.5,-594.9197C88.5,-587.9083 88.5,-578.1442 88.5,-569.4652\"/>\n<polygon fill=\"#000000\" stroke=\"#000000\" points=\"92.0001,-569.3408 88.5,-559.3408 85.0001,-569.3409 92.0001,-569.3408\"/>\n</g>\n<!-- 140354143130896 -->\n<g id=\"node14\" class=\"node\">\n<title>140354143130896</title>\n<polygon fill=\"#d3d3d3\" stroke=\"#000000\" points=\"139,-669 38,-669 38,-650 139,-650 139,-669\"/>\n<text text-anchor=\"middle\" x=\"88.5\" y=\"-657\" font-family=\"monospace\" font-size=\"10.00\" fill=\"#000000\">AccumulateGrad</text>\n</g>\n<!-- 140354143130896&#45;&gt;140354143130128 -->\n<g id=\"edge12\" class=\"edge\">\n<title>140354143130896&#45;&gt;140354143130128</title>\n<path fill=\"none\" stroke=\"#000000\" d=\"M88.5,-649.9197C88.5,-642.9083 88.5,-633.1442 88.5,-624.4652\"/>\n<polygon fill=\"#000000\" stroke=\"#000000\" points=\"92.0001,-624.3408 88.5,-614.3408 85.0001,-624.3409 92.0001,-624.3408\"/>\n</g>\n<!-- 140354123494224 -->\n<g id=\"node15\" class=\"node\">\n<title>140354123494224</title>\n<polygon fill=\"#add8e6\" stroke=\"#000000\" points=\"145,-735 32,-735 32,-705 145,-705 145,-735\"/>\n<text text-anchor=\"middle\" x=\"88.5\" y=\"-723\" font-family=\"monospace\" font-size=\"10.00\" fill=\"#000000\">embedding.weight</text>\n<text text-anchor=\"middle\" x=\"88.5\" y=\"-712\" font-family=\"monospace\" font-size=\"10.00\" fill=\"#000000\"> (5430, 80)</text>\n</g>\n<!-- 140354123494224&#45;&gt;140354143130896 -->\n<g id=\"edge13\" class=\"edge\">\n<title>140354123494224&#45;&gt;140354143130896</title>\n<path fill=\"none\" stroke=\"#000000\" d=\"M88.5,-704.7333C88.5,-697.0322 88.5,-687.5977 88.5,-679.3414\"/>\n<polygon fill=\"#000000\" stroke=\"#000000\" points=\"92.0001,-679.0864 88.5,-669.0864 85.0001,-679.0864 92.0001,-679.0864\"/>\n</g>\n<!-- 140354143216208 -->\n<g id=\"node16\" class=\"node\">\n<title>140354143216208</title>\n<polygon fill=\"#d3d3d3\" stroke=\"#000000\" points=\"306,-438 205,-438 205,-419 306,-419 306,-438\"/>\n<text text-anchor=\"middle\" x=\"255.5\" y=\"-426\" font-family=\"monospace\" font-size=\"10.00\" fill=\"#000000\">AccumulateGrad</text>\n</g>\n<!-- 140354143216208&#45;&gt;140354143215760 -->\n<g id=\"edge14\" class=\"edge\">\n<title>140354143216208&#45;&gt;140354143215760</title>\n<path fill=\"none\" stroke=\"#000000\" d=\"M306.2492,-420.6973C310.056,-420.1201 313.8385,-419.5492 317.5,-419 399.9237,-406.6366 494.7323,-392.7735 557.5747,-383.6347\"/>\n<polygon fill=\"#000000\" stroke=\"#000000\" points=\"558.3727,-387.0556 567.7652,-382.1534 557.3657,-380.1284 558.3727,-387.0556\"/>\n</g>\n<!-- 140354123494704 -->\n<g id=\"node17\" class=\"node\">\n<title>140354123494704</title>\n<polygon fill=\"#add8e6\" stroke=\"#000000\" points=\"294,-504 175,-504 175,-474 294,-474 294,-504\"/>\n<text text-anchor=\"middle\" x=\"234.5\" y=\"-492\" font-family=\"monospace\" font-size=\"10.00\" fill=\"#000000\">lstm.weight_ih_l0</text>\n<text text-anchor=\"middle\" x=\"234.5\" y=\"-481\" font-family=\"monospace\" font-size=\"10.00\" fill=\"#000000\"> (200, 80)</text>\n</g>\n<!-- 140354123494704&#45;&gt;140354143216208 -->\n<g id=\"edge15\" class=\"edge\">\n<title>140354123494704&#45;&gt;140354143216208</title>\n<path fill=\"none\" stroke=\"#000000\" d=\"M239.7992,-473.7333C242.5331,-465.8571 245.8962,-456.168 248.8077,-447.7803\"/>\n<polygon fill=\"#000000\" stroke=\"#000000\" points=\"252.1998,-448.6812 252.1725,-438.0864 245.5868,-446.3858 252.1998,-448.6812\"/>\n</g>\n<!-- 140354143215952 -->\n<g id=\"node18\" class=\"node\">\n<title>140354143215952</title>\n<polygon fill=\"#d3d3d3\" stroke=\"#000000\" points=\"428,-438 327,-438 327,-419 428,-419 428,-438\"/>\n<text text-anchor=\"middle\" x=\"377.5\" y=\"-426\" font-family=\"monospace\" font-size=\"10.00\" fill=\"#000000\">AccumulateGrad</text>\n</g>\n<!-- 140354143215952&#45;&gt;140354143215760 -->\n<g id=\"edge16\" class=\"edge\">\n<title>140354143215952&#45;&gt;140354143215760</title>\n<path fill=\"none\" stroke=\"#000000\" d=\"M420.7613,-418.9825C463.2471,-409.6356 528.1669,-395.3533 573.901,-385.2918\"/>\n<polygon fill=\"#000000\" stroke=\"#000000\" points=\"574.916,-388.6523 583.9304,-383.0853 573.4119,-381.8157 574.916,-388.6523\"/>\n</g>\n<!-- 140354123494416 -->\n<g id=\"node19\" class=\"node\">\n<title>140354123494416</title>\n<polygon fill=\"#add8e6\" stroke=\"#000000\" points=\"431,-504 312,-504 312,-474 431,-474 431,-504\"/>\n<text text-anchor=\"middle\" x=\"371.5\" y=\"-492\" font-family=\"monospace\" font-size=\"10.00\" fill=\"#000000\">lstm.weight_hh_l0</text>\n<text text-anchor=\"middle\" x=\"371.5\" y=\"-481\" font-family=\"monospace\" font-size=\"10.00\" fill=\"#000000\"> (200, 50)</text>\n</g>\n<!-- 140354123494416&#45;&gt;140354143215952 -->\n<g id=\"edge17\" class=\"edge\">\n<title>140354123494416&#45;&gt;140354143215952</title>\n<path fill=\"none\" stroke=\"#000000\" d=\"M373.0141,-473.7333C373.7865,-465.9447 374.7347,-456.3831 375.5601,-448.0604\"/>\n<polygon fill=\"#000000\" stroke=\"#000000\" points=\"379.0452,-448.383 376.5493,-438.0864 372.0794,-447.6921 379.0452,-448.383\"/>\n</g>\n<!-- 140354143216016 -->\n<g id=\"node20\" class=\"node\">\n<title>140354143216016</title>\n<polygon fill=\"#d3d3d3\" stroke=\"#000000\" points=\"556,-438 455,-438 455,-419 556,-419 556,-438\"/>\n<text text-anchor=\"middle\" x=\"505.5\" y=\"-426\" font-family=\"monospace\" font-size=\"10.00\" fill=\"#000000\">AccumulateGrad</text>\n</g>\n<!-- 140354143216016&#45;&gt;140354143215760 -->\n<g id=\"edge18\" class=\"edge\">\n<title>140354143216016&#45;&gt;140354143215760</title>\n<path fill=\"none\" stroke=\"#000000\" d=\"M526.7508,-418.9197C546.1376,-410.1798 575.0122,-397.1625 596.886,-387.3014\"/>\n<polygon fill=\"#000000\" stroke=\"#000000\" points=\"598.4054,-390.4557 606.0834,-383.155 595.5285,-384.0742 598.4054,-390.4557\"/>\n</g>\n<!-- 140354123494608 -->\n<g id=\"node21\" class=\"node\">\n<title>140354123494608</title>\n<polygon fill=\"#add8e6\" stroke=\"#000000\" points=\"556,-504 449,-504 449,-474 556,-474 556,-504\"/>\n<text text-anchor=\"middle\" x=\"502.5\" y=\"-492\" font-family=\"monospace\" font-size=\"10.00\" fill=\"#000000\">lstm.bias_ih_l0</text>\n<text text-anchor=\"middle\" x=\"502.5\" y=\"-481\" font-family=\"monospace\" font-size=\"10.00\" fill=\"#000000\"> (200)</text>\n</g>\n<!-- 140354123494608&#45;&gt;140354143216016 -->\n<g id=\"edge19\" class=\"edge\">\n<title>140354123494608&#45;&gt;140354143216016</title>\n<path fill=\"none\" stroke=\"#000000\" d=\"M503.257,-473.7333C503.6389,-466.0322 504.1067,-456.5977 504.5161,-448.3414\"/>\n<polygon fill=\"#000000\" stroke=\"#000000\" points=\"508.025,-448.2475 505.0246,-438.0864 501.0336,-447.9008 508.025,-448.2475\"/>\n</g>\n<!-- 140354143215696 -->\n<g id=\"node22\" class=\"node\">\n<title>140354143215696</title>\n<polygon fill=\"#d3d3d3\" stroke=\"#000000\" points=\"678,-438 577,-438 577,-419 678,-419 678,-438\"/>\n<text text-anchor=\"middle\" x=\"627.5\" y=\"-426\" font-family=\"monospace\" font-size=\"10.00\" fill=\"#000000\">AccumulateGrad</text>\n</g>\n<!-- 140354143215696&#45;&gt;140354143215760 -->\n<g id=\"edge20\" class=\"edge\">\n<title>140354143215696&#45;&gt;140354143215760</title>\n<path fill=\"none\" stroke=\"#000000\" d=\"M627.5,-418.9197C627.5,-411.9083 627.5,-402.1442 627.5,-393.4652\"/>\n<polygon fill=\"#000000\" stroke=\"#000000\" points=\"631.0001,-393.3408 627.5,-383.3408 624.0001,-393.3409 631.0001,-393.3408\"/>\n</g>\n<!-- 140354123494800 -->\n<g id=\"node23\" class=\"node\">\n<title>140354123494800</title>\n<polygon fill=\"#add8e6\" stroke=\"#000000\" points=\"681,-504 574,-504 574,-474 681,-474 681,-504\"/>\n<text text-anchor=\"middle\" x=\"627.5\" y=\"-492\" font-family=\"monospace\" font-size=\"10.00\" fill=\"#000000\">lstm.bias_hh_l0</text>\n<text text-anchor=\"middle\" x=\"627.5\" y=\"-481\" font-family=\"monospace\" font-size=\"10.00\" fill=\"#000000\"> (200)</text>\n</g>\n<!-- 140354123494800&#45;&gt;140354143215696 -->\n<g id=\"edge21\" class=\"edge\">\n<title>140354123494800&#45;&gt;140354143215696</title>\n<path fill=\"none\" stroke=\"#000000\" d=\"M627.5,-473.7333C627.5,-466.0322 627.5,-456.5977 627.5,-448.3414\"/>\n<polygon fill=\"#000000\" stroke=\"#000000\" points=\"631.0001,-448.0864 627.5,-438.0864 624.0001,-448.0864 631.0001,-448.0864\"/>\n</g>\n<!-- 140354143794704 -->\n<g id=\"node24\" class=\"node\">\n<title>140354143794704</title>\n<polygon fill=\"#d3d3d3\" stroke=\"#000000\" points=\"810,-438 709,-438 709,-419 810,-419 810,-438\"/>\n<text text-anchor=\"middle\" x=\"759.5\" y=\"-426\" font-family=\"monospace\" font-size=\"10.00\" fill=\"#000000\">AccumulateGrad</text>\n</g>\n<!-- 140354143794704&#45;&gt;140354143215760 -->\n<g id=\"edge22\" class=\"edge\">\n<title>140354143794704&#45;&gt;140354143215760</title>\n<path fill=\"none\" stroke=\"#000000\" d=\"M736.5074,-418.9197C715.3433,-410.1014 683.7289,-396.9287 659.9884,-387.0369\"/>\n<polygon fill=\"#000000\" stroke=\"#000000\" points=\"661.249,-383.7705 650.6721,-383.155 658.5567,-390.232 661.249,-383.7705\"/>\n</g>\n<!-- 140354123494320 -->\n<g id=\"node25\" class=\"node\">\n<title>140354123494320</title>\n<polygon fill=\"#add8e6\" stroke=\"#000000\" points=\"866,-504 699,-504 699,-474 866,-474 866,-504\"/>\n<text text-anchor=\"middle\" x=\"782.5\" y=\"-492\" font-family=\"monospace\" font-size=\"10.00\" fill=\"#000000\">lstm.weight_ih_l0_reverse</text>\n<text text-anchor=\"middle\" x=\"782.5\" y=\"-481\" font-family=\"monospace\" font-size=\"10.00\" fill=\"#000000\"> (200, 80)</text>\n</g>\n<!-- 140354123494320&#45;&gt;140354143794704 -->\n<g id=\"edge23\" class=\"edge\">\n<title>140354123494320&#45;&gt;140354143794704</title>\n<path fill=\"none\" stroke=\"#000000\" d=\"M776.6961,-473.7333C773.6686,-465.7696 769.9365,-455.9524 766.7236,-447.5012\"/>\n<polygon fill=\"#000000\" stroke=\"#000000\" points=\"769.9696,-446.19 763.1444,-438.0864 763.4264,-448.6775 769.9696,-446.19\"/>\n</g>\n<!-- 140354143568080 -->\n<g id=\"node26\" class=\"node\">\n<title>140354143568080</title>\n<polygon fill=\"#d3d3d3\" stroke=\"#000000\" points=\"956,-438 855,-438 855,-419 956,-419 956,-438\"/>\n<text text-anchor=\"middle\" x=\"905.5\" y=\"-426\" font-family=\"monospace\" font-size=\"10.00\" fill=\"#000000\">AccumulateGrad</text>\n</g>\n<!-- 140354143568080&#45;&gt;140354143215760 -->\n<g id=\"edge24\" class=\"edge\">\n<title>140354143568080&#45;&gt;140354143215760</title>\n<path fill=\"none\" stroke=\"#000000\" d=\"M857.3935,-418.9825C809.7522,-409.5571 736.7433,-395.1129 685.8245,-385.039\"/>\n<polygon fill=\"#000000\" stroke=\"#000000\" points=\"686.4385,-381.5927 675.9494,-383.0853 685.0799,-388.4596 686.4385,-381.5927\"/>\n</g>\n<!-- 140354123494896 -->\n<g id=\"node27\" class=\"node\">\n<title>140354123494896</title>\n<polygon fill=\"#add8e6\" stroke=\"#000000\" points=\"1051,-504 884,-504 884,-474 1051,-474 1051,-504\"/>\n<text text-anchor=\"middle\" x=\"967.5\" y=\"-492\" font-family=\"monospace\" font-size=\"10.00\" fill=\"#000000\">lstm.weight_hh_l0_reverse</text>\n<text text-anchor=\"middle\" x=\"967.5\" y=\"-481\" font-family=\"monospace\" font-size=\"10.00\" fill=\"#000000\"> (200, 50)</text>\n</g>\n<!-- 140354123494896&#45;&gt;140354143568080 -->\n<g id=\"edge25\" class=\"edge\">\n<title>140354123494896&#45;&gt;140354143568080</title>\n<path fill=\"none\" stroke=\"#000000\" d=\"M951.8548,-473.7333C942.9762,-465.0695 931.8495,-454.212 922.7228,-445.3062\"/>\n<polygon fill=\"#000000\" stroke=\"#000000\" points=\"924.9256,-442.5654 915.3241,-438.0864 920.0368,-447.5754 924.9256,-442.5654\"/>\n</g>\n<!-- 140354143570704 -->\n<g id=\"node28\" class=\"node\">\n<title>140354143570704</title>\n<polygon fill=\"#d3d3d3\" stroke=\"#000000\" points=\"1129,-438 1028,-438 1028,-419 1129,-419 1129,-438\"/>\n<text text-anchor=\"middle\" x=\"1078.5\" y=\"-426\" font-family=\"monospace\" font-size=\"10.00\" fill=\"#000000\">AccumulateGrad</text>\n</g>\n<!-- 140354143570704&#45;&gt;140354143215760 -->\n<g id=\"edge26\" class=\"edge\">\n<title>140354143570704&#45;&gt;140354143215760</title>\n<path fill=\"none\" stroke=\"#000000\" d=\"M1027.6413,-422.2977C946.7065,-412.4276 788.4355,-393.1263 697.0719,-381.9844\"/>\n<polygon fill=\"#000000\" stroke=\"#000000\" points=\"697.4368,-378.503 687.0866,-380.7667 696.5894,-385.4516 697.4368,-378.503\"/>\n</g>\n<!-- 140354123494992 -->\n<g id=\"node29\" class=\"node\">\n<title>140354123494992</title>\n<polygon fill=\"#add8e6\" stroke=\"#000000\" points=\"1224,-504 1069,-504 1069,-474 1224,-474 1224,-504\"/>\n<text text-anchor=\"middle\" x=\"1146.5\" y=\"-492\" font-family=\"monospace\" font-size=\"10.00\" fill=\"#000000\">lstm.bias_ih_l0_reverse</text>\n<text text-anchor=\"middle\" x=\"1146.5\" y=\"-481\" font-family=\"monospace\" font-size=\"10.00\" fill=\"#000000\"> (200)</text>\n</g>\n<!-- 140354123494992&#45;&gt;140354143570704 -->\n<g id=\"edge27\" class=\"edge\">\n<title>140354123494992&#45;&gt;140354143570704</title>\n<path fill=\"none\" stroke=\"#000000\" d=\"M1129.3407,-473.7333C1119.4062,-464.8945 1106.9054,-453.7724 1096.7856,-444.7688\"/>\n<polygon fill=\"#000000\" stroke=\"#000000\" points=\"1099.0724,-442.1186 1089.2748,-438.0864 1094.4194,-447.3484 1099.0724,-442.1186\"/>\n</g>\n<!-- 140354143570896 -->\n<g id=\"node30\" class=\"node\">\n<title>140354143570896</title>\n<polygon fill=\"#d3d3d3\" stroke=\"#000000\" points=\"1356,-438 1255,-438 1255,-419 1356,-419 1356,-438\"/>\n<text text-anchor=\"middle\" x=\"1305.5\" y=\"-426\" font-family=\"monospace\" font-size=\"10.00\" fill=\"#000000\">AccumulateGrad</text>\n</g>\n<!-- 140354143570896&#45;&gt;140354143215760 -->\n<g id=\"edge28\" class=\"edge\">\n<title>140354143570896&#45;&gt;140354143215760</title>\n<path fill=\"none\" stroke=\"#000000\" d=\"M1254.8171,-424.3886C1135.1182,-414.6785 834.6933,-390.3077 697.635,-379.1894\"/>\n<polygon fill=\"#000000\" stroke=\"#000000\" points=\"697.5121,-375.668 687.2618,-378.3479 696.946,-382.6451 697.5121,-375.668\"/>\n</g>\n<!-- 140354123495088 -->\n<g id=\"node31\" class=\"node\">\n<title>140354123495088</title>\n<polygon fill=\"#add8e6\" stroke=\"#000000\" points=\"1397,-504 1242,-504 1242,-474 1397,-474 1397,-504\"/>\n<text text-anchor=\"middle\" x=\"1319.5\" y=\"-492\" font-family=\"monospace\" font-size=\"10.00\" fill=\"#000000\">lstm.bias_hh_l0_reverse</text>\n<text text-anchor=\"middle\" x=\"1319.5\" y=\"-481\" font-family=\"monospace\" font-size=\"10.00\" fill=\"#000000\"> (200)</text>\n</g>\n<!-- 140354123495088&#45;&gt;140354143570896 -->\n<g id=\"edge29\" class=\"edge\">\n<title>140354123495088&#45;&gt;140354143570896</title>\n<path fill=\"none\" stroke=\"#000000\" d=\"M1315.9672,-473.7333C1314.1649,-465.9447 1311.9523,-456.3831 1310.0264,-448.0604\"/>\n<polygon fill=\"#000000\" stroke=\"#000000\" points=\"1313.3828,-447.0399 1307.7183,-438.0864 1306.563,-448.6181 1313.3828,-447.0399\"/>\n</g>\n<!-- 140354143430032&#45;&gt;140354143428688 -->\n<g id=\"edge30\" class=\"edge\">\n<title>140354143430032&#45;&gt;140354143428688</title>\n<path fill=\"none\" stroke=\"#000000\" d=\"M689.4671,-248.2615C688.4538,-238.7077 686.8793,-223.8615 685.6019,-211.8183\"/>\n<polygon fill=\"#000000\" stroke=\"#000000\" points=\"689.0724,-211.3535 684.5371,-201.7785 682.1114,-212.0919 689.0724,-211.3535\"/>\n</g>\n<!-- 140354143432400 -->\n<g id=\"node33\" class=\"node\">\n<title>140354143432400</title>\n<polygon fill=\"#d3d3d3\" stroke=\"#000000\" points=\"853,-141 776,-141 776,-122 853,-122 853,-141\"/>\n<text text-anchor=\"middle\" x=\"814.5\" y=\"-129\" font-family=\"monospace\" font-size=\"10.00\" fill=\"#000000\">TBackward0</text>\n</g>\n<!-- 140354143432400&#45;&gt;140354143429776 -->\n<g id=\"edge32\" class=\"edge\">\n<title>140354143432400&#45;&gt;140354143429776</title>\n<path fill=\"none\" stroke=\"#000000\" d=\"M791.6815,-121.9197C770.6778,-113.1014 739.3029,-99.9287 715.7423,-90.0369\"/>\n<polygon fill=\"#000000\" stroke=\"#000000\" points=\"717.0718,-86.7991 706.4965,-86.155 714.3619,-93.2533 717.0718,-86.7991\"/>\n</g>\n<!-- 140354143571856 -->\n<g id=\"node34\" class=\"node\">\n<title>140354143571856</title>\n<polygon fill=\"#d3d3d3\" stroke=\"#000000\" points=\"865,-201.5 764,-201.5 764,-182.5 865,-182.5 865,-201.5\"/>\n<text text-anchor=\"middle\" x=\"814.5\" y=\"-189.5\" font-family=\"monospace\" font-size=\"10.00\" fill=\"#000000\">AccumulateGrad</text>\n</g>\n<!-- 140354143571856&#45;&gt;140354143432400 -->\n<g id=\"edge33\" class=\"edge\">\n<title>140354143571856&#45;&gt;140354143432400</title>\n<path fill=\"none\" stroke=\"#000000\" d=\"M814.5,-182.2796C814.5,-174.0376 814.5,-161.9457 814.5,-151.629\"/>\n<polygon fill=\"#000000\" stroke=\"#000000\" points=\"818.0001,-151.3972 814.5,-141.3972 811.0001,-151.3973 818.0001,-151.3972\"/>\n</g>\n<!-- 140354123495280 -->\n<g id=\"node35\" class=\"node\">\n<title>140354123495280</title>\n<polygon fill=\"#add8e6\" stroke=\"#000000\" points=\"859,-273 770,-273 770,-243 859,-243 859,-273\"/>\n<text text-anchor=\"middle\" x=\"814.5\" y=\"-261\" font-family=\"monospace\" font-size=\"10.00\" fill=\"#000000\">dense.weight</text>\n<text text-anchor=\"middle\" x=\"814.5\" y=\"-250\" font-family=\"monospace\" font-size=\"10.00\" fill=\"#000000\"> (3, 100)</text>\n</g>\n<!-- 140354123495280&#45;&gt;140354143571856 -->\n<g id=\"edge34\" class=\"edge\">\n<title>140354123495280&#45;&gt;140354143571856</title>\n<path fill=\"none\" stroke=\"#000000\" d=\"M814.5,-242.6924C814.5,-233.5067 814.5,-221.7245 814.5,-211.8312\"/>\n<polygon fill=\"#000000\" stroke=\"#000000\" points=\"818.0001,-211.703 814.5,-201.7031 811.0001,-211.7031 818.0001,-211.703\"/>\n</g>\n</g>\n</svg>\n"
          },
          "metadata": {},
          "execution_count": 352
        }
      ]
    },
    {
      "cell_type": "markdown",
      "source": [
        "## Training"
      ],
      "metadata": {
        "id": "Xjy-f3KbGlLW"
      }
    },
    {
      "cell_type": "code",
      "source": [
        "input_size = len(word_tokenizer.vocab)\n",
        "embedding_size = 80\n",
        "hidden_size = 50\n",
        "output_size = train_df.Sentiment.nunique()\n",
        "dropout = 0.2\n",
        "\n",
        "model = LSTMClassifier(input_size, embedding_size, hidden_size, output_size, dropout)\n",
        "model = model.to(device)\n",
        "\n",
        "LEARNING_RATE = 0.0003\n",
        "WEIGHT_DECAY = 0.0001\n",
        "\n",
        "criterion = nn.CrossEntropyLoss()\n",
        "optimizer = torch.optim.Adam(model.parameters(), lr=LEARNING_RATE, weight_decay=WEIGHT_DECAY)\n",
        "# scheduler = torch.optim.lr_scheduler.ReduceLROnPlateau(optimizer, factor=0.05, patience=2, verbose = True)\n",
        "# lmbda = lambda epoch: 0.9\n",
        "# scheduler = torch.optim.lr_scheduler.MultiplicativeLR(optimizer, lr_lambda=lmbda, last_epoch=-1)"
      ],
      "metadata": {
        "id": "IPvyvrHuWC6T",
        "colab": {
          "base_uri": "https://localhost:8080/"
        },
        "outputId": "226ec7dc-fd29-442a-919b-bccf59f0430a"
      },
      "execution_count": null,
      "outputs": [
        {
          "output_type": "stream",
          "name": "stderr",
          "text": [
            "/usr/local/lib/python3.7/dist-packages/torch/nn/modules/rnn.py:65: UserWarning: dropout option adds dropout after all but last recurrent layer, so non-zero dropout expects num_layers greater than 1, but got dropout=0.2 and num_layers=1\n",
            "  \"num_layers={}\".format(dropout, num_layers))\n"
          ]
        }
      ]
    },
    {
      "cell_type": "code",
      "source": [
        "num_epochs = 25\n",
        "batch_size = 64\n",
        "\n",
        "metrics = defaultdict(list)\n",
        "train_iter = BatchedIterator(X_train, seqlen_train, y_train, batch_size=batch_size)"
      ],
      "metadata": {
        "id": "_UwkMi2PWy-a"
      },
      "execution_count": null,
      "outputs": []
    },
    {
      "cell_type": "code",
      "source": [
        "def save_checkpoint(state, filename=\"my_checkpoint.pth.tar\"):\n",
        "    print(\"=> Saving checkpoint\")\n",
        "    torch.save(state, filename)\n",
        "\n",
        "def load_checkpoint(checkpoint):\n",
        "    print(\"=> Loading checkpoint\")\n",
        "    model.load_state_dict(checkpoint['state_dict'])\n",
        "    optimizer.load_state_dict(checkpoint['optimizer'])"
      ],
      "metadata": {
        "id": "hWfQOoNuxxM2"
      },
      "execution_count": null,
      "outputs": []
    },
    {
      "cell_type": "code",
      "source": [
        "for epoch in range(num_epochs):\n",
        "    model.train()\n",
        "    # Training loop\n",
        "    for X_batch, seqlen_batch, y_batch in train_iter.iterate_once():\n",
        "        y_out = model(X_batch, seqlen_batch)\n",
        "        loss = criterion(y_out, y_batch)\n",
        "        optimizer.zero_grad()\n",
        "        loss.backward()\n",
        "        optimizer.step()\n",
        "        \n",
        "    with torch.no_grad():\n",
        "        model.eval()  # or model.train(False)\n",
        "        # Train and dev loss at the end of the epoch\n",
        "        y_out = model(X_train, seqlen_train)\n",
        "        train_loss = criterion(y_out, y_train).item()\n",
        "        metrics['train_loss'].append(train_loss)\n",
        "        labels = y_out.argmax(axis=1)\n",
        "        train_bal_acc = balanced_accuracy_score(y_train.cpu().detach().numpy(), labels.cpu().detach().numpy())\n",
        "        metrics['train_bal_acc'].append(train_bal_acc)\n",
        "\n",
        "        y_out = model(X_dev, seqlen_dev)\n",
        "        dev_loss = criterion(y_out, y_dev).item()\n",
        "        metrics['dev_loss'].append(dev_loss)\n",
        "        labels = y_out.argmax(axis=1)\n",
        "        dev_bal_acc = balanced_accuracy_score(y_dev.cpu().detach().numpy(), labels.cpu().detach().numpy())\n",
        "        metrics['dev_bal_acc'].append(dev_bal_acc)\n",
        "    \n",
        "    print(f\"epoch={epoch} -- train loss={train_loss:.3f} - train acc={train_bal_acc:.1%} - dev loss={dev_loss:.3f} - dev acc={dev_bal_acc:.1%}\")"
      ],
      "metadata": {
        "colab": {
          "base_uri": "https://localhost:8080/"
        },
        "id": "Ond88lZUWzCj",
        "outputId": "4b045b0c-a856-44ab-c002-e1d21a3ec927"
      },
      "execution_count": null,
      "outputs": [
        {
          "output_type": "stream",
          "name": "stderr",
          "text": [
            "/usr/local/lib/python3.7/dist-packages/ipykernel_launcher.py:12: UserWarning: To copy construct from a tensor, it is recommended to use sourceTensor.clone().detach() or sourceTensor.clone().detach().requires_grad_(True), rather than torch.tensor(sourceTensor).\n",
            "  if sys.path[0] == '':\n"
          ]
        },
        {
          "output_type": "stream",
          "name": "stdout",
          "text": [
            "epoch=0 -- train loss=0.945 - train acc=45.6% - dev loss=0.942 - dev acc=45.9%\n"
          ]
        },
        {
          "output_type": "stream",
          "name": "stderr",
          "text": [
            "/usr/local/lib/python3.7/dist-packages/ipykernel_launcher.py:12: UserWarning: To copy construct from a tensor, it is recommended to use sourceTensor.clone().detach() or sourceTensor.clone().detach().requires_grad_(True), rather than torch.tensor(sourceTensor).\n",
            "  if sys.path[0] == '':\n"
          ]
        },
        {
          "output_type": "stream",
          "name": "stdout",
          "text": [
            "epoch=1 -- train loss=0.856 - train acc=55.9% - dev loss=0.867 - dev acc=56.3%\n"
          ]
        },
        {
          "output_type": "stream",
          "name": "stderr",
          "text": [
            "/usr/local/lib/python3.7/dist-packages/ipykernel_launcher.py:12: UserWarning: To copy construct from a tensor, it is recommended to use sourceTensor.clone().detach() or sourceTensor.clone().detach().requires_grad_(True), rather than torch.tensor(sourceTensor).\n",
            "  if sys.path[0] == '':\n"
          ]
        },
        {
          "output_type": "stream",
          "name": "stdout",
          "text": [
            "epoch=2 -- train loss=0.798 - train acc=60.3% - dev loss=0.817 - dev acc=59.4%\n"
          ]
        },
        {
          "output_type": "stream",
          "name": "stderr",
          "text": [
            "/usr/local/lib/python3.7/dist-packages/ipykernel_launcher.py:12: UserWarning: To copy construct from a tensor, it is recommended to use sourceTensor.clone().detach() or sourceTensor.clone().detach().requires_grad_(True), rather than torch.tensor(sourceTensor).\n",
            "  if sys.path[0] == '':\n"
          ]
        },
        {
          "output_type": "stream",
          "name": "stdout",
          "text": [
            "epoch=3 -- train loss=0.746 - train acc=64.5% - dev loss=0.774 - dev acc=62.5%\n"
          ]
        },
        {
          "output_type": "stream",
          "name": "stderr",
          "text": [
            "/usr/local/lib/python3.7/dist-packages/ipykernel_launcher.py:12: UserWarning: To copy construct from a tensor, it is recommended to use sourceTensor.clone().detach() or sourceTensor.clone().detach().requires_grad_(True), rather than torch.tensor(sourceTensor).\n",
            "  if sys.path[0] == '':\n"
          ]
        },
        {
          "output_type": "stream",
          "name": "stdout",
          "text": [
            "epoch=4 -- train loss=0.697 - train acc=67.6% - dev loss=0.733 - dev acc=65.1%\n"
          ]
        },
        {
          "output_type": "stream",
          "name": "stderr",
          "text": [
            "/usr/local/lib/python3.7/dist-packages/ipykernel_launcher.py:12: UserWarning: To copy construct from a tensor, it is recommended to use sourceTensor.clone().detach() or sourceTensor.clone().detach().requires_grad_(True), rather than torch.tensor(sourceTensor).\n",
            "  if sys.path[0] == '':\n"
          ]
        },
        {
          "output_type": "stream",
          "name": "stdout",
          "text": [
            "epoch=5 -- train loss=0.649 - train acc=70.7% - dev loss=0.700 - dev acc=68.1%\n"
          ]
        },
        {
          "output_type": "stream",
          "name": "stderr",
          "text": [
            "/usr/local/lib/python3.7/dist-packages/ipykernel_launcher.py:12: UserWarning: To copy construct from a tensor, it is recommended to use sourceTensor.clone().detach() or sourceTensor.clone().detach().requires_grad_(True), rather than torch.tensor(sourceTensor).\n",
            "  if sys.path[0] == '':\n"
          ]
        },
        {
          "output_type": "stream",
          "name": "stdout",
          "text": [
            "epoch=6 -- train loss=0.601 - train acc=74.4% - dev loss=0.661 - dev acc=70.9%\n"
          ]
        },
        {
          "output_type": "stream",
          "name": "stderr",
          "text": [
            "/usr/local/lib/python3.7/dist-packages/ipykernel_launcher.py:12: UserWarning: To copy construct from a tensor, it is recommended to use sourceTensor.clone().detach() or sourceTensor.clone().detach().requires_grad_(True), rather than torch.tensor(sourceTensor).\n",
            "  if sys.path[0] == '':\n"
          ]
        },
        {
          "output_type": "stream",
          "name": "stdout",
          "text": [
            "epoch=7 -- train loss=0.563 - train acc=76.2% - dev loss=0.633 - dev acc=72.2%\n"
          ]
        },
        {
          "output_type": "stream",
          "name": "stderr",
          "text": [
            "/usr/local/lib/python3.7/dist-packages/ipykernel_launcher.py:12: UserWarning: To copy construct from a tensor, it is recommended to use sourceTensor.clone().detach() or sourceTensor.clone().detach().requires_grad_(True), rather than torch.tensor(sourceTensor).\n",
            "  if sys.path[0] == '':\n"
          ]
        },
        {
          "output_type": "stream",
          "name": "stdout",
          "text": [
            "epoch=8 -- train loss=0.525 - train acc=79.0% - dev loss=0.607 - dev acc=74.5%\n"
          ]
        },
        {
          "output_type": "stream",
          "name": "stderr",
          "text": [
            "/usr/local/lib/python3.7/dist-packages/ipykernel_launcher.py:12: UserWarning: To copy construct from a tensor, it is recommended to use sourceTensor.clone().detach() or sourceTensor.clone().detach().requires_grad_(True), rather than torch.tensor(sourceTensor).\n",
            "  if sys.path[0] == '':\n"
          ]
        },
        {
          "output_type": "stream",
          "name": "stdout",
          "text": [
            "epoch=9 -- train loss=0.495 - train acc=80.3% - dev loss=0.586 - dev acc=75.1%\n"
          ]
        },
        {
          "output_type": "stream",
          "name": "stderr",
          "text": [
            "/usr/local/lib/python3.7/dist-packages/ipykernel_launcher.py:12: UserWarning: To copy construct from a tensor, it is recommended to use sourceTensor.clone().detach() or sourceTensor.clone().detach().requires_grad_(True), rather than torch.tensor(sourceTensor).\n",
            "  if sys.path[0] == '':\n"
          ]
        },
        {
          "output_type": "stream",
          "name": "stdout",
          "text": [
            "epoch=10 -- train loss=0.460 - train acc=82.6% - dev loss=0.559 - dev acc=77.0%\n"
          ]
        },
        {
          "output_type": "stream",
          "name": "stderr",
          "text": [
            "/usr/local/lib/python3.7/dist-packages/ipykernel_launcher.py:12: UserWarning: To copy construct from a tensor, it is recommended to use sourceTensor.clone().detach() or sourceTensor.clone().detach().requires_grad_(True), rather than torch.tensor(sourceTensor).\n",
            "  if sys.path[0] == '':\n"
          ]
        },
        {
          "output_type": "stream",
          "name": "stdout",
          "text": [
            "epoch=11 -- train loss=0.438 - train acc=83.8% - dev loss=0.546 - dev acc=78.2%\n"
          ]
        },
        {
          "output_type": "stream",
          "name": "stderr",
          "text": [
            "/usr/local/lib/python3.7/dist-packages/ipykernel_launcher.py:12: UserWarning: To copy construct from a tensor, it is recommended to use sourceTensor.clone().detach() or sourceTensor.clone().detach().requires_grad_(True), rather than torch.tensor(sourceTensor).\n",
            "  if sys.path[0] == '':\n"
          ]
        },
        {
          "output_type": "stream",
          "name": "stdout",
          "text": [
            "epoch=12 -- train loss=0.421 - train acc=84.7% - dev loss=0.536 - dev acc=79.1%\n"
          ]
        },
        {
          "output_type": "stream",
          "name": "stderr",
          "text": [
            "/usr/local/lib/python3.7/dist-packages/ipykernel_launcher.py:12: UserWarning: To copy construct from a tensor, it is recommended to use sourceTensor.clone().detach() or sourceTensor.clone().detach().requires_grad_(True), rather than torch.tensor(sourceTensor).\n",
            "  if sys.path[0] == '':\n"
          ]
        },
        {
          "output_type": "stream",
          "name": "stdout",
          "text": [
            "epoch=13 -- train loss=0.400 - train acc=85.6% - dev loss=0.525 - dev acc=80.1%\n"
          ]
        },
        {
          "output_type": "stream",
          "name": "stderr",
          "text": [
            "/usr/local/lib/python3.7/dist-packages/ipykernel_launcher.py:12: UserWarning: To copy construct from a tensor, it is recommended to use sourceTensor.clone().detach() or sourceTensor.clone().detach().requires_grad_(True), rather than torch.tensor(sourceTensor).\n",
            "  if sys.path[0] == '':\n"
          ]
        },
        {
          "output_type": "stream",
          "name": "stdout",
          "text": [
            "epoch=14 -- train loss=0.392 - train acc=86.1% - dev loss=0.526 - dev acc=80.9%\n"
          ]
        },
        {
          "output_type": "stream",
          "name": "stderr",
          "text": [
            "/usr/local/lib/python3.7/dist-packages/ipykernel_launcher.py:12: UserWarning: To copy construct from a tensor, it is recommended to use sourceTensor.clone().detach() or sourceTensor.clone().detach().requires_grad_(True), rather than torch.tensor(sourceTensor).\n",
            "  if sys.path[0] == '':\n"
          ]
        },
        {
          "output_type": "stream",
          "name": "stdout",
          "text": [
            "epoch=15 -- train loss=0.374 - train acc=86.8% - dev loss=0.513 - dev acc=81.2%\n"
          ]
        },
        {
          "output_type": "stream",
          "name": "stderr",
          "text": [
            "/usr/local/lib/python3.7/dist-packages/ipykernel_launcher.py:12: UserWarning: To copy construct from a tensor, it is recommended to use sourceTensor.clone().detach() or sourceTensor.clone().detach().requires_grad_(True), rather than torch.tensor(sourceTensor).\n",
            "  if sys.path[0] == '':\n"
          ]
        },
        {
          "output_type": "stream",
          "name": "stdout",
          "text": [
            "epoch=16 -- train loss=0.360 - train acc=87.2% - dev loss=0.505 - dev acc=81.4%\n"
          ]
        },
        {
          "output_type": "stream",
          "name": "stderr",
          "text": [
            "/usr/local/lib/python3.7/dist-packages/ipykernel_launcher.py:12: UserWarning: To copy construct from a tensor, it is recommended to use sourceTensor.clone().detach() or sourceTensor.clone().detach().requires_grad_(True), rather than torch.tensor(sourceTensor).\n",
            "  if sys.path[0] == '':\n"
          ]
        },
        {
          "output_type": "stream",
          "name": "stdout",
          "text": [
            "epoch=17 -- train loss=0.350 - train acc=87.5% - dev loss=0.502 - dev acc=81.5%\n"
          ]
        },
        {
          "output_type": "stream",
          "name": "stderr",
          "text": [
            "/usr/local/lib/python3.7/dist-packages/ipykernel_launcher.py:12: UserWarning: To copy construct from a tensor, it is recommended to use sourceTensor.clone().detach() or sourceTensor.clone().detach().requires_grad_(True), rather than torch.tensor(sourceTensor).\n",
            "  if sys.path[0] == '':\n"
          ]
        },
        {
          "output_type": "stream",
          "name": "stdout",
          "text": [
            "epoch=18 -- train loss=0.342 - train acc=88.0% - dev loss=0.503 - dev acc=82.0%\n"
          ]
        },
        {
          "output_type": "stream",
          "name": "stderr",
          "text": [
            "/usr/local/lib/python3.7/dist-packages/ipykernel_launcher.py:12: UserWarning: To copy construct from a tensor, it is recommended to use sourceTensor.clone().detach() or sourceTensor.clone().detach().requires_grad_(True), rather than torch.tensor(sourceTensor).\n",
            "  if sys.path[0] == '':\n"
          ]
        },
        {
          "output_type": "stream",
          "name": "stdout",
          "text": [
            "epoch=19 -- train loss=0.330 - train acc=88.4% - dev loss=0.489 - dev acc=82.3%\n"
          ]
        },
        {
          "output_type": "stream",
          "name": "stderr",
          "text": [
            "/usr/local/lib/python3.7/dist-packages/ipykernel_launcher.py:12: UserWarning: To copy construct from a tensor, it is recommended to use sourceTensor.clone().detach() or sourceTensor.clone().detach().requires_grad_(True), rather than torch.tensor(sourceTensor).\n",
            "  if sys.path[0] == '':\n"
          ]
        },
        {
          "output_type": "stream",
          "name": "stdout",
          "text": [
            "epoch=20 -- train loss=0.324 - train acc=88.5% - dev loss=0.487 - dev acc=82.3%\n"
          ]
        },
        {
          "output_type": "stream",
          "name": "stderr",
          "text": [
            "/usr/local/lib/python3.7/dist-packages/ipykernel_launcher.py:12: UserWarning: To copy construct from a tensor, it is recommended to use sourceTensor.clone().detach() or sourceTensor.clone().detach().requires_grad_(True), rather than torch.tensor(sourceTensor).\n",
            "  if sys.path[0] == '':\n"
          ]
        },
        {
          "output_type": "stream",
          "name": "stdout",
          "text": [
            "epoch=21 -- train loss=0.318 - train acc=88.8% - dev loss=0.490 - dev acc=82.4%\n"
          ]
        },
        {
          "output_type": "stream",
          "name": "stderr",
          "text": [
            "/usr/local/lib/python3.7/dist-packages/ipykernel_launcher.py:12: UserWarning: To copy construct from a tensor, it is recommended to use sourceTensor.clone().detach() or sourceTensor.clone().detach().requires_grad_(True), rather than torch.tensor(sourceTensor).\n",
            "  if sys.path[0] == '':\n"
          ]
        },
        {
          "output_type": "stream",
          "name": "stdout",
          "text": [
            "epoch=22 -- train loss=0.313 - train acc=89.1% - dev loss=0.492 - dev acc=82.8%\n"
          ]
        },
        {
          "output_type": "stream",
          "name": "stderr",
          "text": [
            "/usr/local/lib/python3.7/dist-packages/ipykernel_launcher.py:12: UserWarning: To copy construct from a tensor, it is recommended to use sourceTensor.clone().detach() or sourceTensor.clone().detach().requires_grad_(True), rather than torch.tensor(sourceTensor).\n",
            "  if sys.path[0] == '':\n"
          ]
        },
        {
          "output_type": "stream",
          "name": "stdout",
          "text": [
            "epoch=23 -- train loss=0.308 - train acc=89.2% - dev loss=0.495 - dev acc=82.9%\n"
          ]
        },
        {
          "output_type": "stream",
          "name": "stderr",
          "text": [
            "/usr/local/lib/python3.7/dist-packages/ipykernel_launcher.py:12: UserWarning: To copy construct from a tensor, it is recommended to use sourceTensor.clone().detach() or sourceTensor.clone().detach().requires_grad_(True), rather than torch.tensor(sourceTensor).\n",
            "  if sys.path[0] == '':\n"
          ]
        },
        {
          "output_type": "stream",
          "name": "stdout",
          "text": [
            "epoch=24 -- train loss=0.292 - train acc=89.6% - dev loss=0.485 - dev acc=82.8%\n"
          ]
        }
      ]
    },
    {
      "cell_type": "markdown",
      "source": [
        "## Evaluation"
      ],
      "metadata": {
        "id": "SgJseg5oxddF"
      }
    },
    {
      "cell_type": "markdown",
      "source": [
        "### Learning curves"
      ],
      "metadata": {
        "id": "9MMmUDgp-Khv"
      }
    },
    {
      "cell_type": "code",
      "source": [
        "plt.rcParams.update(plt.rcParamsDefault)\n",
        "\n",
        "fig, ax = plt.subplots(1, 2, figsize=(16, 4))\n",
        "\n",
        "sns.lineplot(data=metrics['train_loss'], ax=ax[0], label='Train')\n",
        "sns.lineplot(data=metrics['dev_loss'], ax=ax[0], label='Validation')\n",
        "\n",
        "sns.lineplot(data=metrics['train_bal_acc'], ax=ax[1], label='Train')\n",
        "sns.lineplot(data=metrics['dev_bal_acc'], ax=ax[1], label='Validation')\n",
        "\n",
        "plt.setp(ax[0], xlabel='Epochs', ylabel='Loss')\n",
        "plt.setp(ax[1], xlabel='Epochs', ylabel='Balanced Accuracy')\n",
        "plt.savefig('no_pre-trained_loss_acc.png')\n",
        "plt.show()"
      ],
      "metadata": {
        "colab": {
          "base_uri": "https://localhost:8080/",
          "height": 331
        },
        "id": "LtpvfNGX6rTd",
        "outputId": "2a6c98d0-2b45-4a13-d4e7-00a67d2441c9"
      },
      "execution_count": null,
      "outputs": [
        {
          "output_type": "display_data",
          "data": {
            "text/plain": [
              "<Figure size 1600x400 with 2 Axes>"
            ],
            "image/png": "[encoded data removed]"
          },
          "metadata": {}
        }
      ]
    },
    {
      "cell_type": "code",
      "source": [
        "pickle.dump(metrics, open(f'/content/drive/MyDrive/Deep Learning/Covid sentiment/metrics_no_pre_trained.pkl', 'wb'))"
      ],
      "metadata": {
        "id": "HA8dXVzr6rOg"
      },
      "execution_count": null,
      "outputs": []
    },
    {
      "cell_type": "code",
      "source": [
        "metrics_no_pre_trained = pickle.load(open(f'/content/drive/MyDrive/Deep Learning/Covid sentiment/metrics_no_pre_trained.pkl', 'rb'))"
      ],
      "metadata": {
        "id": "sylBxn29xdsX"
      },
      "execution_count": null,
      "outputs": []
    },
    {
      "cell_type": "markdown",
      "source": [
        "### Classification reports"
      ],
      "metadata": {
        "id": "Guw_qSPE-PRO"
      }
    },
    {
      "cell_type": "code",
      "source": [
        "def evaluation(y_pred, y_true):\n",
        "    return ConfusionMatrixDisplay.from_predictions(y_pred=y_pred, y_true=y_true, cmap='Blues', display_labels=['Negative', 'Neutral', 'Positive']), print(classification_report(y_pred=y_pred, y_true=y_true))"
      ],
      "metadata": {
        "id": "Yz0YnnU68nof"
      },
      "execution_count": null,
      "outputs": []
    },
    {
      "cell_type": "markdown",
      "source": [
        "#### Train"
      ],
      "metadata": {
        "id": "ENROMrUkBshl"
      }
    },
    {
      "cell_type": "code",
      "source": [
        "with torch.no_grad():\n",
        "    model.eval()\n",
        "    y_out = model(X_train, seqlen_train)\n",
        "    labels = y_out.argmax(axis=1)"
      ],
      "metadata": {
        "id": "Pqr4m5iM91hJ"
      },
      "execution_count": null,
      "outputs": []
    },
    {
      "cell_type": "code",
      "source": [
        "plt.rcParams.update(plt.rcParamsDefault)\n",
        "evaluation(labels.cpu().detach().numpy(), y_train.cpu().detach().numpy())"
      ],
      "metadata": {
        "colab": {
          "base_uri": "https://localhost:8080/",
          "height": 657
        },
        "id": "ZsxbnAql91dE",
        "outputId": "599d5f08-bbe9-45dd-d9be-27d47ff64006"
      },
      "execution_count": null,
      "outputs": [
        {
          "output_type": "stream",
          "name": "stdout",
          "text": [
            "              precision    recall  f1-score   support\n",
            "\n",
            "           0       0.89      0.91      0.90     13755\n",
            "           1       0.88      0.86      0.87      6602\n",
            "           2       0.92      0.92      0.92     16119\n",
            "\n",
            "    accuracy                           0.91     36476\n",
            "   macro avg       0.90      0.90      0.90     36476\n",
            "weighted avg       0.91      0.91      0.91     36476\n",
            "\n"
          ]
        },
        {
          "output_type": "execute_result",
          "data": {
            "text/plain": [
              "(<sklearn.metrics._plot.confusion_matrix.ConfusionMatrixDisplay at 0x7f95807c1050>,\n",
              " None)"
            ]
          },
          "metadata": {},
          "execution_count": 93
        },
        {
          "output_type": "display_data",
          "data": {
            "text/plain": [
              "<Figure size 640x480 with 2 Axes>"
            ],
            "image/png": "[encoded data removed]"
          },
          "metadata": {}
        }
      ]
    },
    {
      "cell_type": "code",
      "source": [
        "np.round(balanced_accuracy_score(y_train.cpu().detach().numpy(), labels.cpu().detach().numpy()), 3)"
      ],
      "metadata": {
        "colab": {
          "base_uri": "https://localhost:8080/"
        },
        "id": "8NXBRT0RDJTd",
        "outputId": "9f366072-eb20-40d3-f4dc-994bc8817f25"
      },
      "execution_count": null,
      "outputs": [
        {
          "output_type": "execute_result",
          "data": {
            "text/plain": [
              "0.896"
            ]
          },
          "metadata": {},
          "execution_count": 63
        }
      ]
    },
    {
      "cell_type": "markdown",
      "source": [
        "#### Validation"
      ],
      "metadata": {
        "id": "_x_lKGvVBv83"
      }
    },
    {
      "cell_type": "code",
      "source": [
        "with torch.no_grad():\n",
        "    model.eval()\n",
        "    y_out = model(X_dev, seqlen_dev)\n",
        "    labels = y_out.argmax(axis=1)"
      ],
      "metadata": {
        "id": "1qSO3nFFBp47"
      },
      "execution_count": null,
      "outputs": []
    },
    {
      "cell_type": "code",
      "source": [
        "evaluation(labels.cpu().detach().numpy(), y_dev.cpu().detach().numpy())"
      ],
      "metadata": {
        "colab": {
          "base_uri": "https://localhost:8080/",
          "height": 657
        },
        "id": "cNn0qceZC_O9",
        "outputId": "161b7523-31f9-49aa-a843-a994b55810c5"
      },
      "execution_count": null,
      "outputs": [
        {
          "output_type": "stream",
          "name": "stdout",
          "text": [
            "              precision    recall  f1-score   support\n",
            "\n",
            "           0       0.83      0.84      0.83      1528\n",
            "           1       0.77      0.78      0.78       734\n",
            "           2       0.87      0.86      0.87      1791\n",
            "\n",
            "    accuracy                           0.84      4053\n",
            "   macro avg       0.83      0.83      0.83      4053\n",
            "weighted avg       0.84      0.84      0.84      4053\n",
            "\n"
          ]
        },
        {
          "output_type": "execute_result",
          "data": {
            "text/plain": [
              "(<sklearn.metrics._plot.confusion_matrix.ConfusionMatrixDisplay at 0x7f957f4e2e90>,\n",
              " None)"
            ]
          },
          "metadata": {},
          "execution_count": 95
        },
        {
          "output_type": "display_data",
          "data": {
            "text/plain": [
              "<Figure size 640x480 with 2 Axes>"
            ],
            "image/png": "[encoded data removed]"
          },
          "metadata": {}
        }
      ]
    },
    {
      "cell_type": "code",
      "source": [
        "np.round(balanced_accuracy_score(y_dev.cpu().detach().numpy(), labels.cpu().detach().numpy()), 3)"
      ],
      "metadata": {
        "colab": {
          "base_uri": "https://localhost:8080/"
        },
        "id": "pdvC_D1_DBQo",
        "outputId": "6f5a9264-2873-4c14-9e49-78a3dfa235d5"
      },
      "execution_count": null,
      "outputs": [
        {
          "output_type": "execute_result",
          "data": {
            "text/plain": [
              "0.828"
            ]
          },
          "metadata": {},
          "execution_count": 96
        }
      ]
    },
    {
      "cell_type": "markdown",
      "source": [
        "#### Test"
      ],
      "metadata": {
        "id": "Ik1i2a0q8nuI"
      }
    },
    {
      "cell_type": "code",
      "source": [
        "with torch.no_grad():\n",
        "    model.eval()\n",
        "    y_out = model(X_test, seqlen_test)\n",
        "    labels = y_out.argmax(axis=1)"
      ],
      "metadata": {
        "id": "MaxOt6FtCU6e"
      },
      "execution_count": null,
      "outputs": []
    },
    {
      "cell_type": "code",
      "source": [
        "evaluation(labels.cpu().detach().numpy(), y_test.cpu().detach().numpy())"
      ],
      "metadata": {
        "colab": {
          "base_uri": "https://localhost:8080/",
          "height": 657
        },
        "id": "9DH-AtMa8nzf",
        "outputId": "3db8a553-3221-4607-db74-183de1c89262"
      },
      "execution_count": null,
      "outputs": [
        {
          "output_type": "stream",
          "name": "stdout",
          "text": [
            "              precision    recall  f1-score   support\n",
            "\n",
            "           0       0.81      0.82      0.81      1632\n",
            "           1       0.74      0.75      0.74       605\n",
            "           2       0.84      0.84      0.84      1544\n",
            "\n",
            "    accuracy                           0.81      3781\n",
            "   macro avg       0.80      0.80      0.80      3781\n",
            "weighted avg       0.81      0.81      0.81      3781\n",
            "\n"
          ]
        },
        {
          "output_type": "execute_result",
          "data": {
            "text/plain": [
              "(<sklearn.metrics._plot.confusion_matrix.ConfusionMatrixDisplay at 0x7f957f349f10>,\n",
              " None)"
            ]
          },
          "metadata": {},
          "execution_count": 98
        },
        {
          "output_type": "display_data",
          "data": {
            "text/plain": [
              "<Figure size 640x480 with 2 Axes>"
            ],
            "image/png": "[encoded data removed]"
          },
          "metadata": {}
        }
      ]
    },
    {
      "cell_type": "code",
      "source": [
        "np.round(balanced_accuracy_score(y_test.cpu().detach().numpy(), labels.cpu().detach().numpy()), 3)"
      ],
      "metadata": {
        "colab": {
          "base_uri": "https://localhost:8080/"
        },
        "id": "hyDCzAn-CeG_",
        "outputId": "d794b45a-725f-436e-8978-23a7c12bb0ed"
      },
      "execution_count": null,
      "outputs": [
        {
          "output_type": "execute_result",
          "data": {
            "text/plain": [
              "0.799"
            ]
          },
          "metadata": {},
          "execution_count": 99
        }
      ]
    },
    {
      "cell_type": "markdown",
      "source": [
        "# With pre-trained embeddings"
      ],
      "metadata": {
        "id": "JpK7BV2C9o83"
      }
    },
    {
      "cell_type": "markdown",
      "source": [
        "## Import"
      ],
      "metadata": {
        "id": "EopYf6EL6QCL"
      }
    },
    {
      "cell_type": "code",
      "source": [
        "train_df = pd.read_csv('/content/drive/MyDrive/Deep Learning/Covid sentiment/Corona_NLP_train.csv', encoding='ISO-8859-1')\n",
        "test_df = pd.read_csv('/content/drive/MyDrive/Deep Learning/Covid sentiment/Corona_NLP_test.csv')\n",
        "\n",
        "train_df = train_df[['OriginalTweet', 'Sentiment']]\n",
        "test_df = test_df[['OriginalTweet', 'Sentiment']]\n",
        "\n",
        "train_df['Sentiment'] = train_df['Sentiment'].map({'Extremely Negative':0,'Negative':0,'Neutral':1,'Positive':2,'Extremely Positive':2})\n",
        "test_df['Sentiment'] = test_df['Sentiment'].map({'Extremely Negative':0,'Negative':0,'Neutral':1,'Positive':2,'Extremely Positive':2})"
      ],
      "metadata": {
        "colab": {
          "base_uri": "https://localhost:8080/"
        },
        "id": "CDLfD4Se6Qc6",
        "outputId": "046af198-7a3e-4159-e69b-f4dfcbb16224"
      },
      "execution_count": null,
      "outputs": [
        {
          "output_type": "stream",
          "name": "stderr",
          "text": [
            "/usr/local/lib/python3.7/dist-packages/ipykernel_launcher.py:7: SettingWithCopyWarning: \n",
            "A value is trying to be set on a copy of a slice from a DataFrame.\n",
            "Try using .loc[row_indexer,col_indexer] = value instead\n",
            "\n",
            "See the caveats in the documentation: https://pandas.pydata.org/pandas-docs/stable/user_guide/indexing.html#returning-a-view-versus-a-copy\n",
            "  import sys\n"
          ]
        }
      ]
    },
    {
      "cell_type": "markdown",
      "source": [
        "## Data cleaning"
      ],
      "metadata": {
        "id": "P16AsgG3dRXg"
      }
    },
    {
      "cell_type": "code",
      "source": [
        "stop = set(stopwords.words('english'))\n",
        "punctuation = list(string.punctuation)\n",
        "stop.update(punctuation)"
      ],
      "metadata": {
        "id": "z7p8AsN0dMVB"
      },
      "execution_count": null,
      "outputs": []
    },
    {
      "cell_type": "code",
      "source": [
        "##CUSTOM DEFINED FUNCTIONS TO CLEAN THE TWEETS\n",
        "\n",
        "#Clean emojis from text\n",
        "def strip_emoji(text):\n",
        "    return re.sub(emoji.get_emoji_regexp(), r\"\", text) #remove emoji\n",
        "\n",
        "#Remove punctuations, links, mentions and \\r\\n new line characters\n",
        "def strip_all_entities(text): \n",
        "    text = text.replace('\\r', '').replace('\\n', ' ').replace('\\n', ' ').lower() #remove \\n and \\r and lowercase\n",
        "    text = re.sub(r\"(?:\\@|https?\\://)\\S+\", \"\", text) #remove links and mentions\n",
        "    text = re.sub(r'[^\\x00-\\x7f]',r'', text) #remove non utf8/ascii characters such as '\\x9a\\x91\\x97\\x9a\\x97'\n",
        "    banned_list= string.punctuation + 'Ã'+'±'+'ã'+'¼'+'â'+'»'+'§'\n",
        "    table = str.maketrans('', '', banned_list)\n",
        "    text = text.translate(table)\n",
        "    return text\n",
        "\n",
        "#clean hashtags at the end of the sentence, and keep those in the middle of the sentence by removing just the # symbol\n",
        "def clean_hashtags(tweet):\n",
        "    new_tweet = \" \".join(word.strip() for word in re.split('#(?!(?:hashtag)\\b)[\\w-]+(?=(?:\\s+#[\\w-]+)*\\s*$)', tweet)) #remove last hashtags\n",
        "    new_tweet2 = \" \".join(word.strip() for word in re.split('#|_', new_tweet)) #remove hashtags symbol from words in the middle of the sentence\n",
        "    return new_tweet2\n",
        "\n",
        "#Filter special characters such as & and $ present in some words\n",
        "def filter_chars(a):\n",
        "    sent = []\n",
        "    for word in a.split(' '):\n",
        "        if ('$' in word) | ('&' in word):\n",
        "            sent.append('')\n",
        "        else:\n",
        "            sent.append(word)\n",
        "    return ' '.join(sent)\n",
        "\n",
        "def remove_mult_spaces(text): # remove multiple spaces\n",
        "    return re.sub(\"\\s\\s+\" , \" \", text)\n",
        "\n",
        "#Removing the stopwords from text\n",
        "def remove_stopwords(text):\n",
        "    final_text = []\n",
        "    for i in text.split():\n",
        "        if i.strip().lower() not in stop:\n",
        "            final_text.append(i.strip())\n",
        "    return \" \".join(final_text)\n",
        "\n",
        "def remove_url(text):\n",
        "    return re.sub(r'http\\S+', '', text)\n",
        "\n",
        "def strip_html(text):\n",
        "    soup = BeautifulSoup(text, \"html.parser\")\n",
        "    return soup.get_text()\n",
        "\n",
        "def remove_between_square_brackets(text):\n",
        "    return re.sub('\\[[^]]*\\]', '', text)\n",
        "\n",
        "#Removing the noisy text\n",
        "def denoise_text(text):\n",
        "    text = strip_html(text)\n",
        "    text = remove_between_square_brackets(text)\n",
        "    text = remove_stopwords(text)\n",
        "    return text"
      ],
      "metadata": {
        "id": "Zb8jimtsdULH"
      },
      "execution_count": null,
      "outputs": []
    },
    {
      "cell_type": "code",
      "source": [
        "train_df['OriginalTweet'] = train_df['OriginalTweet'].apply(lambda x: strip_emoji(x))\n",
        "test_df['OriginalTweet'] = test_df['OriginalTweet'].apply(lambda x: strip_emoji(x))\n",
        "\n",
        "train_df['OriginalTweet'] = train_df['OriginalTweet'].apply(lambda x: strip_all_entities(x))\n",
        "test_df['OriginalTweet'] = test_df['OriginalTweet'].apply(lambda x: strip_all_entities(x))\n",
        "\n",
        "train_df['OriginalTweet'] = train_df['OriginalTweet'].apply(lambda x: clean_hashtags(x))\n",
        "test_df['OriginalTweet'] = test_df['OriginalTweet'].apply(lambda x: clean_hashtags(x))\n",
        "\n",
        "train_df['OriginalTweet'] = train_df['OriginalTweet'].apply(lambda x: filter_chars(x))\n",
        "test_df['OriginalTweet'] = test_df['OriginalTweet'].apply(lambda x: filter_chars(x))\n",
        "\n",
        "train_df['OriginalTweet'] = train_df['OriginalTweet'].apply(lambda x: remove_mult_spaces(x))\n",
        "test_df['OriginalTweet'] = test_df['OriginalTweet'].apply(lambda x: remove_mult_spaces(x))\n",
        "\n",
        "train_df['OriginalTweet'] = train_df['OriginalTweet'].apply(lambda x: remove_stopwords(x))\n",
        "test_df['OriginalTweet'] = test_df['OriginalTweet'].apply(lambda x: remove_stopwords(x))\n",
        "\n",
        "train_df['OriginalTweet'] = train_df['OriginalTweet'].apply(lambda x: remove_url(x))\n",
        "test_df['OriginalTweet'] = test_df['OriginalTweet'].apply(lambda x: remove_url(x))\n",
        "\n",
        "train_df['OriginalTweet'] = train_df['OriginalTweet'].apply(lambda x: denoise_text(x))\n",
        "test_df['OriginalTweet'] = test_df['OriginalTweet'].apply(lambda x: denoise_text(x))"
      ],
      "metadata": {
        "colab": {
          "base_uri": "https://localhost:8080/"
        },
        "id": "wsXgLkemdUIl",
        "outputId": "91090d17-2462-404f-ce3f-97855303b865"
      },
      "execution_count": null,
      "outputs": [
        {
          "output_type": "stream",
          "name": "stderr",
          "text": [
            "/usr/local/lib/python3.7/dist-packages/ipykernel_launcher.py:5: DeprecationWarning: 'emoji.get_emoji_regexp()' is deprecated and will be removed in version 2.0.0. If you want to remove emoji from a string, consider the method emoji.replace_emoji(str, replace='').\n",
            "To hide this warning, pin/downgrade the package to 'emoji~=1.6.3'\n",
            "  \"\"\"\n"
          ]
        }
      ]
    },
    {
      "cell_type": "markdown",
      "source": [
        "Glove only has embedding for the word coronavirus, that is why I make the corrections below."
      ],
      "metadata": {
        "id": "mj5rBcpM93Wn"
      }
    },
    {
      "cell_type": "code",
      "source": [
        "train_df['OriginalTweet'] = train_df['OriginalTweet'].str.replace('covid19','coronavirus')\n",
        "test_df['OriginalTweet'] = test_df['OriginalTweet'].str.replace('covid19','coronavirus')\n",
        "\n",
        "train_df['OriginalTweet'] = train_df['OriginalTweet'].str.replace('covid 19','coronavirus')\n",
        "test_df['OriginalTweet'] = test_df['OriginalTweet'].str.replace('covid 19','coronavirus')\n",
        "\n",
        "train_df['OriginalTweet'] = train_df['OriginalTweet'].str.replace('covid','coronavirus')\n",
        "test_df['OriginalTweet'] = test_df['OriginalTweet'].str.replace('covid','coronavirus')"
      ],
      "metadata": {
        "id": "7MPKeg_o9Kwp"
      },
      "execution_count": null,
      "outputs": []
    },
    {
      "cell_type": "markdown",
      "source": [
        "## Vocabulary"
      ],
      "metadata": {
        "id": "_0eo3Kd3dUGC"
      }
    },
    {
      "cell_type": "code",
      "source": [
        "df = pd.concat([train_df, test_df], ignore_index=True)"
      ],
      "metadata": {
        "id": "E99MBNSydlj1"
      },
      "execution_count": null,
      "outputs": []
    },
    {
      "cell_type": "code",
      "source": [
        "content_words=[]\n",
        "\n",
        "for text in tqdm(df['OriginalTweet']):\n",
        "    with nlp.disable_pipes(\"tagger\",\"parser\",\"ner\"):\n",
        "        doc = nlp(text)\n",
        "        content_words.append([token.text.lower() for token in doc])"
      ],
      "metadata": {
        "colab": {
          "base_uri": "https://localhost:8080/",
          "height": 104,
          "referenced_widgets": [
            "bf9d2c018e1747ebbb1070530eb9df1f",
            "eb4a73d20e3445ddad15ebc504a953df",
            "85a32336e1d846e297b98a93b73bd8fb",
            "c3d4cf35ba174a12ab0255e841ff8c93",
            "0aee9db1bde743279e3b3571b91d6383",
            "aa8c9355b7264c8bb4d5c660cdcff536",
            "5aa5d831fa8d43f2b82576e1eb0393e0",
            "014db81d1c584453b8a6a0d6f8eaff79",
            "e54e4442a0a44a8ca646b64d87c0ef67",
            "29fb3286e42c476793dbab8b27d2f0a8",
            "30d3e5b303864f118e44725b2d8d6c63"
          ]
        },
        "id": "WIHbIq7sdlhO",
        "outputId": "2fb03c6c-0c8b-4156-c910-ec0d80c1803e"
      },
      "execution_count": null,
      "outputs": [
        {
          "output_type": "display_data",
          "data": {
            "text/plain": [
              "  0%|          | 0/44955 [00:00<?, ?it/s]"
            ],
            "application/vnd.jupyter.widget-view+json": {
              "version_major": 2,
              "version_minor": 0,
              "model_id": "bf9d2c018e1747ebbb1070530eb9df1f"
            }
          },
          "metadata": {}
        },
        {
          "output_type": "stream",
          "name": "stderr",
          "text": [
            "/usr/local/lib/python3.7/dist-packages/spacy/pipeline/lemmatizer.py:211: UserWarning: [W108] The rule-based lemmatizer did not find POS annotation for one or more tokens. Check that your pipeline includes components that assign token.pos, typically 'tagger'+'attribute_ruler' or 'morphologizer'.\n",
            "  warnings.warn(Warnings.W108)\n"
          ]
        }
      ]
    },
    {
      "cell_type": "code",
      "source": [
        "df['content_words'] = content_words"
      ],
      "metadata": {
        "id": "-zvnEZp2dxYW"
      },
      "execution_count": null,
      "outputs": []
    },
    {
      "cell_type": "code",
      "source": [
        "df['len'] = [len(content) for content in df['content_words']]"
      ],
      "metadata": {
        "id": "2gv9-akqdxdl"
      },
      "execution_count": null,
      "outputs": []
    },
    {
      "cell_type": "code",
      "source": [
        "class WordTokenizer(): # occurrences of the words in the corpus\n",
        "    def __init__(self, tok_seqs, threshold=15): \n",
        "        tok_counts={} # keys: words, values: occurrences\n",
        "        \n",
        "        for tok_seq in tqdm(tok_seqs): # iterate over the list of words in each row in the df\n",
        "            for tok in tok_seq:\n",
        "                if not tok in tok_counts.keys():\n",
        "                    tok_counts[tok]=1\n",
        "                else:\n",
        "                    tok_counts[tok]+=1\n",
        "        \n",
        "        self.vocab={'[PAD]':0,'[UNK]':1} # initialize vocab attribute with padding and unknown\n",
        "        for tok, val in tok_counts.items(): # iterate over the values in the previously created dictionary (words:occurrences dict)\n",
        "            if val>=threshold:\n",
        "                self.vocab[tok]=len(self.vocab) # the keys are words that have at least 'threshold' occurrences and the values are integers (starting from 2) -> values are unique too\n",
        "                \n",
        "        print(\"The size of the dictionary:\",len(self.vocab))\n",
        "    def encode(self,seq):\n",
        "        encoded=[]\n",
        "        for tok in seq: # iterate over the list of words in each row in the df\n",
        "            if tok in self.vocab.keys(): # if the word is in the previously created vocab (where the values are unique)\n",
        "                encoded.append(self.vocab[tok]) # append the value (the integer encoding of the word)\n",
        "            else:\n",
        "                encoded.append(1) # if the word does not have at least 'threshold' occurrences then label those as unknown word (with value 1)\n",
        "        return encoded"
      ],
      "metadata": {
        "id": "941p8RZjdxiG"
      },
      "execution_count": null,
      "outputs": []
    },
    {
      "cell_type": "code",
      "source": [
        "word_tokenizer = WordTokenizer(df['content_words'])\n",
        "df['word_encoded'] = [word_tokenizer.encode(seq) for seq in tqdm(df['content_words'])] # unqiue integer representation of each words which has at least 'threshold' occ or 1 if not\n",
        "df['word_length'] = [len(seq) for seq in tqdm(df['content_words'])] # length of the encoded lists in each row of the df"
      ],
      "metadata": {
        "colab": {
          "base_uri": "https://localhost:8080/",
          "height": 130,
          "referenced_widgets": [
            "9f07a4c5ed8e451aaea06eef8defae65",
            "5c8120490a5a414f8ca96026728f10f3",
            "563a1989cf304de8a8e00409e21b6547",
            "c3943476868b4539a57ab221999284a8",
            "0d0d34e74d534cd5bef3ec0bf0626122",
            "87ae7b420aea4b96ad4f4d418c2c22b1",
            "0bede6393c8f4db78953ae244a3bd8e4",
            "a051972e1f0c47f796f3fe4fce491fd4",
            "ebd80629c36b4203b4a8858a4fd51915",
            "cc4736b6cc2b4f16a6872afdcec31357",
            "715759d477014d70b05810ab8b5a21f1",
            "990667b9d0da4fd794b93bb9bbcb4920",
            "16af354008f247929fc9c24ab8b5870d",
            "7b3e9967587346c3a5dcc1ba39cc5777",
            "6c20dc50c41441d281003521e752bc53",
            "40e9a3ca45cf46d3afc068be7b7fb9f8",
            "c3d728f47c1b44439cf57fd42ed1cc77",
            "e9ad856dbef748edb3463c672a0a398f",
            "900da454f4614666988a4843ffec5c1d",
            "2bd2203be9c14a55ac2b868d50aeed91",
            "c0f8c1213aeb4d8ca5ffbd8332193e00",
            "d360a6c64368432899564efbe93bb163",
            "3b90ffc79dc74c9ca64b27a7907da290",
            "b822574c36a54d979e192003f0d6feb6",
            "71ae7ef0d6c34a06920d0e3cf6d22d93",
            "d80e95e2e9ca4778838e8c15b8105943",
            "6c469c1d4bcb4603904bccb6341b065d",
            "c7ee1ac2be21404d87ec77513dd6dd34",
            "37a880f7f38c4c61a916dedc4a801d20",
            "8a94fed78e374a4da84e957020d25339",
            "35171b54c37a44beb755f9d21b28fee5",
            "d830d3aab80e4785b891fb3f0221e731",
            "596bffd952b44834874093e721d4b009"
          ]
        },
        "id": "J37CiDg8dMDK",
        "outputId": "8bd2dfe9-e150-4c08-f4d3-33e8a6104a44"
      },
      "execution_count": null,
      "outputs": [
        {
          "output_type": "display_data",
          "data": {
            "text/plain": [
              "  0%|          | 0/44955 [00:00<?, ?it/s]"
            ],
            "application/vnd.jupyter.widget-view+json": {
              "version_major": 2,
              "version_minor": 0,
              "model_id": "9f07a4c5ed8e451aaea06eef8defae65"
            }
          },
          "metadata": {}
        },
        {
          "output_type": "stream",
          "name": "stdout",
          "text": [
            "The size of the dictionary: 5430\n"
          ]
        },
        {
          "output_type": "display_data",
          "data": {
            "text/plain": [
              "  0%|          | 0/44955 [00:00<?, ?it/s]"
            ],
            "application/vnd.jupyter.widget-view+json": {
              "version_major": 2,
              "version_minor": 0,
              "model_id": "990667b9d0da4fd794b93bb9bbcb4920"
            }
          },
          "metadata": {}
        },
        {
          "output_type": "display_data",
          "data": {
            "text/plain": [
              "  0%|          | 0/44955 [00:00<?, ?it/s]"
            ],
            "application/vnd.jupyter.widget-view+json": {
              "version_major": 2,
              "version_minor": 0,
              "model_id": "3b90ffc79dc74c9ca64b27a7907da290"
            }
          },
          "metadata": {}
        }
      ]
    },
    {
      "cell_type": "markdown",
      "source": [
        "## Load pre-trained embeddings"
      ],
      "metadata": {
        "id": "E1iLHu5UL9Iz"
      }
    },
    {
      "cell_type": "markdown",
      "source": [
        "### Glove 6B 50D "
      ],
      "metadata": {
        "id": "8pB-m_5Q65sw"
      }
    },
    {
      "cell_type": "code",
      "source": [
        "words = []\n",
        "idx = 0\n",
        "word2idx = {}\n",
        "vectors = bcolz.carray(np.zeros(1), rootdir=f'/content/drive/MyDrive/Deep Learning/Covid sentiment/6B.50.dat', mode='w')\n",
        "\n",
        "with open(f'/content/drive/MyDrive/Deep Learning/Covid sentiment/glove.6B.50d.txt', 'rb') as f:\n",
        "    for l in f:\n",
        "        line = l.decode().split()\n",
        "        word = line[0]\n",
        "        words.append(word)\n",
        "        word2idx[word] = idx\n",
        "        idx += 1\n",
        "        vect = np.array(line[1:]).astype(np.float)\n",
        "        vectors.append(vect)\n",
        "    \n",
        "vectors = bcolz.carray(vectors[1:].reshape((400001, 50)), rootdir=f'/content/drive/MyDrive/Deep Learning/Covid sentiment/6B.50.dat', mode='w')\n",
        "vectors.flush()\n",
        "pickle.dump(words, open(f'/content/drive/MyDrive/Deep Learning/Covid sentiment/6B.50_words.pkl', 'wb'))\n",
        "pickle.dump(word2idx, open(f'/content/drive/MyDrive/Deep Learning/Covid sentiment/6B.50_idx.pkl', 'wb'))"
      ],
      "metadata": {
        "id": "YI0HL619G4hN",
        "colab": {
          "base_uri": "https://localhost:8080/"
        },
        "outputId": "c3f0efd9-128c-4fd4-d9c9-b3102d614672"
      },
      "execution_count": null,
      "outputs": [
        {
          "output_type": "stream",
          "name": "stderr",
          "text": [
            "/usr/local/lib/python3.7/dist-packages/ipykernel_launcher.py:13: DeprecationWarning: `np.float` is a deprecated alias for the builtin `float`. To silence this warning, use `float` by itself. Doing this will not modify any behavior and is safe. If you specifically wanted the numpy scalar type, use `np.float64` here.\n",
            "Deprecated in NumPy 1.20; for more details and guidance: https://numpy.org/devdocs/release/1.20.0-notes.html#deprecations\n",
            "  del sys.path[0]\n"
          ]
        }
      ]
    },
    {
      "cell_type": "code",
      "source": [
        "vectors = bcolz.open(f'/content/drive/MyDrive/Deep Learning/Covid sentiment/6B.50.dat')[:]\n",
        "words = pickle.load(open(f'/content/drive/MyDrive/Deep Learning/Covid sentiment/6B.50_words.pkl', 'rb'))\n",
        "word2idx = pickle.load(open(f'/content/drive/MyDrive/Deep Learning/Covid sentiment/6B.50_idx.pkl', 'rb'))\n",
        "\n",
        "glove = {w: vectors[word2idx[w]] for w in words}"
      ],
      "metadata": {
        "id": "NQwfGHIQG4lp"
      },
      "execution_count": null,
      "outputs": []
    },
    {
      "cell_type": "code",
      "source": [
        "len(word_tokenizer.vocab)"
      ],
      "metadata": {
        "colab": {
          "base_uri": "https://localhost:8080/"
        },
        "id": "dlvqAA47G4p6",
        "outputId": "b4a70f56-1581-4047-b8d0-db0b2f882674"
      },
      "execution_count": null,
      "outputs": [
        {
          "output_type": "execute_result",
          "data": {
            "text/plain": [
              "5430"
            ]
          },
          "metadata": {},
          "execution_count": 250
        }
      ]
    },
    {
      "cell_type": "code",
      "source": [
        "len(glove)"
      ],
      "metadata": {
        "colab": {
          "base_uri": "https://localhost:8080/"
        },
        "id": "LIxwblgtLAfP",
        "outputId": "0266f19b-1776-4dd2-e005-36fb4e227477"
      },
      "execution_count": null,
      "outputs": [
        {
          "output_type": "execute_result",
          "data": {
            "text/plain": [
              "400001"
            ]
          },
          "metadata": {},
          "execution_count": 91
        }
      ]
    },
    {
      "cell_type": "code",
      "source": [
        "matrix_len = len(word_tokenizer.vocab)\n",
        "weights_matrix = np.zeros((matrix_len, 50))\n",
        "words_found = 0\n",
        "\n",
        "for i, word in enumerate(word_tokenizer.vocab):\n",
        "    try: \n",
        "        weights_matrix[i] = glove[word]\n",
        "        words_found += 1\n",
        "    except KeyError:\n",
        "        weights_matrix[i] = np.random.normal(scale=0.6, size=(50, ))"
      ],
      "metadata": {
        "id": "5wFF9xunLAcX"
      },
      "execution_count": null,
      "outputs": []
    },
    {
      "cell_type": "code",
      "source": [
        "words_found / len(word_tokenizer.vocab)"
      ],
      "metadata": {
        "colab": {
          "base_uri": "https://localhost:8080/"
        },
        "id": "yCFflsybLAY_",
        "outputId": "c0f9c0c7-a9f2-428a-8454-dd1746997922"
      },
      "execution_count": null,
      "outputs": [
        {
          "output_type": "execute_result",
          "data": {
            "text/plain": [
              "0.9488029465930018"
            ]
          },
          "metadata": {},
          "execution_count": 22
        }
      ]
    },
    {
      "cell_type": "markdown",
      "source": [
        "#### Token occurrences"
      ],
      "metadata": {
        "id": "7Sw4kgGtLFN2"
      }
    },
    {
      "cell_type": "code",
      "source": [
        "def build_vocab(sentences, verbose =  True):\n",
        "    \"\"\"\n",
        "    Just to check the occurrences of words.\n",
        "    Keys are the words, values are the occurrences.\n",
        "    \"\"\"\n",
        "    vocab = {}\n",
        "    for sentence in tqdm(sentences, disable = (not verbose)):\n",
        "        for word in sentence:\n",
        "            try:\n",
        "                vocab[word] += 1\n",
        "            except KeyError:\n",
        "                vocab[word] = 1\n",
        "    return vocab"
      ],
      "metadata": {
        "id": "S_tEl8zpLSJN"
      },
      "execution_count": null,
      "outputs": []
    },
    {
      "cell_type": "code",
      "source": [
        "sentences = df[\"content_words\"]\n",
        "vocab = build_vocab(sentences)"
      ],
      "metadata": {
        "colab": {
          "base_uri": "https://localhost:8080/",
          "height": 49,
          "referenced_widgets": [
            "931ce2698fa6456688769957c138c210",
            "add3287b4c064769b66945666f12ba3b",
            "3c55dd184aa0421daeb892a28354d3dc",
            "3742c3b66b494e46a02d9f9185b01fa5",
            "92a497febbc54078bfcce063ce9364af",
            "9a07b1a7868f43e78cb1eb67a42c4200",
            "00df413fe68d4a548bb787359018189e",
            "c546e42c5b5146d69dadd54652b61c13",
            "6d55a7aae0494407b70aff5b74e755f4",
            "37b3c1df860f449095b380a6796d0adb",
            "b9c89f826d45412d9bcd664b0b634195"
          ]
        },
        "id": "gl24BcaxLSHB",
        "outputId": "896e7709-15e8-4a15-ad11-b6a4c9916aed"
      },
      "execution_count": null,
      "outputs": [
        {
          "output_type": "display_data",
          "data": {
            "text/plain": [
              "  0%|          | 0/44955 [00:00<?, ?it/s]"
            ],
            "application/vnd.jupyter.widget-view+json": {
              "version_major": 2,
              "version_minor": 0,
              "model_id": "931ce2698fa6456688769957c138c210"
            }
          },
          "metadata": {}
        }
      ]
    },
    {
      "cell_type": "code",
      "source": [
        "from collections import Counter\n",
        "c = Counter(vocab)\n",
        "c.most_common(25)"
      ],
      "metadata": {
        "id": "63HPzdArn5iY",
        "colab": {
          "base_uri": "https://localhost:8080/"
        },
        "outputId": "9dd74796-891f-4731-d6c2-34f660b4468d"
      },
      "execution_count": null,
      "outputs": [
        {
          "output_type": "execute_result",
          "data": {
            "text/plain": [
              "[('coronavirus', 42224),\n",
              " ('food', 8380),\n",
              " ('prices', 8336),\n",
              " ('store', 7796),\n",
              " ('supermarket', 7510),\n",
              " ('grocery', 7051),\n",
              " ('people', 6262),\n",
              " ('amp', 5531),\n",
              " ('nt', 5450),\n",
              " ('consumer', 4646),\n",
              " ('shopping', 4123),\n",
              " ('online', 3928),\n",
              " ('pandemic', 3301),\n",
              " ('get', 3199),\n",
              " ('need', 3075),\n",
              " ('panic', 2944),\n",
              " ('us', 2868),\n",
              " ('stock', 2760),\n",
              " ('like', 2696),\n",
              " ('workers', 2658),\n",
              " ('go', 2515),\n",
              " ('time', 2498),\n",
              " ('home', 2461),\n",
              " ('sanitizer', 2436),\n",
              " ('demand', 2435)]"
            ]
          },
          "metadata": {},
          "execution_count": 24
        }
      ]
    },
    {
      "cell_type": "markdown",
      "source": [
        "#### Visualize embeddings"
      ],
      "metadata": {
        "id": "p5GeVReLMZek"
      }
    },
    {
      "cell_type": "code",
      "source": [
        "common_tokens = c.most_common(25)\n",
        "\n",
        "common_embeddings = {}\n",
        "for token_tuple in common_tokens:\n",
        "    common_embeddings[token_tuple[0]] = glove[token_tuple[0]]"
      ],
      "metadata": {
        "id": "ishc6B0SDUKo"
      },
      "execution_count": null,
      "outputs": []
    },
    {
      "cell_type": "code",
      "source": [
        "embedding_df = pd.DataFrame.from_dict(common_embeddings, orient='index')"
      ],
      "metadata": {
        "id": "hf_H7noGD9Fw"
      },
      "execution_count": null,
      "outputs": []
    },
    {
      "cell_type": "code",
      "source": [
        "scaler = StandardScaler()\n",
        "scaled_features = scaler.fit_transform(embedding_df.values)\n",
        "\n",
        "scaled_df = pd.DataFrame(scaled_features, index=embedding_df.index, columns=embedding_df.columns)"
      ],
      "metadata": {
        "id": "s9YYAwZOFY0x"
      },
      "execution_count": null,
      "outputs": []
    },
    {
      "cell_type": "code",
      "source": [
        "X_corr=scaled_df.corr()\n",
        "\n",
        "eigenvalues, eigenvectors=np.linalg.eig(X_corr)\n",
        "\n",
        "args = (-eigenvalues).argsort()\n",
        "values = eigenvectors[args]\n",
        "vectors = eigenvectors[:, args]\n",
        "\n",
        "new_vectors=vectors[:,:2]\n",
        "\n",
        "#Projecting the embeddings onto new dimesions\n",
        "new_coords = np.dot(scaled_features,new_vectors)"
      ],
      "metadata": {
        "id": "UiyLWtj6GD-u"
      },
      "execution_count": null,
      "outputs": []
    },
    {
      "cell_type": "code",
      "source": [
        "occ_numbers = [np.sqrt(x[1]) for x in common_tokens]"
      ],
      "metadata": {
        "id": "afOygdvi1OOp"
      },
      "execution_count": null,
      "outputs": []
    },
    {
      "cell_type": "code",
      "source": [
        "np.log(42224)"
      ],
      "metadata": {
        "colab": {
          "base_uri": "https://localhost:8080/"
        },
        "id": "qzLNu6wP2HXq",
        "outputId": "e70612e7-0230-47a6-9e7d-38b2dd116093"
      },
      "execution_count": null,
      "outputs": [
        {
          "output_type": "execute_result",
          "data": {
            "text/plain": [
              "10.650744058743106"
            ]
          },
          "metadata": {},
          "execution_count": 51
        }
      ]
    },
    {
      "cell_type": "code",
      "source": [
        "np.sqrt(42224)"
      ],
      "metadata": {
        "colab": {
          "base_uri": "https://localhost:8080/"
        },
        "id": "8cofovKs4dKA",
        "outputId": "037a7b50-dac9-407e-ef2a-e0847ed10412"
      },
      "execution_count": null,
      "outputs": [
        {
          "output_type": "execute_result",
          "data": {
            "text/plain": [
              "205.48479262466117"
            ]
          },
          "metadata": {},
          "execution_count": 52
        }
      ]
    },
    {
      "cell_type": "code",
      "source": [
        "def plot_embeddings(adjust=False, *args, **kwargs):\n",
        "    plt.rcParams.update(plt.rcParamsDefault)\n",
        "    #plt.figure(figsize=(16, 12))\n",
        "    plt.scatter(new_coords[:,0], new_coords[:,1], s=occ_numbers, c='royalblue', edgecolors=(1,1,1,0))\n",
        "    texts = []\n",
        "    for x, y, s in zip(new_coords[:,0], new_coords[:,1], list(scaled_df.index)):\n",
        "        texts.append(plt.text(x, y, s, size=8))\n",
        "    if adjust:\n",
        "        adjust_text(texts, precision=0.01, arrowprops=dict(arrowstyle=\"-\", color='k', lw=0),\n",
        "                                                save_steps=True, save_prefix='/content', **kwargs)\n",
        "        plt.xlabel('PC1', fontsize=8)\n",
        "        plt.ylabel('PC2', fontsize=8)\n",
        "        plt.yticks(fontsize=8)\n",
        "        plt.xticks(fontsize=8)\n",
        "        plt.title('2D projections of Glove word embeddings')\n",
        "        plt.savefig('embedding_viz_glove_2.png')\n",
        "_ = plot_embeddings(adjust=True)"
      ],
      "metadata": {
        "colab": {
          "base_uri": "https://localhost:8080/",
          "height": 776
        },
        "id": "n-4kXRq3b3Ja",
        "outputId": "c757a488-f6ac-4eaf-ac9d-cd318710d64a"
      },
      "execution_count": null,
      "outputs": [
        {
          "output_type": "stream",
          "name": "stderr",
          "text": [
            "/usr/local/lib/python3.7/dist-packages/matplotlib/collections.py:153: ComplexWarning: Casting complex values to real discards the imaginary part\n",
            "  offsets = np.asanyarray(offsets, float)\n",
            "/usr/local/lib/python3.7/dist-packages/matplotlib/text.py:828: ComplexWarning: Casting complex values to real discards the imaginary part\n",
            "  x = float(self.convert_xunits(self._x))\n",
            "/usr/local/lib/python3.7/dist-packages/matplotlib/text.py:829: ComplexWarning: Casting complex values to real discards the imaginary part\n",
            "  y = float(self.convert_yunits(self._y))\n",
            "/usr/local/lib/python3.7/dist-packages/matplotlib/text.py:690: ComplexWarning: Casting complex values to real discards the imaginary part\n",
            "  posx = float(textobj.convert_xunits(textobj._x))\n",
            "/usr/local/lib/python3.7/dist-packages/matplotlib/text.py:691: ComplexWarning: Casting complex values to real discards the imaginary part\n",
            "  posy = float(textobj.convert_yunits(textobj._y))\n",
            "/usr/local/lib/python3.7/dist-packages/adjustText/__init__.py:282: ComplexWarning: Casting complex values to real discards the imaginary part\n",
            "  move_x[i, j] = dx\n",
            "/usr/local/lib/python3.7/dist-packages/adjustText/__init__.py:283: ComplexWarning: Casting complex values to real discards the imaginary part\n",
            "  move_y[i, j] = dy\n",
            "/usr/local/lib/python3.7/dist-packages/matplotlib/text.py:1769: ComplexWarning: Casting complex values to real discards the imaginary part\n",
            "  x = float(self.convert_xunits(x))\n",
            "/usr/local/lib/python3.7/dist-packages/matplotlib/text.py:1771: ComplexWarning: Casting complex values to real discards the imaginary part\n",
            "  y = float(self.convert_yunits(y))\n"
          ]
        },
        {
          "output_type": "display_data",
          "data": {
            "text/plain": [
              "<Figure size 640x480 with 1 Axes>"
            ],
            "image/png": "[encoded data removed]"
          },
          "metadata": {}
        }
      ]
    },
    {
      "cell_type": "markdown",
      "source": [
        "### Glove 6B 100D"
      ],
      "metadata": {
        "id": "K1PeBuYf7fYY"
      }
    },
    {
      "cell_type": "code",
      "source": [
        "words = []\n",
        "idx = 0\n",
        "word2idx = {}\n",
        "vectors = bcolz.carray(np.zeros(1), rootdir=f'/content/drive/MyDrive/Deep Learning/Covid sentiment/6B.100.dat', mode='w')\n",
        "\n",
        "with open(f'/content/drive/MyDrive/Deep Learning/Covid sentiment/glove.6B.100d.txt', 'rb') as f:\n",
        "    for l in f:\n",
        "        line = l.decode().split()\n",
        "        word = line[0]\n",
        "        words.append(word)\n",
        "        word2idx[word] = idx\n",
        "        idx += 1\n",
        "        vect = np.array(line[1:]).astype(np.float)\n",
        "        vectors.append(vect)\n",
        "    \n",
        "vectors = bcolz.carray(vectors[1:].reshape((400001, 100)), rootdir=f'/content/drive/MyDrive/Deep Learning/Covid sentiment/6B.100.dat', mode='w')\n",
        "vectors.flush()\n",
        "pickle.dump(words, open(f'/content/drive/MyDrive/Deep Learning/Covid sentiment/6B.100_words.pkl', 'wb'))\n",
        "pickle.dump(word2idx, open(f'/content/drive/MyDrive/Deep Learning/Covid sentiment/6B.100_idx.pkl', 'wb'))"
      ],
      "metadata": {
        "colab": {
          "base_uri": "https://localhost:8080/"
        },
        "id": "dcmYk-M27jWw",
        "outputId": "b8f0606d-b83f-47c4-bf53-859a096a6b8c"
      },
      "execution_count": null,
      "outputs": [
        {
          "output_type": "stream",
          "name": "stderr",
          "text": [
            "/usr/local/lib/python3.7/dist-packages/ipykernel_launcher.py:13: DeprecationWarning: `np.float` is a deprecated alias for the builtin `float`. To silence this warning, use `float` by itself. Doing this will not modify any behavior and is safe. If you specifically wanted the numpy scalar type, use `np.float64` here.\n",
            "Deprecated in NumPy 1.20; for more details and guidance: https://numpy.org/devdocs/release/1.20.0-notes.html#deprecations\n",
            "  del sys.path[0]\n"
          ]
        }
      ]
    },
    {
      "cell_type": "code",
      "source": [
        "vectors = bcolz.open(f'/content/drive/MyDrive/Deep Learning/Covid sentiment/6B.100.dat')[:]\n",
        "words = pickle.load(open(f'/content/drive/MyDrive/Deep Learning/Covid sentiment/6B.100_words.pkl', 'rb'))\n",
        "word2idx = pickle.load(open(f'/content/drive/MyDrive/Deep Learning/Covid sentiment/6B.100_idx.pkl', 'rb'))\n",
        "\n",
        "glove = {w: vectors[word2idx[w]] for w in words}"
      ],
      "metadata": {
        "id": "8JWGEpdO8v-s"
      },
      "execution_count": null,
      "outputs": []
    },
    {
      "cell_type": "code",
      "source": [
        "matrix_len = len(word_tokenizer.vocab)\n",
        "weights_matrix = np.zeros((matrix_len, 100))\n",
        "words_found = 0\n",
        "\n",
        "for i, word in enumerate(word_tokenizer.vocab):\n",
        "    try: \n",
        "        weights_matrix[i] = glove[word]\n",
        "        words_found += 1\n",
        "    except KeyError:\n",
        "        weights_matrix[i] = np.random.normal(scale=0.6, size=(100, ))"
      ],
      "metadata": {
        "id": "NwBY95NU7jQn"
      },
      "execution_count": null,
      "outputs": []
    },
    {
      "cell_type": "code",
      "source": [
        "words_found / len(word_tokenizer.vocab)"
      ],
      "metadata": {
        "colab": {
          "base_uri": "https://localhost:8080/"
        },
        "id": "F6Jvq1JF7jKv",
        "outputId": "46ae8f85-de83-40c9-f742-a8906bd4bc65"
      },
      "execution_count": null,
      "outputs": [
        {
          "output_type": "execute_result",
          "data": {
            "text/plain": [
              "0.9488029465930018"
            ]
          },
          "metadata": {},
          "execution_count": 49
        }
      ]
    },
    {
      "cell_type": "markdown",
      "source": [
        "## Train-val-test split"
      ],
      "metadata": {
        "id": "cGW-x3BTaF9K"
      }
    },
    {
      "cell_type": "code",
      "source": [
        "train_len = len(train_df)\n",
        "\n",
        "train_df = df[:train_len]\n",
        "test_df = df[train_len:]\n",
        "\n",
        "train_df = train_df[train_df['len']>4]\n",
        "test_df = test_df[test_df['len']>3]\n",
        "\n",
        "train_df, dev_df = train_test_split(train_df, test_size=0.1)\n",
        "# dev_df is the validation df "
      ],
      "metadata": {
        "id": "y3H2pb7afAMN"
      },
      "execution_count": null,
      "outputs": []
    },
    {
      "cell_type": "code",
      "source": [
        "print(len(test_df)/len(train_df))\n",
        "print(len(dev_df)/len(train_df))\n",
        "print((len(test_df)+len(dev_df))/len(train_df))"
      ],
      "metadata": {
        "id": "QjfzacPfRHHY",
        "colab": {
          "base_uri": "https://localhost:8080/"
        },
        "outputId": "7a70bcca-570d-4752-e30d-d89d7c40642a"
      },
      "execution_count": null,
      "outputs": [
        {
          "output_type": "stream",
          "name": "stdout",
          "text": [
            "0.10365535964022267\n",
            "0.11111415800586832\n",
            "0.21476951764609098\n"
          ]
        }
      ]
    },
    {
      "cell_type": "markdown",
      "source": [
        "## Padding"
      ],
      "metadata": {
        "id": "uaG_tRtcLcwo"
      }
    },
    {
      "cell_type": "code",
      "source": [
        "maxlen = train_df.word_encoded.apply(len).max()\n",
        "print(maxlen)\n",
        "\n",
        "def pad_sequence(sequence):\n",
        "    if len(sequence) > maxlen:\n",
        "        return sequence[:maxlen]\n",
        "    return sequence + [word_tokenizer.vocab['[PAD]'] for _ in range(maxlen-len(sequence))]"
      ],
      "metadata": {
        "colab": {
          "base_uri": "https://localhost:8080/"
        },
        "id": "17t2ZjYxL5_Z",
        "outputId": "3f23b6f9-06a8-4e4b-9375-0a4b9b97ea70"
      },
      "execution_count": null,
      "outputs": [
        {
          "output_type": "stream",
          "name": "stdout",
          "text": [
            "44\n"
          ]
        }
      ]
    },
    {
      "cell_type": "code",
      "source": [
        "train_df['padded'] = train_df.word_encoded.apply(pad_sequence)\n",
        "dev_df['padded'] = dev_df.word_encoded.apply(pad_sequence)\n",
        "\n",
        "train_df['padded'].apply(len).value_counts()"
      ],
      "metadata": {
        "colab": {
          "base_uri": "https://localhost:8080/"
        },
        "id": "8d6OuYshL58g",
        "outputId": "c31f3841-b205-414c-cdd7-2378d4a5db6d"
      },
      "execution_count": null,
      "outputs": [
        {
          "output_type": "execute_result",
          "data": {
            "text/plain": [
              "44    36467\n",
              "Name: padded, dtype: int64"
            ]
          },
          "metadata": {},
          "execution_count": 27
        }
      ]
    },
    {
      "cell_type": "code",
      "source": [
        "test_df['padded'] = test_df.word_encoded.apply(pad_sequence)"
      ],
      "metadata": {
        "id": "DUo8Mx1bq1zc"
      },
      "execution_count": null,
      "outputs": []
    },
    {
      "cell_type": "markdown",
      "source": [
        "## Input and output tensors"
      ],
      "metadata": {
        "id": "pb09yeB4MO_O"
      }
    },
    {
      "cell_type": "code",
      "source": [
        "X_train = torch.from_numpy(np.array(list(train_df.padded))).to(device)\n",
        "y_train = torch.LongTensor(train_df.Sentiment.values).to(device)\n",
        "seqlen_train = torch.LongTensor(train_df.word_length.values)\n",
        "print(f\"X train size: {X_train.size()},\\ny train size: {y_train.size()}\\nseq_len train size: {seqlen_train.size()}\\n\")\n",
        "\n",
        "X_dev = torch.from_numpy(np.array(list(dev_df.padded))).to(device)\n",
        "y_dev = torch.LongTensor(dev_df.Sentiment.values).to(device)\n",
        "seqlen_dev = torch.LongTensor(dev_df.word_length.values)\n",
        "print(f\"X dev size: {X_dev.size()},\\ny dev size: {y_dev.size()}\\nseq_len dev size: {seqlen_dev.size()}\\n\")\n",
        "\n",
        "X_test = torch.from_numpy(np.array(list(test_df.padded))).to(device)\n",
        "y_test = torch.LongTensor(test_df.Sentiment.values).to(device)\n",
        "seqlen_test = torch.LongTensor(test_df.word_length.values)\n",
        "print(f\"X test size: {X_test.size()},\\ny test size: {y_test.size()}\\nseq_len test size: {seqlen_test.size()}\\n\")"
      ],
      "metadata": {
        "colab": {
          "base_uri": "https://localhost:8080/"
        },
        "id": "b922FqfTMO8T",
        "outputId": "6d73e4c1-9b02-457f-a042-85c25a17c208"
      },
      "execution_count": null,
      "outputs": [
        {
          "output_type": "stream",
          "name": "stdout",
          "text": [
            "X train size: torch.Size([36467, 44]),\n",
            "y train size: torch.Size([36467])\n",
            "seq_len train size: torch.Size([36467])\n",
            "\n",
            "X dev size: torch.Size([4052, 44]),\n",
            "y dev size: torch.Size([4052])\n",
            "seq_len dev size: torch.Size([4052])\n",
            "\n",
            "X test size: torch.Size([3780, 44]),\n",
            "y test size: torch.Size([3780])\n",
            "seq_len test size: torch.Size([3780])\n",
            "\n"
          ]
        }
      ]
    },
    {
      "cell_type": "markdown",
      "source": [
        "## Model"
      ],
      "metadata": {
        "id": "_SZWgCiQNJe5"
      }
    },
    {
      "cell_type": "code",
      "source": [
        "def create_emb_layer(weights_matrix, non_trainable=False):\n",
        "    num_embeddings, embedding_dim = weights_matrix.size()\n",
        "    emb_layer = nn.Embedding(num_embeddings, embedding_dim)\n",
        "    emb_layer.load_state_dict({'weight': weights_matrix})\n",
        "    if non_trainable:\n",
        "        emb_layer.weight.requires_grad = False\n",
        "\n",
        "    return emb_layer, num_embeddings, embedding_dim"
      ],
      "metadata": {
        "id": "PklueP8GNAKI"
      },
      "execution_count": null,
      "outputs": []
    },
    {
      "cell_type": "code",
      "source": [
        "weights_matrix_torch = torch.FloatTensor(weights_matrix)"
      ],
      "metadata": {
        "id": "8xsZuEZ0NAGx"
      },
      "execution_count": null,
      "outputs": []
    },
    {
      "cell_type": "code",
      "source": [
        "class LSTMClassifier(nn.Module):\n",
        "    def __init__(self, input_size, embedding_size, hidden_size, output_size, dropout, weights_matrix):\n",
        "        super().__init__()\n",
        "        self.embedding = nn.Embedding.from_pretrained(weights_matrix, freeze=False)\n",
        "        self.lstm = nn.LSTM(\n",
        "            input_size=embedding_size,\n",
        "            hidden_size=hidden_size,\n",
        "            num_layers=1,\n",
        "            bidirectional=True,\n",
        "            batch_first=True,\n",
        "            dropout = dropout\n",
        "        )\n",
        "        self.dense = nn.Linear(hidden_size * 2, output_size) # bidirectional lstm\n",
        "        self.dropout = nn.Dropout(dropout)\n",
        "        \n",
        "    # forward pass\n",
        "    def forward(self, sequences, sequence_lens):\n",
        "        embedded = self.dropout(self.embedding(sequences))\n",
        "        packed = nn.utils.rnn.pack_padded_sequence(\n",
        "            embedded,\n",
        "            sequence_lens.cpu().numpy(), # i use gpu for training, so i have to implicitly put this to cpu as expected\n",
        "            enforce_sorted=False,\n",
        "            batch_first=True)\n",
        "        packed_outputs, (h, c) = self.lstm(packed)\n",
        "        # extract LSTM outputs (not used here)\n",
        "        lstm_outputs, lens = nn.utils.rnn.pad_packed_sequence(packed_outputs)\n",
        "        \n",
        "        h = self.dropout(torch.cat((h[0], h[1]), dim=-1))\n",
        "        output = self.dense(h)\n",
        "        return output"
      ],
      "metadata": {
        "id": "L3nTBgwdNADw"
      },
      "execution_count": null,
      "outputs": []
    },
    {
      "cell_type": "markdown",
      "source": [
        "## Batch iterator"
      ],
      "metadata": {
        "id": "9O-gwLgmNFFg"
      }
    },
    {
      "cell_type": "code",
      "source": [
        "class BatchedIterator:\n",
        "    def __init__(self, *tensors, batch_size):\n",
        "        # all tensors must have the same first dimension\n",
        "        assert len(set(len(tensor) for tensor in tensors)) == 1\n",
        "        self.tensors = tensors\n",
        "        self.batch_size = batch_size\n",
        "    \n",
        "    def iterate_once(self):\n",
        "        num_data = len(self.tensors[0])\n",
        "        for start in range(0, num_data, self.batch_size):\n",
        "            end = start + self.batch_size\n",
        "            yield tuple(torch.tensor(tensor[start:end]).to(device) for tensor in self.tensors)\n",
        "            # put the obtained tensors to gpu\n",
        "            \n",
        "# sanity check:            \n",
        "print(\"Two tensors:\")\n",
        "for batch in BatchedIterator([1, 2, 3], [2, 1, 2], batch_size=2).iterate_once():\n",
        "    print(batch)\n",
        "    \n",
        "print(\"\\nOne tensor:\")\n",
        "for batch in BatchedIterator([2, 1, 2], batch_size=2).iterate_once():\n",
        "    print(batch)"
      ],
      "metadata": {
        "colab": {
          "base_uri": "https://localhost:8080/"
        },
        "id": "T9AYgYONNFDN",
        "outputId": "12d9e8f7-9fb5-425b-bed3-1516c9923fce"
      },
      "execution_count": null,
      "outputs": [
        {
          "output_type": "stream",
          "name": "stdout",
          "text": [
            "Two tensors:\n",
            "(tensor([1, 2], device='cuda:0'), tensor([2, 1], device='cuda:0'))\n",
            "(tensor([3], device='cuda:0'), tensor([2], device='cuda:0'))\n",
            "\n",
            "One tensor:\n",
            "(tensor([2, 1], device='cuda:0'),)\n",
            "(tensor([2], device='cuda:0'),)\n"
          ]
        }
      ]
    },
    {
      "cell_type": "markdown",
      "source": [
        "## Training"
      ],
      "metadata": {
        "id": "Ey63hZ5VMX9J"
      }
    },
    {
      "cell_type": "code",
      "source": [
        "# hyperparams\n",
        "input_size = weights_matrix_torch.size(0)\n",
        "embedding_size = weights_matrix_torch.size(1)\n",
        "hidden_size = 30\n",
        "output_size = train_df.Sentiment.nunique()\n",
        "dropout = 0.3\n",
        "\n",
        "model = LSTMClassifier(input_size, embedding_size, hidden_size, output_size, dropout, weights_matrix_torch)\n",
        "model = model.to(device)\n",
        "\n",
        "LEARNING_RATE = 0.0003\n",
        "WEIGHT_DECAY = 0.0002\n",
        "\n",
        "criterion = nn.CrossEntropyLoss()\n",
        "optimizer = torch.optim.Adam(model.parameters(), lr=LEARNING_RATE, weight_decay=WEIGHT_DECAY)\n",
        "#scheduler = torch.optim.lr_scheduler.ReduceLROnPlateau(optimizer, factor=0.05, patience=2, verbose = True)\n",
        "\n",
        "# optimizer = torch.optim.SGD(model.parameters(), lr=0.0001)\n",
        "#lmbda = lambda epoch: 0.9\n",
        "#scheduler = torch.optim.lr_scheduler.MultiplicativeLR(optimizer, lr_lambda=lmbda, last_epoch=-1)"
      ],
      "metadata": {
        "colab": {
          "base_uri": "https://localhost:8080/"
        },
        "id": "f3S2RIUTNRqq",
        "outputId": "3c83cec3-2c79-4a75-a10a-26087c88a27a"
      },
      "execution_count": null,
      "outputs": [
        {
          "output_type": "stream",
          "name": "stderr",
          "text": [
            "/usr/local/lib/python3.7/dist-packages/torch/nn/modules/rnn.py:65: UserWarning: dropout option adds dropout after all but last recurrent layer, so non-zero dropout expects num_layers greater than 1, but got dropout=0.3 and num_layers=1\n",
            "  \"num_layers={}\".format(dropout, num_layers))\n"
          ]
        }
      ]
    },
    {
      "cell_type": "code",
      "source": [
        "num_epochs = 13\n",
        "batch_size = 64\n",
        "\n",
        "metrics = defaultdict(list)\n",
        "train_iter = BatchedIterator(X_train, seqlen_train, y_train, batch_size=batch_size)"
      ],
      "metadata": {
        "id": "np8vmIdALct9"
      },
      "execution_count": null,
      "outputs": []
    },
    {
      "cell_type": "code",
      "source": [
        "def save_checkpoint(state, filename=\"my_checkpoint.pth.tar\"):\n",
        "    print(\"=> Saving checkpoint\")\n",
        "    torch.save(state, filename)\n",
        "\n",
        "def load_checkpoint(checkpoint):\n",
        "    print(\"=> Loading checkpoint\")\n",
        "    model.load_state_dict(checkpoint['state_dict'])\n",
        "    optimizer.load_state_dict(checkpoint['optimizer'])"
      ],
      "metadata": {
        "id": "LvIzahlEg4Xc"
      },
      "execution_count": null,
      "outputs": []
    },
    {
      "cell_type": "code",
      "source": [
        "for epoch in range(num_epochs):\n",
        "    if epoch == 12:\n",
        "        checkpoint = {'state_dict': model.state_dict(), 'optimizer': optimizer.state_dict()}\n",
        "        save_checkpoint(checkpoint)\n",
        "\n",
        "    model.train()\n",
        "    # Training loop\n",
        "    for X_batch, seqlen_batch, y_batch in train_iter.iterate_once():\n",
        "        y_out = model(X_batch, seqlen_batch)\n",
        "        loss = criterion(y_out, y_batch)\n",
        "        optimizer.zero_grad()\n",
        "        loss.backward()\n",
        "        optimizer.step()\n",
        "        \n",
        "    with torch.no_grad():\n",
        "        model.eval()  # or model.train(False)\n",
        "        # Train and dev loss at the end of the epoch\n",
        "        y_out = model(X_train, seqlen_train)\n",
        "        train_loss = criterion(y_out, y_train).item()\n",
        "        metrics['train_loss'].append(train_loss)\n",
        "        labels = y_out.argmax(axis=1)\n",
        "        train_bal_acc = balanced_accuracy_score(y_train.cpu().detach().numpy(), labels.cpu().detach().numpy())\n",
        "        metrics['train_bal_acc'].append(train_bal_acc)\n",
        "\n",
        "        y_out = model(X_dev, seqlen_dev)\n",
        "        dev_loss = criterion(y_out, y_dev).item()\n",
        "        metrics['dev_loss'].append(dev_loss)\n",
        "        labels = y_out.argmax(axis=1)\n",
        "        dev_bal_acc = balanced_accuracy_score(y_dev.cpu().detach().numpy(), labels.cpu().detach().numpy())\n",
        "        metrics['dev_bal_acc'].append(dev_bal_acc)\n",
        "\n",
        "    print(f\"epoch={epoch} -- train loss={train_loss:.3f} - train acc={train_bal_acc:.1%} - dev loss={dev_loss:.3f} - dev acc={dev_bal_acc:.1%}\")"
      ],
      "metadata": {
        "id": "2I1JAf9nQTvG",
        "colab": {
          "base_uri": "https://localhost:8080/"
        },
        "outputId": "afa5e203-f116-42ee-ed46-2a1c9dfd21af"
      },
      "execution_count": null,
      "outputs": [
        {
          "output_type": "stream",
          "name": "stderr",
          "text": [
            "/usr/local/lib/python3.7/dist-packages/ipykernel_launcher.py:12: UserWarning: To copy construct from a tensor, it is recommended to use sourceTensor.clone().detach() or sourceTensor.clone().detach().requires_grad_(True), rather than torch.tensor(sourceTensor).\n",
            "  if sys.path[0] == '':\n"
          ]
        },
        {
          "output_type": "stream",
          "name": "stdout",
          "text": [
            "epoch=0 -- train loss=0.871 - train acc=52.2% - dev loss=0.874 - dev acc=51.5%\n"
          ]
        },
        {
          "output_type": "stream",
          "name": "stderr",
          "text": [
            "/usr/local/lib/python3.7/dist-packages/ipykernel_launcher.py:12: UserWarning: To copy construct from a tensor, it is recommended to use sourceTensor.clone().detach() or sourceTensor.clone().detach().requires_grad_(True), rather than torch.tensor(sourceTensor).\n",
            "  if sys.path[0] == '':\n"
          ]
        },
        {
          "output_type": "stream",
          "name": "stdout",
          "text": [
            "epoch=1 -- train loss=0.754 - train acc=63.0% - dev loss=0.775 - dev acc=61.1%\n"
          ]
        },
        {
          "output_type": "stream",
          "name": "stderr",
          "text": [
            "/usr/local/lib/python3.7/dist-packages/ipykernel_launcher.py:12: UserWarning: To copy construct from a tensor, it is recommended to use sourceTensor.clone().detach() or sourceTensor.clone().detach().requires_grad_(True), rather than torch.tensor(sourceTensor).\n",
            "  if sys.path[0] == '':\n"
          ]
        },
        {
          "output_type": "stream",
          "name": "stdout",
          "text": [
            "epoch=2 -- train loss=0.675 - train acc=67.9% - dev loss=0.706 - dev acc=65.8%\n"
          ]
        },
        {
          "output_type": "stream",
          "name": "stderr",
          "text": [
            "/usr/local/lib/python3.7/dist-packages/ipykernel_launcher.py:12: UserWarning: To copy construct from a tensor, it is recommended to use sourceTensor.clone().detach() or sourceTensor.clone().detach().requires_grad_(True), rather than torch.tensor(sourceTensor).\n",
            "  if sys.path[0] == '':\n"
          ]
        },
        {
          "output_type": "stream",
          "name": "stdout",
          "text": [
            "epoch=3 -- train loss=0.609 - train acc=72.5% - dev loss=0.654 - dev acc=69.9%\n"
          ]
        },
        {
          "output_type": "stream",
          "name": "stderr",
          "text": [
            "/usr/local/lib/python3.7/dist-packages/ipykernel_launcher.py:12: UserWarning: To copy construct from a tensor, it is recommended to use sourceTensor.clone().detach() or sourceTensor.clone().detach().requires_grad_(True), rather than torch.tensor(sourceTensor).\n",
            "  if sys.path[0] == '':\n"
          ]
        },
        {
          "output_type": "stream",
          "name": "stdout",
          "text": [
            "epoch=4 -- train loss=0.556 - train acc=76.1% - dev loss=0.611 - dev acc=72.9%\n"
          ]
        },
        {
          "output_type": "stream",
          "name": "stderr",
          "text": [
            "/usr/local/lib/python3.7/dist-packages/ipykernel_launcher.py:12: UserWarning: To copy construct from a tensor, it is recommended to use sourceTensor.clone().detach() or sourceTensor.clone().detach().requires_grad_(True), rather than torch.tensor(sourceTensor).\n",
            "  if sys.path[0] == '':\n"
          ]
        },
        {
          "output_type": "stream",
          "name": "stdout",
          "text": [
            "epoch=5 -- train loss=0.513 - train acc=79.3% - dev loss=0.579 - dev acc=75.5%\n"
          ]
        },
        {
          "output_type": "stream",
          "name": "stderr",
          "text": [
            "/usr/local/lib/python3.7/dist-packages/ipykernel_launcher.py:12: UserWarning: To copy construct from a tensor, it is recommended to use sourceTensor.clone().detach() or sourceTensor.clone().detach().requires_grad_(True), rather than torch.tensor(sourceTensor).\n",
            "  if sys.path[0] == '':\n"
          ]
        },
        {
          "output_type": "stream",
          "name": "stdout",
          "text": [
            "epoch=6 -- train loss=0.479 - train acc=81.8% - dev loss=0.552 - dev acc=77.6%\n"
          ]
        },
        {
          "output_type": "stream",
          "name": "stderr",
          "text": [
            "/usr/local/lib/python3.7/dist-packages/ipykernel_launcher.py:12: UserWarning: To copy construct from a tensor, it is recommended to use sourceTensor.clone().detach() or sourceTensor.clone().detach().requires_grad_(True), rather than torch.tensor(sourceTensor).\n",
            "  if sys.path[0] == '':\n"
          ]
        },
        {
          "output_type": "stream",
          "name": "stdout",
          "text": [
            "epoch=7 -- train loss=0.450 - train acc=83.6% - dev loss=0.531 - dev acc=78.9%\n"
          ]
        },
        {
          "output_type": "stream",
          "name": "stderr",
          "text": [
            "/usr/local/lib/python3.7/dist-packages/ipykernel_launcher.py:12: UserWarning: To copy construct from a tensor, it is recommended to use sourceTensor.clone().detach() or sourceTensor.clone().detach().requires_grad_(True), rather than torch.tensor(sourceTensor).\n",
            "  if sys.path[0] == '':\n"
          ]
        },
        {
          "output_type": "stream",
          "name": "stdout",
          "text": [
            "epoch=8 -- train loss=0.427 - train acc=84.8% - dev loss=0.511 - dev acc=80.4%\n"
          ]
        },
        {
          "output_type": "stream",
          "name": "stderr",
          "text": [
            "/usr/local/lib/python3.7/dist-packages/ipykernel_launcher.py:12: UserWarning: To copy construct from a tensor, it is recommended to use sourceTensor.clone().detach() or sourceTensor.clone().detach().requires_grad_(True), rather than torch.tensor(sourceTensor).\n",
            "  if sys.path[0] == '':\n"
          ]
        },
        {
          "output_type": "stream",
          "name": "stdout",
          "text": [
            "epoch=9 -- train loss=0.410 - train acc=85.6% - dev loss=0.500 - dev acc=81.1%\n"
          ]
        },
        {
          "output_type": "stream",
          "name": "stderr",
          "text": [
            "/usr/local/lib/python3.7/dist-packages/ipykernel_launcher.py:12: UserWarning: To copy construct from a tensor, it is recommended to use sourceTensor.clone().detach() or sourceTensor.clone().detach().requires_grad_(True), rather than torch.tensor(sourceTensor).\n",
            "  if sys.path[0] == '':\n"
          ]
        },
        {
          "output_type": "stream",
          "name": "stdout",
          "text": [
            "epoch=10 -- train loss=0.393 - train acc=86.3% - dev loss=0.489 - dev acc=81.8%\n"
          ]
        },
        {
          "output_type": "stream",
          "name": "stderr",
          "text": [
            "/usr/local/lib/python3.7/dist-packages/ipykernel_launcher.py:12: UserWarning: To copy construct from a tensor, it is recommended to use sourceTensor.clone().detach() or sourceTensor.clone().detach().requires_grad_(True), rather than torch.tensor(sourceTensor).\n",
            "  if sys.path[0] == '':\n"
          ]
        },
        {
          "output_type": "stream",
          "name": "stdout",
          "text": [
            "epoch=11 -- train loss=0.384 - train acc=86.7% - dev loss=0.485 - dev acc=82.4%\n",
            "=> Saving checkpoint\n"
          ]
        },
        {
          "output_type": "stream",
          "name": "stderr",
          "text": [
            "/usr/local/lib/python3.7/dist-packages/ipykernel_launcher.py:12: UserWarning: To copy construct from a tensor, it is recommended to use sourceTensor.clone().detach() or sourceTensor.clone().detach().requires_grad_(True), rather than torch.tensor(sourceTensor).\n",
            "  if sys.path[0] == '':\n"
          ]
        },
        {
          "output_type": "stream",
          "name": "stdout",
          "text": [
            "epoch=12 -- train loss=0.374 - train acc=87.2% - dev loss=0.481 - dev acc=82.6%\n"
          ]
        }
      ]
    },
    {
      "cell_type": "markdown",
      "source": [
        "## Evaluation"
      ],
      "metadata": {
        "id": "s7Y03_kJ467V"
      }
    },
    {
      "cell_type": "markdown",
      "source": [
        "### Learning curves"
      ],
      "metadata": {
        "id": "QA27ST17FIDX"
      }
    },
    {
      "cell_type": "code",
      "source": [
        "fig, ax = plt.subplots(1, 2, figsize=(16, 4))\n",
        "\n",
        "sns.lineplot(data=metrics['train_loss'], ax=ax[0], label='Train')\n",
        "sns.lineplot(data=metrics['dev_loss'], ax=ax[0], label='Validation')\n",
        "\n",
        "sns.lineplot(data=metrics['train_bal_acc'], ax=ax[1], label='Train')\n",
        "sns.lineplot(data=metrics['dev_bal_acc'], ax=ax[1], label='Validation')\n",
        "\n",
        "for axes in ax:\n",
        "    axes.axvline(x=11, color='grey', linestyle=':')\n",
        "\n",
        "plt.setp(ax[0], xlabel='Epochs', ylabel='Loss')\n",
        "plt.setp(ax[1], xlabel='Epochs', ylabel='Balanced Accuracy')\n",
        "plt.show()"
      ],
      "metadata": {
        "colab": {
          "base_uri": "https://localhost:8080/",
          "height": 279
        },
        "id": "YJuJJGCuszaa",
        "outputId": "ae87129e-f2be-423d-cb1c-67807f518154"
      },
      "execution_count": null,
      "outputs": [
        {
          "output_type": "display_data",
          "data": {
            "text/plain": [
              "<Figure size 1152x288 with 2 Axes>"
            ],
            "image/png": "[encoded data removed]"
          },
          "metadata": {
            "needs_background": "light"
          }
        }
      ]
    },
    {
      "cell_type": "markdown",
      "source": [
        "### Classification reports"
      ],
      "metadata": {
        "id": "tmJhvYXeFvWx"
      }
    },
    {
      "cell_type": "code",
      "source": [
        "def evaluation(y_pred, y_true):\n",
        "    return ConfusionMatrixDisplay.from_predictions(y_pred=y_pred, y_true=y_true, cmap='Blues', display_labels=['Negative', 'Neutral', 'Positive']), print(classification_report(y_pred=y_pred, y_true=y_true))"
      ],
      "metadata": {
        "id": "bWtWdd8GGOIy"
      },
      "execution_count": null,
      "outputs": []
    },
    {
      "cell_type": "markdown",
      "source": [
        "#### Train"
      ],
      "metadata": {
        "id": "AEhZlPxAF0BI"
      }
    },
    {
      "cell_type": "code",
      "source": [
        "load_checkpoint(torch.load('/content/my_checkpoint.pth.tar'))"
      ],
      "metadata": {
        "colab": {
          "base_uri": "https://localhost:8080/"
        },
        "id": "6Lgo_WIzD3i6",
        "outputId": "63d0202f-530b-4aec-dd28-dd641be58349"
      },
      "execution_count": null,
      "outputs": [
        {
          "output_type": "stream",
          "name": "stdout",
          "text": [
            "=> Loading checkpoint\n"
          ]
        }
      ]
    },
    {
      "cell_type": "code",
      "source": [
        "with torch.no_grad():\n",
        "    model.eval()\n",
        "    y_out = model(X_train, seqlen_train)\n",
        "    labels = y_out.argmax(axis=1)"
      ],
      "metadata": {
        "id": "pipYXFPoEYIB"
      },
      "execution_count": null,
      "outputs": []
    },
    {
      "cell_type": "code",
      "source": [
        "plt.rcParams.update(plt.rcParamsDefault)\n",
        "evaluation(labels.cpu().detach().numpy(), y_train.cpu().detach().numpy())"
      ],
      "metadata": {
        "colab": {
          "base_uri": "https://localhost:8080/",
          "height": 658
        },
        "id": "Dptr87M8FCoY",
        "outputId": "b40823cc-4396-4c2b-de34-aa212b4fed79"
      },
      "execution_count": null,
      "outputs": [
        {
          "output_type": "stream",
          "name": "stdout",
          "text": [
            "              precision    recall  f1-score   support\n",
            "\n",
            "           0       0.87      0.88      0.87     13766\n",
            "           1       0.81      0.84      0.83      6629\n",
            "           2       0.91      0.88      0.90     16072\n",
            "\n",
            "    accuracy                           0.87     36467\n",
            "   macro avg       0.86      0.87      0.86     36467\n",
            "weighted avg       0.87      0.87      0.87     36467\n",
            "\n"
          ]
        },
        {
          "output_type": "execute_result",
          "data": {
            "text/plain": [
              "(<sklearn.metrics._plot.confusion_matrix.ConfusionMatrixDisplay at 0x7fa9240eaad0>,\n",
              " None)"
            ]
          },
          "metadata": {},
          "execution_count": 43
        },
        {
          "output_type": "display_data",
          "data": {
            "text/plain": [
              "<Figure size 640x480 with 2 Axes>"
            ],
            "image/png": "[encoded data removed]"
          },
          "metadata": {}
        }
      ]
    },
    {
      "cell_type": "code",
      "source": [
        "np.round(balanced_accuracy_score(y_train.cpu().detach().numpy(), labels.cpu().detach().numpy()), 3)"
      ],
      "metadata": {
        "colab": {
          "base_uri": "https://localhost:8080/"
        },
        "id": "6My0yX8YEyQg",
        "outputId": "87d3bf26-5767-49a7-a03d-0671438c8188"
      },
      "execution_count": null,
      "outputs": [
        {
          "output_type": "execute_result",
          "data": {
            "text/plain": [
              "0.883"
            ]
          },
          "metadata": {},
          "execution_count": 97
        }
      ]
    },
    {
      "cell_type": "markdown",
      "source": [
        "#### Validation"
      ],
      "metadata": {
        "id": "bvoAcxndEyVH"
      }
    },
    {
      "cell_type": "code",
      "source": [
        "with torch.no_grad():\n",
        "    model.eval()\n",
        "    y_out = model(X_dev, seqlen_dev)\n",
        "    labels = y_out.argmax(axis=1)"
      ],
      "metadata": {
        "id": "yC1yzWcwEYQ4"
      },
      "execution_count": null,
      "outputs": []
    },
    {
      "cell_type": "code",
      "source": [
        "plt.rcParams.update(plt.rcParamsDefault)\n",
        "evaluation(labels.cpu().detach().numpy(), y_dev.cpu().detach().numpy())"
      ],
      "metadata": {
        "id": "QQqnzBWENdEl",
        "colab": {
          "base_uri": "https://localhost:8080/",
          "height": 657
        },
        "outputId": "a680a29b-fdfe-4227-d3f2-b150d5fe5a4d"
      },
      "execution_count": null,
      "outputs": [
        {
          "output_type": "stream",
          "name": "stdout",
          "text": [
            "              precision    recall  f1-score   support\n",
            "\n",
            "           0       0.86      0.83      0.84      1559\n",
            "           1       0.77      0.77      0.77       735\n",
            "           2       0.86      0.89      0.87      1758\n",
            "\n",
            "    accuracy                           0.84      4052\n",
            "   macro avg       0.83      0.83      0.83      4052\n",
            "weighted avg       0.84      0.84      0.84      4052\n",
            "\n"
          ]
        },
        {
          "output_type": "execute_result",
          "data": {
            "text/plain": [
              "(<sklearn.metrics._plot.confusion_matrix.ConfusionMatrixDisplay at 0x7f6b8146b510>,\n",
              " None)"
            ]
          },
          "metadata": {},
          "execution_count": 99
        },
        {
          "output_type": "display_data",
          "data": {
            "text/plain": [
              "<Figure size 640x480 with 2 Axes>"
            ],
            "image/png": "[encoded data removed]"
          },
          "metadata": {}
        }
      ]
    },
    {
      "cell_type": "code",
      "source": [
        "np.round(balanced_accuracy_score(y_dev.cpu().detach().numpy(), labels.cpu().detach().numpy()), 3)"
      ],
      "metadata": {
        "id": "l8x62MihNdIh",
        "colab": {
          "base_uri": "https://localhost:8080/"
        },
        "outputId": "6c7bcb8f-e523-44c7-ff83-5a5a82252708"
      },
      "execution_count": null,
      "outputs": [
        {
          "output_type": "execute_result",
          "data": {
            "text/plain": [
              "0.829"
            ]
          },
          "metadata": {},
          "execution_count": 100
        }
      ]
    },
    {
      "cell_type": "markdown",
      "source": [
        "#### Test"
      ],
      "metadata": {
        "id": "GRWNogmcNdNM"
      }
    },
    {
      "cell_type": "code",
      "source": [
        "with torch.no_grad():\n",
        "    model.eval()\n",
        "    y_out = model(X_test, seqlen_test)\n",
        "    labels = y_out.argmax(axis=1)"
      ],
      "metadata": {
        "id": "QRMndxqeHN14"
      },
      "execution_count": null,
      "outputs": []
    },
    {
      "cell_type": "code",
      "source": [
        "plt.rcParams.update(plt.rcParamsDefault)\n",
        "evaluation(labels.cpu().detach().numpy(), y_test.cpu().detach().numpy())"
      ],
      "metadata": {
        "colab": {
          "base_uri": "https://localhost:8080/",
          "height": 657
        },
        "id": "KSs5evFwHN-w",
        "outputId": "641eea78-7dab-4757-b1e4-f6a0a1d0e450"
      },
      "execution_count": null,
      "outputs": [
        {
          "output_type": "stream",
          "name": "stdout",
          "text": [
            "              precision    recall  f1-score   support\n",
            "\n",
            "           0       0.82      0.82      0.82      1632\n",
            "           1       0.70      0.75      0.73       604\n",
            "           2       0.85      0.83      0.84      1544\n",
            "\n",
            "    accuracy                           0.81      3780\n",
            "   macro avg       0.79      0.80      0.79      3780\n",
            "weighted avg       0.81      0.81      0.81      3780\n",
            "\n"
          ]
        },
        {
          "output_type": "execute_result",
          "data": {
            "text/plain": [
              "(<sklearn.metrics._plot.confusion_matrix.ConfusionMatrixDisplay at 0x7fa92408dfd0>,\n",
              " None)"
            ]
          },
          "metadata": {},
          "execution_count": 45
        },
        {
          "output_type": "display_data",
          "data": {
            "text/plain": [
              "<Figure size 640x480 with 2 Axes>"
            ],
            "image/png": "[encoded data removed]"
          },
          "metadata": {}
        }
      ]
    },
    {
      "cell_type": "code",
      "source": [
        "np.round(balanced_accuracy_score(y_test.cpu().detach().numpy(), labels.cpu().detach().numpy()), 3)"
      ],
      "metadata": {
        "colab": {
          "base_uri": "https://localhost:8080/"
        },
        "id": "TmOQg1GKHODq",
        "outputId": "089b9460-7cd2-4628-8025-8af47786123a"
      },
      "execution_count": null,
      "outputs": [
        {
          "output_type": "execute_result",
          "data": {
            "text/plain": [
              "0.809"
            ]
          },
          "metadata": {},
          "execution_count": 103
        }
      ]
    }
  ]
}